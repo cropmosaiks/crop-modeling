{
 "cells": [
  {
   "cell_type": "code",
   "execution_count": 1,
   "id": "665230d5-42fe-49ed-aa67-70dae59a05c0",
   "metadata": {},
   "outputs": [],
   "source": [
    "## import warnings\n",
    "import time\n",
    "import math\n",
    "import os\n",
    "import glob\n",
    "from pyhere import here\n",
    "from datetime import date\n",
    "\n",
    "import numpy as np\n",
    "import pandas as pd\n",
    "import geopandas\n",
    "import pickle\n",
    "\n",
    "import pyarrow\n",
    "import itertools\n",
    "import multiprocessing\n",
    "import p_tqdm\n",
    "\n",
    "from sklearn.linear_model import Ridge, RidgeCV\n",
    "from sklearn.model_selection import train_test_split, KFold, LeaveOneGroupOut, cross_val_score, GridSearchCV, cross_val_predict\n",
    "from sklearn.metrics import r2_score\n",
    "from scipy.stats import spearmanr,  pearsonr"
   ]
  },
  {
   "cell_type": "code",
   "execution_count": 2,
   "id": "edb4ffc0-3601-42bd-88a3-b3b9b7aab06a",
   "metadata": {},
   "outputs": [],
   "source": [
    "hot_encode = True\n",
    "weighhted_avg = True"
   ]
  },
  {
   "cell_type": "code",
   "execution_count": 3,
   "id": "6a768173-bf68-4cc2-8afd-243419ffb99e",
   "metadata": {},
   "outputs": [],
   "source": [
    "f = 'landsat-8-c2-l2_bands-1-2-3-4-5-6-7_ZMB_20k-points_1000-features_yr-2013-2021_mn-4-9_lm-True_cm-True_full.feather'\n",
    "fn = here('data', 'random_features', 'full_files', f)\n",
    "features = pd.read_feather(fn)"
   ]
  },
  {
   "cell_type": "code",
   "execution_count": 4,
   "id": "4e50894b-2c8e-4a22-8180-1b2630abc832",
   "metadata": {},
   "outputs": [],
   "source": [
    "drop_cols = ['year', 'lon', 'lat', 'crop_perc', 'district']\n",
    "\n",
    "if weighhted_avg:\n",
    "    features = features.set_index(drop_cols)\n",
    "    features.rename(columns={x:y for x,y in zip(features.columns,range(0,len(features.columns)))}, inplace=True)\n",
    "    features = features.reset_index()\n",
    "    features.columns = features.columns.astype(str)\n",
    "\n",
    "if hot_encode:\n",
    "    drop_cols.remove('district')\n",
    "    features = pd.get_dummies(features, columns=[\"district\"], drop_first=False)\n",
    "else:\n",
    "    pass\n",
    "\n",
    "features\n",
    "\n",
    "predictions = features.copy()[drop_cols]"
   ]
  },
  {
   "cell_type": "code",
   "execution_count": 6,
   "id": "dfbfdd95-b2bf-44ef-be2f-b44e4c98428a",
   "metadata": {},
   "outputs": [],
   "source": [
    "model_fn_suffix = f.replace('_full.feather', '')+ '_wa-True_he-True'\n",
    "model_fn_suffix \n",
    "\n",
    "k_model_fn = f'k-fold-cv_rr-model_{model_fn_suffix}.pkl'\n",
    "logo_model_fn = f'logo-cv_rr-model_{model_fn_suffix}.pkl'\n",
    "\n",
    "# with open(here('models', k_model_fn),'wb') as f:\n",
    "#     pickle.dump(best_kfold_model, f)\n",
    "        \n",
    "with open(here('models', k_model_fn), 'rb') as f:\n",
    "    best_kfold_model = pickle.load(f)"
   ]
  },
  {
   "cell_type": "code",
   "execution_count": 7,
   "id": "fe23a80f-ef26-48dc-a3ed-ec455d93ba04",
   "metadata": {},
   "outputs": [],
   "source": [
    "# x_all = features.drop(drop_cols, axis = 1) \n",
    "# predictions = best_kfold_model.predict(x_all)"
   ]
  },
  {
   "cell_type": "code",
   "execution_count": 8,
   "id": "50296015-12ce-44d4-b412-7d084d34bbd8",
   "metadata": {},
   "outputs": [],
   "source": [
    "x_all = features.drop(drop_cols, axis = 1) \n",
    "predictions['predictions'] = best_kfold_model.predict(x_all)"
   ]
  },
  {
   "cell_type": "code",
   "execution_count": 33,
   "id": "12dbdd8c-2bdb-4be4-9599-93c55ae158a7",
   "metadata": {},
   "outputs": [],
   "source": [
    "import seaborn as sns\n",
    "import matplotlib.pyplot as plt"
   ]
  },
  {
   "cell_type": "code",
   "execution_count": 84,
   "id": "d3cedde2-b15b-404a-8cea-add1378a7794",
   "metadata": {},
   "outputs": [],
   "source": [
    "def scatter(x, y, c, **kwargs):\n",
    "    del kwargs[\"color\"]\n",
    "    plt.scatter(x, y, c = c, **kwargs)\n",
    "    \n",
    "def yield_plot(**kwargs):\n",
    "    del kwargs[\"color\"]\n",
    "    geopandas.GeoDataFrame.plot('yield_mt',**kwargs)"
   ]
  },
  {
   "cell_type": "code",
   "execution_count": 64,
   "id": "c2ee17b7-8b36-4c81-b5d4-067cf66ae2c5",
   "metadata": {},
   "outputs": [],
   "source": [
    "country_shp = geopandas.read_file(here('data', 'geo_boundaries', 'gadm36_ZMB_2.shp'))\n",
    "country_shp = country_shp.set_index('district')\n",
    "\n",
    "crop_df = pd.read_csv(here('data', 'crop_yield', 'cfs_maize_districts_zambia_2009_2022.csv'))\n",
    "crop_df = crop_df[['district', 'year', 'yield_mt']]\n",
    "crop_df = crop_df.set_index('district')\n",
    "crop_df = crop_df.join(country_shp).reset_index()\n",
    "crop_df = geopandas.GeoDataFrame(crop_df)"
   ]
  },
  {
   "cell_type": "code",
   "execution_count": 86,
   "id": "2b8c8635-6b14-4879-bbe9-461f880f074f",
   "metadata": {},
   "outputs": [],
   "source": [
    "# g = sns.FacetGrid(\n",
    "#     crop_df,\n",
    "#     col='year',\n",
    "#     col_wrap=3,\n",
    "#     height=4, \n",
    "#     aspect=1\n",
    "# )\n",
    "# g.map(yield_plot) "
   ]
  },
  {
   "cell_type": "code",
   "execution_count": 87,
   "id": "2d182387-f766-42c9-a768-ecb4ab3a12d1",
   "metadata": {},
   "outputs": [],
   "source": [
    "# g = sns.FacetGrid(\n",
    "#     predictions,\n",
    "#     col='year',\n",
    "#     col_wrap=3,\n",
    "#     height=4, \n",
    "#     aspect=1\n",
    "# )\n",
    "# g.map(scatter, 'lon', 'lat', 'predictions', s = .25)    "
   ]
  },
  {
   "cell_type": "code",
   "execution_count": null,
   "id": "58260a0a-242e-4ef5-85d5-c86cf587e1f5",
   "metadata": {},
   "outputs": [],
   "source": []
  }
 ],
 "metadata": {
  "kernelspec": {
   "display_name": "Python [conda env:mosaiks-env] *",
   "language": "python",
   "name": "conda-env-mosaiks-env-py"
  },
  "language_info": {
   "codemirror_mode": {
    "name": "ipython",
    "version": 3
   },
   "file_extension": ".py",
   "mimetype": "text/x-python",
   "name": "python",
   "nbconvert_exporter": "python",
   "pygments_lexer": "ipython3",
   "version": "3.8.13"
  }
 },
 "nbformat": 4,
 "nbformat_minor": 5
}
