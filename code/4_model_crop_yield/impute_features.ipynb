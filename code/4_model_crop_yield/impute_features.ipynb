{
 "cells": [
  {
   "cell_type": "markdown",
   "id": "afc81613-5df0-41b8-8922-a241b1ca875d",
   "metadata": {},
   "source": [
    "# Modeling Crop Yield\n",
    "## Python modules"
   ]
  },
  {
   "cell_type": "code",
   "execution_count": 1,
   "id": "12f807a9-4078-43eb-8005-651307577218",
   "metadata": {},
   "outputs": [],
   "source": [
    "import warnings\n",
    "import time\n",
    "import os\n",
    "import glob\n",
    "\n",
    "import dask\n",
    "from dask.distributed import Client\n",
    "\n",
    "import numpy as np\n",
    "import pandas as pd\n",
    "import matplotlib.pyplot as plt\n",
    "import matplotlib.pyplot as plt\n",
    "import matplotlib.colors as colors\n",
    "\n",
    "import geopandas\n",
    "\n",
    "import pyarrow\n",
    "from sklearn.linear_model import RidgeCV\n",
    "from sklearn.model_selection import train_test_split\n",
    "from sklearn.metrics import r2_score\n",
    "from sklearn.metrics import mean_squared_error\n",
    "from sklearn.impute import SimpleImputer\n",
    "from scipy.stats import spearmanr\n",
    "from scipy.linalg import LinAlgWarning\n",
    "from scipy.stats import pearsonr\n",
    "\n",
    "from pyhere import here\n",
    "\n",
    "import math\n",
    "import seaborn as sns\n",
    "\n",
    "from pyhere import here"
   ]
  },
  {
   "cell_type": "code",
   "execution_count": 2,
   "id": "9b72fb9b-3049-4e3f-a3d0-54fe2a8d9a87",
   "metadata": {},
   "outputs": [],
   "source": [
    "# satellite = \"landsat-c2-l2\"\n",
    "# satellite = \"landsat-8-c2-l2\"\n",
    "satellite = \"sentinel-2-l2a\"\n",
    "\n",
    "#bands = \"2-3-4\"\n",
    "# bands = \"2-3-4-8\"\n",
    "# bands = \"1-2-3-4-5-6-7\"\n",
    "# bands = \"r-g-b-nir-swir16-swir22\"\n",
    "bands = \"2-3-4-5-6-7-8-11-12\"\n",
    "\n",
    "month_range = [1, 2, 3, 4, 5, 6, 7, 8, 9, 10, 11, 12]\n",
    "# month_range = [         4, 5, 6, 7, 8, 9            ]\n",
    "\n",
    "# points = 15\n",
    "points = 20\n",
    "\n",
    "include_2013 = True\n",
    "# include_2013 = False\n",
    "\n",
    "cloud_limit = 20\n",
    "na_limit = 25\n",
    "\n",
    "country_code = \"ZMB\"\n",
    "\n",
    "num_features = 1000\n",
    "# num_features = 1024\n",
    "\n",
    "if satellite == \"landsat-c2-l2\":\n",
    "    year_start = 2008\n",
    "elif satellite == \"landsat-8-c2-l2\":\n",
    "    year_start = 2013 \n",
    "else:\n",
    "    year_start = 2015 \n",
    "    \n",
    "year_end = 2021\n",
    "  \n",
    "data_dir = here(\"data\")  \n",
    "\n",
    "feature_file_name = f'{satellite}_bands-{bands}_{country_code}_{points}k-points_{num_features}-features'\n",
    "weight_file_name = f'{country_code}_cropland_percentage_{points}k-points'"
   ]
  },
  {
   "cell_type": "code",
   "execution_count": 8,
   "id": "840a4afc-c9a2-4a1b-85ef-4379f8fabd9a",
   "metadata": {},
   "outputs": [],
   "source": [
    "country_shp = geopandas.read_file(f'{data_dir}/geo_boundaries/gadm36_{country_code}_2.shp')\n",
    "country_districts = country_shp.district.sort_values().unique().tolist()\n",
    "country_shp = country_shp.set_index('district')\n",
    "\n",
    "crop_df_full = pd.read_csv(f'{data_dir}/crop_yield/cfs_maize_districts_zambia_2009_2022.csv')\n",
    "crop_df_full = crop_df_full[crop_df_full.year <= year_end]\n",
    "crop_districts = crop_df_full.district.sort_values().unique().tolist()\n",
    "crop_df = crop_df_full[['district', 'year', 'yield_mt']]\n",
    "crop_df = crop_df.set_index('district')\n",
    "\n",
    "weights = pd.read_feather(f\"{data_dir}/land_cover/{weight_file_name}.feather\")\n",
    "weights.lon, weights.lat = round(weights.lon, 5), round(weights.lat, 5)"
   ]
  },
  {
   "cell_type": "code",
   "execution_count": 10,
   "id": "0c8b14f6-d4fd-4dcc-9d86-82cfd3766fad",
   "metadata": {},
   "outputs": [],
   "source": [
    "def get_merged_files(flist, **kwargs):\n",
    "    return pd.concat([pd.read_feather(f, **kwargs) for f in flist], axis=0).reset_index(drop=True)"
   ]
  },
  {
   "cell_type": "code",
   "execution_count": 11,
   "id": "e273a4c5-732c-4910-8902-43156b7f2997",
   "metadata": {},
   "outputs": [],
   "source": [
    "file = (f'{satellite}_bands-{bands}_{country_code}_{points}'+\n",
    "             f'k-points_{num_features}-features_*')\n",
    "path = str(here('data', 'random_features', satellite))+f'/{file}'\n",
    "files = glob.glob(pathname=path)\n",
    "# files"
   ]
  },
  {
   "cell_type": "code",
   "execution_count": null,
   "id": "390ce3f5-7c36-4af5-b528-5a594d0303dc",
   "metadata": {},
   "outputs": [],
   "source": [
    "features = get_merged_files(files)\n",
    "features.na_percent = features.na_percent * 100"
   ]
  },
  {
   "cell_type": "code",
   "execution_count": null,
   "id": "d2c35a60-04c4-4914-8cbc-0eeb125a0863",
   "metadata": {},
   "outputs": [],
   "source": [
    "features = features.sort_values(by = ['year', 'month']).reset_index(drop=True)\n",
    "# features"
   ]
  },
  {
   "cell_type": "code",
   "execution_count": null,
   "id": "532cd106-139d-4987-a434-53c71e0696fb",
   "metadata": {},
   "outputs": [],
   "source": [
    "if include_2013 & (satellite == \"landsat-8-c2-l2\") & (month_range == [4, 5, 6, 7, 8, 9]):\n",
    "    month_start = 4\n",
    "else:\n",
    "    month_start = 10\n",
    "    \n",
    "keep = np.where(\n",
    "    ((features.year == year_start) & (features.month >= month_start)) | (features.year > year_start),\n",
    "    True, False\n",
    ")\n",
    "features = features[keep]"
   ]
  },
  {
   "cell_type": "code",
   "execution_count": null,
   "id": "1f5e99b8-3f86-4c3b-8a8f-b2029235ffe2",
   "metadata": {},
   "outputs": [],
   "source": [
    "features['year'] = np.where(\n",
    "    features['month'].isin([10, 11, 12]),\n",
    "    features['year'] + 1, \n",
    "    features['year']\n",
    ")\n",
    "\n",
    "features = features[features['year'] <= year_end]\n",
    "# features"
   ]
  },
  {
   "cell_type": "markdown",
   "id": "066ac2bc-e599-4a1c-86e8-461770902065",
   "metadata": {},
   "source": [
    "Add logic  to calculate summary stats here. Carry over cloud cover"
   ]
  },
  {
   "cell_type": "code",
   "execution_count": null,
   "id": "ea3e0866-b112-4336-b226-07bab6a5f01f",
   "metadata": {},
   "outputs": [],
   "source": [
    "feat_name = (f'{satellite}_bands-{bands}_{country_code}_{points}'+\n",
    "             f'k-points_{num_features}-features_meta')\n",
    "meta_file = str(here('data', 'random_features', 'feature_meta_data', f'{file[:-2]}_meta.feather'))\n",
    "meta_df = features[['year',  'month', 'crop_perc', 'stac_id', 'platform', 'cloud_cover', 'na_percent']]\n",
    "meta_df.to_feather(meta_file)"
   ]
  },
  {
   "cell_type": "code",
   "execution_count": null,
   "id": "6787f022-dde0-4261-91dd-b704b370d415",
   "metadata": {},
   "outputs": [],
   "source": [
    "# meta_summary = pd\\\n",
    "#     .get_dummies(\n",
    "#         features[['year',  'month', 'crop_perc', 'platform', 'cloud_cover', 'na_percent']],\n",
    "#         columns=[\"platform\"], \n",
    "#         drop_first=False,\n",
    "#         prefix = \"\", prefix_sep = \"\")\\\n",
    "#     .groupby(\n",
    "#         ['year',  'month'], as_index=False)\\\n",
    "#     .agg(\n",
    "#         {\n",
    "#             'crop_perc':'mean', \n",
    "#             'cloud_cover': 'mean',\n",
    "#             'na_percent': 'mean',\n",
    "#             'landsat-5': 'sum',\n",
    "#             'landsat-7': 'sum',\n",
    "#             'landsat-8': 'sum',\n",
    "#             # 'landsat-9': 'sum'\n",
    "#         }\n",
    "# )\n",
    "# meta_summary"
   ]
  },
  {
   "cell_type": "code",
   "execution_count": null,
   "id": "77af2b41-084a-4318-a81b-ce4ad7cb02ac",
   "metadata": {},
   "outputs": [],
   "source": [
    "features = features[features.month.isin(month_range)]\n",
    "features = features[features.cloud_cover < cloud_limit]\n",
    "features = features[features.na_percent < na_limit]\n",
    "features.drop(['crop_perc','stac_id', 'cloud_cover', 'na_percent', 'platform'],axis=1, inplace=True)\n",
    "# features"
   ]
  },
  {
   "cell_type": "code",
   "execution_count": null,
   "id": "cbb88a0e-c593-4d64-940a-9849f4b03519",
   "metadata": {},
   "outputs": [],
   "source": [
    "features = features.set_index(['lon','lat', \"year\", 'month']).unstack()\n",
    "features.columns = features.columns.map(lambda x: '{}_{}'.format(*x))\n",
    "# features"
   ]
  },
  {
   "cell_type": "code",
   "execution_count": null,
   "id": "3655269c-f36a-4f58-8eb7-b12ac2152997",
   "metadata": {},
   "outputs": [],
   "source": [
    "features.replace([np.inf, -np.inf], np.nan, inplace=True)\n",
    "features = features.reset_index()\n",
    "# features"
   ]
  },
  {
   "cell_type": "code",
   "execution_count": null,
   "id": "8142fdef-7111-4ae2-afd8-705ea457dafd",
   "metadata": {},
   "outputs": [],
   "source": [
    "features = features.join(weights.set_index(['lon', 'lat']), on = ['lon', 'lat'])\n",
    "features = features.drop([\"geometry\"], axis = 1)\n",
    "# features"
   ]
  },
  {
   "cell_type": "code",
   "execution_count": null,
   "id": "eeb320fc-07bb-4ad4-a5df-c5df74ec32b2",
   "metadata": {},
   "outputs": [],
   "source": [
    "features = geopandas.GeoDataFrame(\n",
    "    features, \n",
    "    geometry = geopandas.points_from_xy(x = features.lon, y = features.lat), \n",
    "    crs='EPSG:4326'\n",
    ")"
   ]
  },
  {
   "cell_type": "code",
   "execution_count": null,
   "id": "726f236b-42d9-49f6-aeee-22646d7dbd32",
   "metadata": {},
   "outputs": [],
   "source": [
    "features = features.sjoin(country_shp, how = 'left', predicate = 'within')\n",
    "# features"
   ]
  },
  {
   "cell_type": "code",
   "execution_count": null,
   "id": "66b24fc9-765e-4835-b81f-fd26cf373929",
   "metadata": {},
   "outputs": [],
   "source": [
    "features = (\n",
    "    features\n",
    "    .dropna(subset=['index_right'])\n",
    "    .rename(columns = {\"index_right\": \"district\",})\n",
    "    .reset_index(drop = True)\n",
    ")\n",
    "features = features.drop(['geometry'], axis = 1)\n",
    "# features"
   ]
  },
  {
   "cell_type": "code",
   "execution_count": null,
   "id": "515d8f17-a68d-4041-8593-1bdf7ae046d1",
   "metadata": {},
   "outputs": [],
   "source": [
    "class bcolors:\n",
    "    BL = '\\x1b[1;34m' # BLUE\n",
    "    GR = '\\x1b[1;36m' # GREEN\n",
    "    YL = '\\x1b[1;33m' # YELLOW\n",
    "    RD = '\\x1b[1;31m' # RED\n",
    "    RESET = '\\033[0m' # RESET COLOR"
   ]
  },
  {
   "cell_type": "code",
   "execution_count": null,
   "id": "8239ff39-5d8d-4bbf-9f30-148bc7ad82b3",
   "metadata": {},
   "outputs": [],
   "source": [
    "%%time\n",
    "num_cells = len(features) * len(month_range) * num_features\n",
    "ln_ft = len(features)\n",
    "ln_na = len(features.dropna())\n",
    "print(f'Starting total row count: {bcolors.BL}{ln_ft}{bcolors.RESET}',\n",
    "      f'\\nPre-Impute NaN row count: {bcolors.RD}{ln_ft - ln_na}{bcolors.RESET}',\n",
    "      f'\\nPre-Impute NaN row %: {bcolors.RD}{((ln_ft - ln_na) / ln_ft)*100:.02f}{bcolors.RESET}',\n",
    "      f'\\nPre-Impute NaN cell %: {bcolors.RD}{(features.isna().sum().sum() / num_cells)*100:.02f}{bcolors.RESET}',\n",
    "      f'\\n\\nStep 1: Filling NaN values by month, year, and district group average')\n",
    "features = (\n",
    "    features\n",
    "    .fillna(features\n",
    "            .groupby(['year', 'district'], as_index=False)\n",
    "            .transform('mean')\n",
    "           )\n",
    ")\n",
    "ln_ft = len(features)\n",
    "ln_na = len(features.dropna())\n",
    "print(f'Post step 1 NaN row count: {bcolors.YL}{ln_ft - ln_na}{bcolors.RESET}',\n",
    "      f'\\nPost step 1 NaN row %: {bcolors.YL}{((ln_ft - ln_na) / ln_ft)*100:.02f}{bcolors.RESET}',\n",
    "      f'\\nPost step 1 NaN cell %: {bcolors.YL}{(features.isna().sum().sum() / num_cells)*100:.02f}{bcolors.RESET}',\n",
    "      f'\\n\\nStep 2: Filling NaN values by month and district across group average')\n",
    "features = (\n",
    "    features\n",
    "    .fillna(features\n",
    "            .groupby(['district'], as_index=False)\n",
    "            .transform('mean')\n",
    "           )\n",
    ")\n",
    "ln_ft = len(features)\n",
    "ln_na = len(features.dropna())\n",
    "print(f'Post step 2 NaN row count: {bcolors.GR}{ln_ft - ln_na}{bcolors.RESET}',\n",
    "      f'\\nPost step 2 NaN row %: {bcolors.GR}{((ln_ft - ln_na) / ln_ft)*100:.02f}{bcolors.RESET}',\n",
    "      f'\\nPost step 2 NaN cell %: {bcolors.GR}{(features.isna().sum().sum() / num_cells)*100:.02f}{bcolors.RESET}',\n",
    "      f'\\n\\nStep 3: Drop remaining NaN values\\n')\n",
    "features = features.dropna(axis=0)\n",
    "print(f'Ending total row count: {bcolors.BL}{len(features)}{bcolors.RESET}')"
   ]
  },
  {
   "cell_type": "code",
   "execution_count": null,
   "id": "5ebf262e-c9c6-4714-aa28-bf844aa40287",
   "metadata": {},
   "outputs": [],
   "source": [
    "features"
   ]
  },
  {
   "cell_type": "code",
   "execution_count": null,
   "id": "92ff4fd7-0216-47ab-bbdf-eea6cec7fce3",
   "metadata": {},
   "outputs": [],
   "source": [
    "full_file = here(\n",
    "    'data', \n",
    "    'random_features', \n",
    "    'full_files',\n",
    "    f'{file[:-1]}yr-{min(features.year)}-{max(features.year)}_mn-{min(month_range)}-\\\n",
    "{max(month_range)}_cloud-limit-{cloud_limit}_na-limit-{na_limit}.feather')\n",
    "full_file"
   ]
  },
  {
   "cell_type": "code",
   "execution_count": null,
   "id": "eb89908b-4a30-415d-9e07-0e3f614a359b",
   "metadata": {},
   "outputs": [],
   "source": [
    "features.reset_index(drop=True).to_feather(full_file)"
   ]
  },
  {
   "cell_type": "code",
   "execution_count": null,
   "id": "4264bd1b-c19f-48ff-b4c9-9ae48cac38c3",
   "metadata": {},
   "outputs": [],
   "source": [
    "# features.filter(regex=fr'_[{min(month_range)}-{max(month_range)}]|year|crop_perc|district', axis=1)"
   ]
  },
  {
   "cell_type": "code",
   "execution_count": null,
   "id": "b0ead457-15b1-46c5-bf10-959a19ee8840",
   "metadata": {},
   "outputs": [],
   "source": []
  }
 ],
 "metadata": {
  "kernelspec": {
   "display_name": "Python 3 (ipykernel)",
   "language": "python",
   "name": "python3"
  },
  "language_info": {
   "codemirror_mode": {
    "name": "ipython",
    "version": 3
   },
   "file_extension": ".py",
   "mimetype": "text/x-python",
   "name": "python",
   "nbconvert_exporter": "python",
   "pygments_lexer": "ipython3",
   "version": "3.8.13"
  }
 },
 "nbformat": 4,
 "nbformat_minor": 5
}
