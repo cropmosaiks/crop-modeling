{
 "cells": [
  {
   "cell_type": "markdown",
   "id": "0fe56655",
   "metadata": {},
   "source": [
    "# Modeling Crop Yield\n",
    "## Python modules"
   ]
  },
  {
   "cell_type": "code",
   "execution_count": 1,
   "id": "5b4f19f5",
   "metadata": {},
   "outputs": [],
   "source": [
    "import warnings\n",
    "import time\n",
    "import os\n",
    "\n",
    "import dask\n",
    "from dask.distributed import Client\n",
    "\n",
    "import numpy as np\n",
    "import pandas as pd\n",
    "import matplotlib.pyplot as plt\n",
    "import matplotlib.pyplot as plt\n",
    "import matplotlib.colors as colors\n",
    "\n",
    "import geopandas\n",
    "\n",
    "import pyarrow\n",
    "from sklearn.linear_model import RidgeCV\n",
    "from sklearn.model_selection import train_test_split\n",
    "from sklearn.metrics import r2_score\n",
    "from sklearn.metrics import mean_squared_error\n",
    "from sklearn.impute import SimpleImputer\n",
    "from scipy.stats import spearmanr\n",
    "from scipy.linalg import LinAlgWarning\n",
    "from scipy.stats import pearsonr\n",
    "\n",
    "from pyhere import here\n",
    "\n",
    "import math\n",
    "import seaborn as sns\n",
    "\n",
    "from pyhere import here"
   ]
  },
  {
   "cell_type": "code",
   "execution_count": 2,
   "id": "cb13001c",
   "metadata": {},
   "outputs": [],
   "source": [
    "satellite = \"landsat-c2-l2\"\n",
    "# satellite = \"landsat-8-c2-l2\"\n",
    "# satellite = \"sentinel-2-l2a\""
   ]
  },
  {
   "cell_type": "code",
   "execution_count": 3,
   "id": "6155e23e",
   "metadata": {},
   "outputs": [],
   "source": [
    "#bands = \"2-3-4\"\n",
    "# bands = \"2-3-4-8\"\n",
    "# bands = \"1-2-3-4-5-6-7\"\n",
    "bands = \"r-g-b-nir-swir16-swir22\"\n",
    "# bands = \"2-3-4-5-6-7-8-11-12\""
   ]
  },
  {
   "cell_type": "code",
   "execution_count": 4,
   "id": "6a903025",
   "metadata": {},
   "outputs": [],
   "source": [
    "# points = 15\n",
    "points = 20"
   ]
  },
  {
   "cell_type": "code",
   "execution_count": 5,
   "id": "def9380e",
   "metadata": {},
   "outputs": [],
   "source": [
    "# crop_mask = True\n",
    "crop_mask = False"
   ]
  },
  {
   "cell_type": "code",
   "execution_count": 6,
   "id": "fccb6992",
   "metadata": {},
   "outputs": [],
   "source": [
    "#weighted_avg = True\n",
    "weighted_avg = False"
   ]
  },
  {
   "cell_type": "code",
   "execution_count": 7,
   "id": "4e1a5587",
   "metadata": {},
   "outputs": [],
   "source": [
    "# month_range = [1, 2, 3, 4, 5, 6, 7, 8, 9, 10, 11, 12]\n",
    "# month_range = [      3, 4, 5, 6, 7, 8, 9            ]\n",
    "month_range = [         4, 5, 6, 7, 8, 9            ]\n",
    "# month_range = [            5, 6, 7, 8, 9            ]\n",
    "# month_range = [         4, 5, 6, 7, 8               ]\n",
    "# month_range = [            5, 6, 7, 8               ]"
   ]
  },
  {
   "cell_type": "code",
   "execution_count": 8,
   "id": "c9662e99",
   "metadata": {},
   "outputs": [],
   "source": [
    "impute_manual = True\n",
    "# impute_manual = False"
   ]
  },
  {
   "cell_type": "code",
   "execution_count": 9,
   "id": "4a114312-ae97-4575-81a9-a715217a7f8d",
   "metadata": {},
   "outputs": [],
   "source": [
    "include_2013 = True\n",
    "# include_2013 = False"
   ]
  },
  {
   "cell_type": "code",
   "execution_count": 10,
   "id": "026f29eb",
   "metadata": {},
   "outputs": [],
   "source": [
    "country_code = \"ZMB\"\n",
    "\n",
    "# num_features = 1000\n",
    "num_features = 1024\n",
    "\n",
    "if satellite == \"landsat-c2-l2\":\n",
    "    year_start = 2008\n",
    "elif satellite == \"landsat-8-c2-l2\":\n",
    "    year_start = 2013 # Landsat 8 only\n",
    "else:\n",
    "    year_start = 2015 # Sentinel\n",
    "    \n",
    "year_end = 2018\n",
    "year_end_crops = 2018\n",
    "\n",
    "data_dir = \"/capstone/cropmosaiks/data\"  \n",
    "data_dir = here(\"data\")  \n",
    "\n",
    "feature_file_name = (f'{satellite}_bands-{bands}_{country_code}_{points}k-points_{num_features}-features')\n",
    "# ZMB_cropland_percentage_20k-points\n",
    "weight_file_name = (f'{country_code}_cropland_percentage_{points}k-points')\n",
    "\n",
    "if points == \"4\":\n",
    "    marker_sz = 60\n",
    "elif points == \"15\":\n",
    "    marker_sz = 15\n",
    "elif points == \"24\":\n",
    "    marker_sz = 10\n",
    "else:\n",
    "    marker_sz = 8"
   ]
  },
  {
   "cell_type": "code",
   "execution_count": 4,
   "id": "a28fd026",
   "metadata": {},
   "outputs": [],
   "source": [
    "country_shp = geopandas.read_file(f'{data_dir}/geo_boundaries/gadm36_{country_code}_2.shp')\n",
    "country_shp = country_shp.rename(columns = {'NAME_2': 'district'})[['district', 'geometry']]\n",
    "country_shp.district = country_shp.district.replace(\"MPongwe\", 'Mpongwe', regex=True)\n",
    "country_districts = country_shp.district.sort_values().unique().tolist()\n",
    "country_shp = country_shp.set_index('district')\n",
    "country_shp.shape\n",
    "# country_shp.plot(figsize = (12,10), linewidth = 1, edgecolor = 'black' )\n",
    "# country_shp.plot()"
   ]
  },
  {
   "cell_type": "code",
   "execution_count": 12,
   "id": "f1cc9106",
   "metadata": {},
   "outputs": [
    {
     "data": {
      "text/plain": [
       "74"
      ]
     },
     "execution_count": 12,
     "metadata": {},
     "output_type": "execute_result"
    }
   ],
   "source": [
    "# crop_df_full = pd.read_csv(data_dir+'/crops/cfs_maize_districts_zambia_2009_2018.csv')\n",
    "crop_df_full = pd.read_csv(f'{data_dir}/crop_yield/cfs_maize_districts_zambia_2009_2022.csv')\n",
    "crop_df_full = crop_df_full[crop_df_full.year <= year_end_crops]\n",
    "# crop_df_full.district = crop_df_full.district.replace(\n",
    "#     {\"Itezhi-tezhi\": 'Itezhi-Tezhi',\n",
    "#      \"Kapiri-Mposhi\": 'Kapiri Mposhi',\n",
    "#      \"Kapiri mposhi\": 'Kapiri Mposhi',\n",
    "#      \"Shang'ombo\": 'Shangombo',\n",
    "#      \"Chienge\": 'Chiengi'\n",
    "#     }, regex=True)\n",
    "crop_districts = crop_df_full.district.sort_values().unique().tolist()\n",
    "crop_df = crop_df_full[['district', 'year', 'yield_mt']]\n",
    "ln = len(crop_df[crop_df.year == 2016].district)\n",
    "crop_df = crop_df.set_index('district')\n",
    "ln\n",
    "# crop_df_full\n",
    "# crop_df"
   ]
  },
  {
   "cell_type": "code",
   "execution_count": 13,
   "id": "f293d3b8",
   "metadata": {},
   "outputs": [
    {
     "data": {
      "text/plain": [
       "['Mafinga', 'Ikelenge']"
      ]
     },
     "execution_count": 13,
     "metadata": {},
     "output_type": "execute_result"
    }
   ],
   "source": [
    "list(set(crop_districts) - set(country_districts))"
   ]
  },
  {
   "cell_type": "code",
   "execution_count": 14,
   "id": "e5c55cbe",
   "metadata": {},
   "outputs": [
    {
     "data": {
      "text/plain": [
       "[]"
      ]
     },
     "execution_count": 14,
     "metadata": {},
     "output_type": "execute_result"
    }
   ],
   "source": [
    "list(set(country_districts) - set(crop_districts))"
   ]
  },
  {
   "cell_type": "code",
   "execution_count": 15,
   "id": "1bdc3c62",
   "metadata": {},
   "outputs": [],
   "source": [
    "country_crop = geopandas.GeoDataFrame(crop_df.join(country_shp), crs = country_shp.crs)"
   ]
  },
  {
   "cell_type": "code",
   "execution_count": 16,
   "id": "575c05e5",
   "metadata": {},
   "outputs": [],
   "source": [
    "weights = pd.read_feather(f\"{data_dir}/land_cover/{weight_file_name}.feather\")\n",
    "# weights"
   ]
  },
  {
   "cell_type": "code",
   "execution_count": 3,
   "id": "6ee9d980",
   "metadata": {},
   "outputs": [],
   "source": [
    "weights_gdf = geopandas.GeoDataFrame(\n",
    "    weights, \n",
    "    geometry = geopandas.points_from_xy(x = weights.lon, y = weights.lat), \n",
    "    crs='EPSG:4326'\n",
    ")\n",
    "weights_gdf.plot(figsize = (10,10),\n",
    "                 cmap = 'inferno',\n",
    "                 markersize = marker_sz,\n",
    "                 alpha = .9,\n",
    "                 column = 'crop_perc')\n",
    "# plt.axis('off')"
   ]
  },
  {
   "cell_type": "code",
   "execution_count": 18,
   "id": "f9aa0cfe",
   "metadata": {},
   "outputs": [],
   "source": [
    "weights.crop_perc = weights.crop_perc.fillna(0)\n",
    "# #weights.crop_perc = weights.crop_perc + 0.0001"
   ]
  },
  {
   "cell_type": "code",
   "execution_count": null,
   "id": "1c1de56f-859f-4c0b-8682-1b5908d1cee0",
   "metadata": {},
   "outputs": [],
   "source": [
    "def get_merged_files(flist, **kwargs):\n",
    "    return pd.concat([pd.read_feather(f, **kwargs) for f in flist], axis=0)\n",
    "\n",
    "# satellite = \"landsat-8-c2-l2\"\n",
    "# satellite = \"sentinel-2-l2a\"\n",
    "satellite = \"landsat-c2-l2\"\n",
    "\n",
    "country_code = 'ZMB' # 'TZA' # 'NGA'\n",
    "\n",
    "# points = 15\n",
    "points = 20\n",
    "\n",
    "num_features = 1024\n",
    "\n",
    "# bands_short = \"2-3-4\"\n",
    "# bands_short = \"2-3-4-8\"\n",
    "# bands_short = \"1-2-3-4-5-6-7\"\n",
    "bands_short = \"r-g-b-nir-swir16-swir22\"\n",
    "# bands_short = \"2-3-4-5-6-7-8-11-12\"\n",
    "\n",
    "files = (f'{satellite}_bands-{bands_short}_{country_code}_{points}'+\n",
    "             f'k-points_{num_features}-features_*')\n",
    "files\n",
    "\n",
    "path = str(here('data', 'random_features', satellite))+'\\\\*.feather'\n",
    "files = glob.glob(pathname=path)\n",
    "features = get_merged_files(files)\n",
    "features = features.sort_values(by = ['year', 'month']).reset_index()"
   ]
  },
  {
   "cell_type": "code",
   "execution_count": 1,
   "id": "55409ca0",
   "metadata": {},
   "outputs": [],
   "source": [
    "# features = geopandas.GeoDataFrame()\n",
    "\n",
    "# for yr in range(year_start, year_end + 1):\n",
    "#     print(f\"Opening: {feature_file_name}_{yr}.feather\")\n",
    "#     features_x = pd.read_feather(f\"{data_dir}/random_features/{satellite}/{feature_file_name}_{yr}.feather\")\n",
    "\n",
    "#     # concatenate the feather files together, axis = 0 specifies to stack rows (rather than adding columns)\n",
    "#     features = pd.concat([features, features_x], axis=0)\n",
    "    \n",
    "#     print(\"feature.shape\", features.shape)\n",
    "#     print(\"Appending:\", yr)\n",
    "#     print(\"\")"
   ]
  },
  {
   "cell_type": "code",
   "execution_count": 20,
   "id": "8335a372-43e8-48ca-a2dd-bfb5df5d73da",
   "metadata": {},
   "outputs": [
    {
     "name": "stdout",
     "output_type": "stream",
     "text": [
      "10\n"
     ]
    }
   ],
   "source": [
    "if include_2013 & (satellite == \"landsat-8-c2-l2\") & (month_range == [4, 5, 6, 7, 8, 9]):\n",
    "    month_start = 4\n",
    "else:\n",
    "    month_start = 10\n",
    "    \n",
    "keep = np.where(\n",
    "    ((features.year == year_start) & (features.month >= month_start)) | (features.year > year_start),\n",
    "    True, False\n",
    ")\n",
    "features = features[keep]"
   ]
  },
  {
   "cell_type": "code",
   "execution_count": 21,
   "id": "2a8b4918",
   "metadata": {},
   "outputs": [],
   "source": [
    "# carry months October, November, and December over to the following year's data\n",
    "# these months represent the start of the growing season for the following year's maize yield\n",
    "features['year'] = np.where(\n",
    "    features['month'].isin([10, 11, 12]),\n",
    "    features['year'] + 1, \n",
    "    features['year'])\n",
    "\n",
    "features = features[features['year'] <= year_end]\n",
    "\n",
    "features.sort_values(['year', 'month'], inplace=True)"
   ]
  },
  {
   "cell_type": "code",
   "execution_count": 22,
   "id": "a4b2d613",
   "metadata": {},
   "outputs": [],
   "source": [
    "# subset the features to only the month range selected at the top of the notebook\n",
    "features = features[features.month.isin(month_range)]"
   ]
  },
  {
   "cell_type": "code",
   "execution_count": 23,
   "id": "0cac4697",
   "metadata": {},
   "outputs": [],
   "source": [
    "features = features.set_index(['lon','lat', \"year\", 'month']).unstack()\n",
    "features.columns = features.columns.map(lambda x: '{}_{}'.format(*x))"
   ]
  },
  {
   "cell_type": "code",
   "execution_count": 24,
   "id": "1845e697",
   "metadata": {},
   "outputs": [],
   "source": [
    "features.replace([np.inf, -np.inf], np.nan, inplace=True)\n",
    "features = features.reset_index()\n",
    "# features"
   ]
  },
  {
   "cell_type": "code",
   "execution_count": 25,
   "id": "9e42e177",
   "metadata": {},
   "outputs": [],
   "source": [
    "features = features.join(weights.set_index(['lon', 'lat']), on = ['lon', 'lat'])\n",
    "features = features.drop([\"geometry\"], axis = 1)\n",
    "# features"
   ]
  },
  {
   "cell_type": "code",
   "execution_count": 26,
   "id": "c9d65ec1",
   "metadata": {},
   "outputs": [],
   "source": [
    "# any 1 km^2 cell with a crop percentage > 0 will be retained\n",
    "# the mask will not be applied if crop_mask is set to False at the top of this notebook\n",
    "if crop_mask:\n",
    "    features = features[features.crop_perc > 0]\n",
    "else:\n",
    "    pass\n",
    "# features"
   ]
  },
  {
   "cell_type": "code",
   "execution_count": 27,
   "id": "dee1f8b2",
   "metadata": {},
   "outputs": [],
   "source": [
    "features = geopandas.GeoDataFrame(\n",
    "    features, \n",
    "    geometry = geopandas.points_from_xy(x = features.lon, y = features.lat), \n",
    "    crs='EPSG:4326'\n",
    ")"
   ]
  },
  {
   "cell_type": "code",
   "execution_count": 28,
   "id": "94b47a12",
   "metadata": {},
   "outputs": [],
   "source": [
    "# Drop the redundant independent lon and lat columns because now that they are in a separate geometry column, there is no need for these columns\n",
    "features = features.drop(['lon', 'lat'], axis = 1)"
   ]
  },
  {
   "cell_type": "code",
   "execution_count": 5,
   "id": "c0fba002",
   "metadata": {},
   "outputs": [],
   "source": [
    "features = features.sjoin(country_shp, how = 'left', predicate = 'within')\n",
    "# features"
   ]
  },
  {
   "cell_type": "code",
   "execution_count": 6,
   "id": "84705c9a",
   "metadata": {},
   "outputs": [],
   "source": [
    "# Drop NA's from the district column (called index_right) then rename the column index_right to district\n",
    "features = (\n",
    "    features\n",
    "    # drop NA values in the `index_right` column, then rename that column to `district` for clarity\n",
    "    .dropna(subset=['index_right'])\n",
    "    .rename(columns = {\"index_right\": \"district\",})\n",
    "    .reset_index(drop = True)\n",
    ")\n",
    "# make a copy of the features, assigned to an object so we can plot the points as they are in this state\n",
    "# later, after imputation, we also copy the entire features df and save that as an object in case we want to plot or work with them in that stage \n",
    "points = features.copy()\n",
    "# save the geometries as an object to join them later to the rows of crop yield predictions\n",
    "points = features[['geometry']]\n",
    "# save the years as an object to join them later to the rows\n",
    "year = features[['year']]\n",
    "# drop geometry column for 20/21 features\n",
    "features = features.drop(['geometry'], axis = 1)\n",
    "# features"
   ]
  },
  {
   "cell_type": "code",
   "execution_count": 32,
   "id": "c1c9cfbb",
   "metadata": {
    "tags": []
   },
   "outputs": [],
   "source": [
    "# compute the number of cells in the features dataframe, based on the amount of rows (images), months, and feature columns\n",
    "num_cells = len(features) * len(month_range) * num_features"
   ]
  },
  {
   "cell_type": "code",
   "execution_count": 33,
   "id": "5cca7eda-15bb-4d0f-8706-f8665424aaeb",
   "metadata": {},
   "outputs": [],
   "source": [
    "class bcolors:\n",
    "    BL = '\\x1b[1;34m' #GREEN\n",
    "    GR = '\\x1b[1;36m' #GREEN\n",
    "    YL = '\\x1b[1;33m' #YELLOW\n",
    "    RD = '\\x1b[1;31m' #RED\n",
    "    RESET = '\\033[0m' #RESET COLOR"
   ]
  },
  {
   "cell_type": "code",
   "execution_count": 34,
   "id": "f1be2c7c-37e1-4bf9-80fc-d0554a14f2d6",
   "metadata": {},
   "outputs": [
    {
     "name": "stdout",
     "output_type": "stream",
     "text": [
      "Starting total row count: \u001b[1;34m195980\u001b[0m \n",
      "Pre-Impute NaN row count: \u001b[1;31m84692\u001b[0m \n",
      "Pre-Impute NaN row %: \u001b[1;31m43.21\u001b[0m \n",
      "Pre-Impute NaN cell %: \u001b[1;31m15.23\u001b[0m \n",
      "\n",
      "Step 1: Filling NaN values by month, year, and district group average\n",
      "Post step 1 NaN row count: \u001b[1;33m55632\u001b[0m \n",
      "Post step 1 NaN row %: \u001b[1;33m28.39\u001b[0m \n",
      "Post step 1 NaN cell %: \u001b[1;33m8.55\u001b[0m \n",
      "\n",
      "Step 2: Filling NaN values by month and district across group average\n",
      "Post step 2 NaN row count: \u001b[1;36m0\u001b[0m \n",
      "Post step 2 NaN row %: \u001b[1;36m0.00\u001b[0m \n",
      "Post step 2 NaN cell %: \u001b[1;36m0.00\u001b[0m \n",
      "\n",
      "Step 3: Drop remaining NaN values\n",
      "\n",
      "Ending total row count: \u001b[1;34m195980\u001b[0m\n",
      "CPU times: total: 9min 54s\n",
      "Wall time: 20min 6s\n"
     ]
    }
   ],
   "source": [
    "%%time\n",
    "if impute_manual:\n",
    "    ln_ft = len(features)\n",
    "    ln_na = len(features.dropna())\n",
    "    print(f'Starting total row count: {bcolors.BL}{ln_ft}{bcolors.RESET}',\n",
    "          f'\\nPre-Impute NaN row count: {bcolors.RD}{ln_ft - ln_na}{bcolors.RESET}',\n",
    "          f'\\nPre-Impute NaN row %: {bcolors.RD}{((ln_ft - ln_na) / ln_ft)*100:.02f}{bcolors.RESET}',\n",
    "          f'\\nPre-Impute NaN cell %: {bcolors.RD}{(features.isna().sum().sum() / num_cells)*100:.02f}{bcolors.RESET}',\n",
    "          f'\\n\\nStep 1: Filling NaN values by month, year, and district group average')\n",
    "    features = (\n",
    "        features\n",
    "        .fillna(features\n",
    "                .groupby(['year', 'district'], as_index=False)\n",
    "                .transform('mean')\n",
    "               )\n",
    "    )\n",
    "    ln_ft = len(features)\n",
    "    ln_na = len(features.dropna())\n",
    "    print(f'Post step 1 NaN row count: {bcolors.YL}{ln_ft - ln_na}{bcolors.RESET}',\n",
    "          f'\\nPost step 1 NaN row %: {bcolors.YL}{((ln_ft - ln_na) / ln_ft)*100:.02f}{bcolors.RESET}',\n",
    "          f'\\nPost step 1 NaN cell %: {bcolors.YL}{(features.isna().sum().sum() / num_cells)*100:.02f}{bcolors.RESET}',\n",
    "          f'\\n\\nStep 2: Filling NaN values by month and district across group average')\n",
    "    features = (\n",
    "        features\n",
    "        .fillna(features\n",
    "                .groupby(['district'], as_index=False)\n",
    "                .transform('mean')\n",
    "               )\n",
    "    )\n",
    "    ln_ft = len(features)\n",
    "    ln_na = len(features.dropna())\n",
    "    print(f'Post step 2 NaN row count: {bcolors.GR}{ln_ft - ln_na}{bcolors.RESET}',\n",
    "          f'\\nPost step 2 NaN row %: {bcolors.GR}{((ln_ft - ln_na) / ln_ft)*100:.02f}{bcolors.RESET}',\n",
    "          f'\\nPost step 2 NaN cell %: {bcolors.GR}{(features.isna().sum().sum() / num_cells)*100:.02f}{bcolors.RESET}',\n",
    "          f'\\n\\nStep 3: Drop remaining NaN values\\n')\n",
    "    features = features.dropna(axis=0)\n",
    "    print(f'Ending total row count: {bcolors.BL}{len(features)}{bcolors.RESET}')\n",
    "else:\n",
    "    features = features.set_index(['year', 'district'])\n",
    "    imputer = SimpleImputer(missing_values=np.nan, strategy='mean')\n",
    "    imputer.fit_transform(features)\n",
    "    features[:] = imputer.transform(features)\n",
    "    features = features.reset_index()"
   ]
  }
 ],
 "metadata": {
  "kernelspec": {
   "display_name": "Python 3 (ipykernel)",
   "language": "python",
   "name": "python3"
  },
  "language_info": {
   "codemirror_mode": {
    "name": "ipython",
    "version": 3
   },
   "file_extension": ".py",
   "mimetype": "text/x-python",
   "name": "python",
   "nbconvert_exporter": "python",
   "pygments_lexer": "ipython3",
   "version": "3.8.13"
  }
 },
 "nbformat": 4,
 "nbformat_minor": 5
}
