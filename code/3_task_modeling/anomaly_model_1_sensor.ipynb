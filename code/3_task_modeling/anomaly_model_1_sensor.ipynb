{
 "cells": [
  {
   "cell_type": "markdown",
   "id": "0fe56655",
   "metadata": {},
   "source": [
    "# Modeling Crop Yield Anomaly\n",
    "## Python modules"
   ]
  },
  {
   "cell_type": "code",
   "execution_count": 87,
   "id": "5b4f19f5",
   "metadata": {},
   "outputs": [],
   "source": [
    "## import warnings\n",
    "import time\n",
    "import math\n",
    "import os\n",
    "import glob\n",
    "from pyhere import here\n",
    "from datetime import date\n",
    "import re\n",
    "\n",
    "import numpy as np\n",
    "import pandas as pd\n",
    "import geopandas\n",
    "\n",
    "import pyarrow\n",
    "import itertools\n",
    "import multiprocessing\n",
    "import p_tqdm\n",
    "\n",
    "from sklearn.preprocessing import StandardScaler\n",
    "from sklearn.linear_model import Ridge, RidgeCV\n",
    "from sklearn.model_selection import train_test_split, KFold, LeaveOneGroupOut, GridSearchCV, cross_val_predict\n",
    "from sklearn.metrics import r2_score\n",
    "from scipy.stats import spearmanr,  pearsonr"
   ]
  },
  {
   "cell_type": "code",
   "execution_count": 88,
   "id": "43f2ea8a-24ef-4e3b-921e-b2fb1d0c0123",
   "metadata": {},
   "outputs": [],
   "source": [
    "def str2bool(string):\n",
    "    return string.lower() in (\"yes\", \"true\", \"t\", \"1\")\n",
    "\n",
    "point_pattern = re.compile(\"20k-points\")\n",
    "wa_pattern = re.compile(\"cm-False\")"
   ]
  },
  {
   "cell_type": "code",
   "execution_count": 89,
   "id": "973b7ec8-bb19-4986-837d-2cb708c3e4bb",
   "metadata": {},
   "outputs": [
    {
     "data": {
      "text/plain": [
       "44"
      ]
     },
     "execution_count": 89,
     "metadata": {},
     "output_type": "execute_result"
    }
   ],
   "source": [
    "data_dir = here(\"data\")\n",
    "directory = here(\"data\", \"random_features\", \"summary\")\n",
    "today = date.today().strftime(\"%Y-%m-%d\")\n",
    "files = os.listdir(directory)\n",
    "files = [f for f in files if f not in ('.gitkeep', '.ipynb_checkpoints')]\n",
    "files = [f for f in files if not (bool(point_pattern.search(f)) & bool(wa_pattern.search(f)))]\n",
    "len(files)"
   ]
  },
  {
   "cell_type": "code",
   "execution_count": 90,
   "id": "1f68a6df-443f-4fb3-977d-facfc6adac44",
   "metadata": {},
   "outputs": [],
   "source": [
    "def model(params):\n",
    "#########################################     SET PARAMS    #########################################\n",
    "    file         = params\n",
    "    f            = file.split(sep=\"_\")\n",
    "    satellite    = f[0]\n",
    "    bands        = f[1].replace(\"bands-\", \"\")\n",
    "    country_code = f[2]\n",
    "    points       = f[3].replace(\"k-points\", \"\")\n",
    "    num_features = f[4].replace(\"-features\", \"\")\n",
    "    yrs          = f[5].replace(\"yr-\", \"\").split(sep=\"-\")\n",
    "    mns          = f[6].replace(\"mn-\", \"\").split(sep=\"-\")\n",
    "    limit_months = str2bool(f[7].replace(\"lm-\", \"\"))\n",
    "    crop_mask    = str2bool(f[8].replace(\"cm-\", \"\"))\n",
    "    weighted_avg = str2bool(f[9].replace(\"wa-\", \"\"))\n",
    "    years        = range(int(yrs[0]), int(yrs[1])+1)\n",
    "    month_range  = list(range(int(mns[0]), int(mns[1])+1))\n",
    "\n",
    "    alphas = {'alpha': np.logspace(-8, 8, base = 10, num = 17)}\n",
    "    kfold  = KFold()\n",
    "    logo   = LeaveOneGroupOut()\n",
    "    ridge  = Ridge() \n",
    "#########################################     READ DATA    #########################################\n",
    "    fn = f\"{directory}/{file}\"\n",
    "    features = pd.read_feather(fn)\n",
    "\n",
    "    drop_cols = ['district', 'year', 'yield_mt', 'crop_perc']\n",
    "\n",
    "    if weighted_avg:\n",
    "        drop_cols.remove(\"crop_perc\")\n",
    "    else:\n",
    "        pass\n",
    "\n",
    "#########################################    STANDARDIZE FEATURES    #########################################    \n",
    "    features = features.set_index(drop_cols) \n",
    "    features_scaled = StandardScaler().fit_transform(features.values)\n",
    "    features = pd.DataFrame(features_scaled, index=features.index).reset_index()\n",
    "\n",
    "#########################################     CALCULATE ANOMALY   #########################################\n",
    "    features['yield_mt'] = np.log10(features['yield_mt'] + 1)\n",
    "    features.set_index(['year', 'district'], inplace=True)\n",
    "    var_cols = features.columns\n",
    "    features = features[var_cols] - features.groupby(['district'], as_index=True)[var_cols].transform('mean')\n",
    "    features.reset_index(drop=False, inplace=True)\n",
    "\n",
    "#########################################     K-FOLD SPLIT    #########################################\n",
    "    x_all = features.drop(drop_cols, axis = 1) \n",
    "    y_all = features.yield_mt\n",
    "    x_train, x_test, y_train, y_test = train_test_split(x_all, y_all, test_size=0.2, random_state=0)\n",
    "\n",
    "#########################################     K-FOLD  CV   ###########################################\n",
    "    ### GRID SEARCH - FINDING BEST REGULARIZATION PARAMETER\n",
    "    kfold_ridge_reg = GridSearchCV(ridge, alphas, scoring = 'r2', cv = kfold)\n",
    "    kfold_ridge_reg.fit(x_train, y_train)\n",
    "    kfold_best_model = kfold_ridge_reg.best_estimator_\n",
    "    ### PREDICT - PREDICTING WITH BEST HYPERPARAMETER\n",
    "    kfold_val_predictions = cross_val_predict(kfold_best_model, X = x_train, y = y_train, cv = kfold)   \n",
    "    y_pred_train_k = kfold_best_model.predict(x_train)\n",
    "    y_pred_test_k  = kfold_best_model.predict(x_test)\n",
    "\n",
    "#########################################     SAVE RESULTS    #########################################\n",
    "    d = {\n",
    "        'country': country_code,\n",
    "        'satellite': satellite,\n",
    "        'bands': bands,\n",
    "        'num_features': num_features,\n",
    "        'points': points, \n",
    "        'month_range': f'{min(month_range)}-{max(month_range)}',\n",
    "        \n",
    "        'limit_months': limit_months,\n",
    "        'crop_mask': crop_mask,\n",
    "        'weighted_avg': weighted_avg,\n",
    "        \n",
    "        'kfold_total_n': len(x_all),\n",
    "        'kfold_train_n': len(x_train),\n",
    "        'kfold_test_n' : len(x_test),\n",
    "        \n",
    "        'kfold_best_reg_param': list(kfold_ridge_reg.best_params_.values())[0],\n",
    "        'kfold_mean_of_val_R2s': kfold_ridge_reg.best_score_,\n",
    "        'kfold_val_R2': r2_score(y_train, kfold_val_predictions),\n",
    "        'kfold_val_r' : pearsonr(kfold_val_predictions, y_train)[0],\n",
    "        'kfold_val_r2': pearsonr(kfold_val_predictions, y_train)[0] ** 2,\n",
    "        \n",
    "        'kfold_train_R2': r2_score(y_train, y_pred_train_k),\n",
    "        'kfold_train_r' : pearsonr(y_pred_train_k, y_train)[0],\n",
    "        'kfold_train_r2': pearsonr(y_pred_train_k, y_train)[0] ** 2,\n",
    "        \n",
    "        'kfold_test_R2': r2_score(y_test, y_pred_test_k),\n",
    "        'kfold_test_r' : pearsonr(y_pred_test_k, y_test)[0],\n",
    "        'kfold_test_r2': pearsonr(y_pred_test_k, y_test)[0] ** 2,\n",
    "        \n",
    "    }\n",
    "    return pd.DataFrame(data=d, index=[0])"
   ]
  },
  {
   "cell_type": "code",
   "execution_count": 91,
   "id": "7ce70284-aaf3-4f51-bf3f-7c4cea88d40f",
   "metadata": {},
   "outputs": [
    {
     "data": {
      "application/vnd.jupyter.widget-view+json": {
       "model_id": "a914a8161a094d759f345bb8f408e264",
       "version_major": 2,
       "version_minor": 0
      },
      "text/plain": [
       "  0%|          | 0/44 [00:00<?, ?it/s]"
      ]
     },
     "metadata": {},
     "output_type": "display_data"
    },
    {
     "name": "stdout",
     "output_type": "stream",
     "text": [
      "Saving results as: anomaly_results_2022-12-17.csv\n",
      "\n",
      "\n",
      "CPU times: user 507 ms, sys: 701 ms, total: 1.21 s\n",
      "Wall time: 6min 37s\n"
     ]
    }
   ],
   "source": [
    "%%time     \n",
    "##### With progress bar\n",
    "workers = 44 ## os.cpu_count()\n",
    "if __name__ == \"__main__\":\n",
    "    output = []\n",
    "    for result in p_tqdm.p_map(model, files, num_cpus=workers):\n",
    "        output.append(result)\n",
    "    results = pd.concat(output).reset_index(drop=True)\n",
    "    today = date.today().strftime(\"%Y-%m-%d\")\n",
    "    file_name = f'anomaly_results_{today}.csv'\n",
    "    print(f\"Saving results as: {file_name}\\n\\n\")           \n",
    "    results.to_csv(here(\"data\",\"results\", file_name), index=False)"
   ]
  },
  {
   "cell_type": "code",
   "execution_count": null,
   "id": "3b55edf9-742c-486c-858f-a54facf208d8",
   "metadata": {},
   "outputs": [],
   "source": []
  },
  {
   "cell_type": "code",
   "execution_count": 30,
   "id": "92507518-5a12-4e60-9cae-0ba4779f19ff",
   "metadata": {},
   "outputs": [],
   "source": [
    "\n",
    "file         = 'landsat-8-c2-l2_bands-1-2-3-4-5-6-7_ZMB_20k-points_1000-features_yr-2013-2021_mn-4-9_lm-True_cm-False_wa-False_summary.feather'\n",
    "\n",
    "#########################################     SET PARAMS    #########################################\n",
    "# file         = params\n",
    "f            = file.split(sep=\"_\")\n",
    "satellite    = f[0]\n",
    "bands        = f[1].replace(\"bands-\", \"\")\n",
    "country_code = f[2]\n",
    "points       = f[3].replace(\"k-points\", \"\")\n",
    "num_features = f[4].replace(\"-features\", \"\")\n",
    "yrs          = f[5].replace(\"yr-\", \"\").split(sep=\"-\")\n",
    "mns          = f[6].replace(\"mn-\", \"\").split(sep=\"-\")\n",
    "limit_months = str2bool(f[7].replace(\"lm-\", \"\"))\n",
    "crop_mask    = str2bool(f[8].replace(\"cm-\", \"\"))\n",
    "weighted_avg = str2bool(f[9].replace(\"wa-\", \"\"))\n",
    "years        = range(int(yrs[0]), int(yrs[1])+1)\n",
    "month_range  = list(range(int(mns[0]), int(mns[1])+1))\n",
    "\n",
    "alphas = {'alpha': np.logspace(-8, 8, base = 10, num = 17)}\n",
    "kfold  = KFold()\n",
    "logo   = LeaveOneGroupOut()\n",
    "ridge  = Ridge() \n",
    "#########################################     READ DATA    #########################################\n",
    "fn = f\"{directory}/{file}\"\n",
    "features = pd.read_feather(fn)\n",
    "\n",
    "drop_cols = ['district', 'year', 'yield_mt', 'crop_perc']\n",
    "\n",
    "if weighted_avg:\n",
    "    drop_cols.remove(\"crop_perc\")\n",
    "else:\n",
    "    pass\n",
    "\n",
    "crop_yield = features.copy().loc[:, tuple(drop_cols)]\n",
    "crop_yield[\"log_yield\"] = np.log10(crop_yield.yield_mt.to_numpy() + 1)\n",
    "\n",
    "#########################################    STANDARDIZE FEATURES    #########################################    \n",
    "features = features.set_index(drop_cols) \n",
    "features_scaled = StandardScaler().fit_transform(features.values)\n",
    "features = pd.DataFrame(features_scaled, index=features.index).reset_index()\n",
    "\n",
    "#########################################     CALCULATE ANOMALY   #########################################\n",
    "features['yield_mt'] = np.log10(features['yield_mt'] + 1)\n",
    "features.set_index(['year', 'district'], inplace=True)\n",
    "var_cols = features.columns\n",
    "features = features[var_cols] - features.groupby(['district'], as_index=True)[var_cols].transform('mean')\n",
    "features.reset_index(drop=False, inplace=True)\n",
    "\n",
    "#########################################     K-FOLD SPLIT    #########################################\n",
    "x_all = features.drop(drop_cols, axis = 1) \n",
    "y_all = features.yield_mt\n",
    "x_train, x_test, y_train, y_test = train_test_split(x_all, y_all, test_size=0.2, random_state=0)\n",
    "\n",
    "#########################################     K-FOLD  CV   ###########################################\n",
    "### GRID SEARCH - FINDING BEST REGULARIZATION PARAMETER\n",
    "kfold_ridge_reg = GridSearchCV(ridge, alphas, scoring = 'r2', cv = kfold)\n",
    "kfold_ridge_reg.fit(x_train, y_train)\n",
    "kfold_best_model = kfold_ridge_reg.best_estimator_\n",
    "### PREDICT - PREDICTING WITH BEST HYPERPARAMETER\n",
    "kfold_val_predictions = cross_val_predict(kfold_best_model, X = x_train, y = y_train, cv = kfold)   \n",
    "y_pred_train_k = kfold_best_model.predict(x_train)\n",
    "y_pred_test_k  = kfold_best_model.predict(x_test)\n"
   ]
  },
  {
   "cell_type": "code",
   "execution_count": 31,
   "id": "efef6271-2af8-4e22-8a20-1dbc0a4e2da1",
   "metadata": {},
   "outputs": [
    {
     "data": {
      "text/plain": [
       "0.30789352049310026"
      ]
     },
     "execution_count": 31,
     "metadata": {},
     "output_type": "execute_result"
    }
   ],
   "source": [
    "r2_score(y_train, kfold_val_predictions)"
   ]
  },
  {
   "cell_type": "code",
   "execution_count": 32,
   "id": "ca793c3a-2cf3-4141-b594-c68912c9cab5",
   "metadata": {},
   "outputs": [
    {
     "data": {
      "text/plain": [
       "0.2528558585632913"
      ]
     },
     "execution_count": 32,
     "metadata": {},
     "output_type": "execute_result"
    }
   ],
   "source": [
    "r2_score(y_test, y_pred_test_k)"
   ]
  },
  {
   "cell_type": "code",
   "execution_count": 52,
   "id": "c4442c70-60d0-46bd-95cd-13f274fa6c51",
   "metadata": {},
   "outputs": [
    {
     "data": {
      "text/html": [
       "<div>\n",
       "<style scoped>\n",
       "    .dataframe tbody tr th:only-of-type {\n",
       "        vertical-align: middle;\n",
       "    }\n",
       "\n",
       "    .dataframe tbody tr th {\n",
       "        vertical-align: top;\n",
       "    }\n",
       "\n",
       "    .dataframe thead th {\n",
       "        text-align: right;\n",
       "    }\n",
       "</style>\n",
       "<table border=\"1\" class=\"dataframe\">\n",
       "  <thead>\n",
       "    <tr style=\"text-align: right;\">\n",
       "      <th></th>\n",
       "      <th>district</th>\n",
       "      <th>year</th>\n",
       "      <th>yield_mt</th>\n",
       "      <th>crop_perc</th>\n",
       "      <th>log_yield</th>\n",
       "      <th>split</th>\n",
       "      <th>kfold_cv_predictions</th>\n",
       "      <th>district_yield_mean</th>\n",
       "      <th>demean_yield</th>\n",
       "      <th>prediction</th>\n",
       "      <th>district_prediction_mean</th>\n",
       "      <th>demean_prediction</th>\n",
       "      <th>demean_cv_prediction</th>\n",
       "    </tr>\n",
       "  </thead>\n",
       "  <tbody>\n",
       "    <tr>\n",
       "      <th>0</th>\n",
       "      <td>Chadiza</td>\n",
       "      <td>2013</td>\n",
       "      <td>2.008807</td>\n",
       "      <td>0.787985</td>\n",
       "      <td>0.478394</td>\n",
       "      <td>train</td>\n",
       "      <td>-0.043555</td>\n",
       "      <td>0.501604</td>\n",
       "      <td>-0.023210</td>\n",
       "      <td>-0.038678</td>\n",
       "      <td>-0.000237</td>\n",
       "      <td>-0.038441</td>\n",
       "      <td>-0.043318</td>\n",
       "    </tr>\n",
       "    <tr>\n",
       "      <th>1</th>\n",
       "      <td>Chadiza</td>\n",
       "      <td>2014</td>\n",
       "      <td>2.407307</td>\n",
       "      <td>0.787985</td>\n",
       "      <td>0.532411</td>\n",
       "      <td>test</td>\n",
       "      <td>NaN</td>\n",
       "      <td>0.501604</td>\n",
       "      <td>0.030807</td>\n",
       "      <td>0.091504</td>\n",
       "      <td>-0.000237</td>\n",
       "      <td>0.091741</td>\n",
       "      <td>NaN</td>\n",
       "    </tr>\n",
       "    <tr>\n",
       "      <th>2</th>\n",
       "      <td>Chadiza</td>\n",
       "      <td>2015</td>\n",
       "      <td>2.023136</td>\n",
       "      <td>0.787985</td>\n",
       "      <td>0.480458</td>\n",
       "      <td>train</td>\n",
       "      <td>-0.012365</td>\n",
       "      <td>0.501604</td>\n",
       "      <td>-0.021146</td>\n",
       "      <td>-0.014062</td>\n",
       "      <td>-0.000237</td>\n",
       "      <td>-0.013825</td>\n",
       "      <td>-0.012128</td>\n",
       "    </tr>\n",
       "    <tr>\n",
       "      <th>3</th>\n",
       "      <td>Chadiza</td>\n",
       "      <td>2016</td>\n",
       "      <td>1.876427</td>\n",
       "      <td>0.787985</td>\n",
       "      <td>0.458853</td>\n",
       "      <td>train</td>\n",
       "      <td>-0.002106</td>\n",
       "      <td>0.501604</td>\n",
       "      <td>-0.042751</td>\n",
       "      <td>-0.013099</td>\n",
       "      <td>-0.000237</td>\n",
       "      <td>-0.012862</td>\n",
       "      <td>-0.001869</td>\n",
       "    </tr>\n",
       "    <tr>\n",
       "      <th>4</th>\n",
       "      <td>Chadiza</td>\n",
       "      <td>2017</td>\n",
       "      <td>2.882947</td>\n",
       "      <td>0.787985</td>\n",
       "      <td>0.589161</td>\n",
       "      <td>train</td>\n",
       "      <td>-0.030981</td>\n",
       "      <td>0.501604</td>\n",
       "      <td>0.087557</td>\n",
       "      <td>-0.011353</td>\n",
       "      <td>-0.000237</td>\n",
       "      <td>-0.011116</td>\n",
       "      <td>-0.030743</td>\n",
       "    </tr>\n",
       "    <tr>\n",
       "      <th>...</th>\n",
       "      <td>...</td>\n",
       "      <td>...</td>\n",
       "      <td>...</td>\n",
       "      <td>...</td>\n",
       "      <td>...</td>\n",
       "      <td>...</td>\n",
       "      <td>...</td>\n",
       "      <td>...</td>\n",
       "      <td>...</td>\n",
       "      <td>...</td>\n",
       "      <td>...</td>\n",
       "      <td>...</td>\n",
       "      <td>...</td>\n",
       "    </tr>\n",
       "    <tr>\n",
       "      <th>643</th>\n",
       "      <td>Zambezi</td>\n",
       "      <td>2017</td>\n",
       "      <td>1.490456</td>\n",
       "      <td>0.312756</td>\n",
       "      <td>0.396279</td>\n",
       "      <td>test</td>\n",
       "      <td>NaN</td>\n",
       "      <td>0.451359</td>\n",
       "      <td>-0.055080</td>\n",
       "      <td>-0.007773</td>\n",
       "      <td>-0.000237</td>\n",
       "      <td>-0.007535</td>\n",
       "      <td>NaN</td>\n",
       "    </tr>\n",
       "    <tr>\n",
       "      <th>644</th>\n",
       "      <td>Zambezi</td>\n",
       "      <td>2018</td>\n",
       "      <td>1.622273</td>\n",
       "      <td>0.312756</td>\n",
       "      <td>0.418678</td>\n",
       "      <td>train</td>\n",
       "      <td>-0.031349</td>\n",
       "      <td>0.451359</td>\n",
       "      <td>-0.032681</td>\n",
       "      <td>-0.027531</td>\n",
       "      <td>-0.000237</td>\n",
       "      <td>-0.027294</td>\n",
       "      <td>-0.031112</td>\n",
       "    </tr>\n",
       "    <tr>\n",
       "      <th>645</th>\n",
       "      <td>Zambezi</td>\n",
       "      <td>2019</td>\n",
       "      <td>1.184923</td>\n",
       "      <td>0.312756</td>\n",
       "      <td>0.339436</td>\n",
       "      <td>test</td>\n",
       "      <td>NaN</td>\n",
       "      <td>0.451359</td>\n",
       "      <td>-0.111922</td>\n",
       "      <td>-0.029412</td>\n",
       "      <td>-0.000237</td>\n",
       "      <td>-0.029175</td>\n",
       "      <td>NaN</td>\n",
       "    </tr>\n",
       "    <tr>\n",
       "      <th>646</th>\n",
       "      <td>Zambezi</td>\n",
       "      <td>2020</td>\n",
       "      <td>1.689628</td>\n",
       "      <td>0.312756</td>\n",
       "      <td>0.429692</td>\n",
       "      <td>train</td>\n",
       "      <td>-0.016472</td>\n",
       "      <td>0.451359</td>\n",
       "      <td>-0.021666</td>\n",
       "      <td>-0.010883</td>\n",
       "      <td>-0.000237</td>\n",
       "      <td>-0.010646</td>\n",
       "      <td>-0.016234</td>\n",
       "    </tr>\n",
       "    <tr>\n",
       "      <th>647</th>\n",
       "      <td>Zambezi</td>\n",
       "      <td>2021</td>\n",
       "      <td>2.981741</td>\n",
       "      <td>0.312756</td>\n",
       "      <td>0.600073</td>\n",
       "      <td>train</td>\n",
       "      <td>0.021645</td>\n",
       "      <td>0.451359</td>\n",
       "      <td>0.148715</td>\n",
       "      <td>0.043141</td>\n",
       "      <td>-0.000237</td>\n",
       "      <td>0.043379</td>\n",
       "      <td>0.021883</td>\n",
       "    </tr>\n",
       "  </tbody>\n",
       "</table>\n",
       "<p>648 rows × 13 columns</p>\n",
       "</div>"
      ],
      "text/plain": [
       "    district  year  yield_mt  crop_perc  log_yield  split  \\\n",
       "0    Chadiza  2013  2.008807   0.787985   0.478394  train   \n",
       "1    Chadiza  2014  2.407307   0.787985   0.532411   test   \n",
       "2    Chadiza  2015  2.023136   0.787985   0.480458  train   \n",
       "3    Chadiza  2016  1.876427   0.787985   0.458853  train   \n",
       "4    Chadiza  2017  2.882947   0.787985   0.589161  train   \n",
       "..       ...   ...       ...        ...        ...    ...   \n",
       "643  Zambezi  2017  1.490456   0.312756   0.396279   test   \n",
       "644  Zambezi  2018  1.622273   0.312756   0.418678  train   \n",
       "645  Zambezi  2019  1.184923   0.312756   0.339436   test   \n",
       "646  Zambezi  2020  1.689628   0.312756   0.429692  train   \n",
       "647  Zambezi  2021  2.981741   0.312756   0.600073  train   \n",
       "\n",
       "     kfold_cv_predictions  district_yield_mean  demean_yield  prediction  \\\n",
       "0               -0.043555             0.501604     -0.023210   -0.038678   \n",
       "1                     NaN             0.501604      0.030807    0.091504   \n",
       "2               -0.012365             0.501604     -0.021146   -0.014062   \n",
       "3               -0.002106             0.501604     -0.042751   -0.013099   \n",
       "4               -0.030981             0.501604      0.087557   -0.011353   \n",
       "..                    ...                  ...           ...         ...   \n",
       "643                   NaN             0.451359     -0.055080   -0.007773   \n",
       "644             -0.031349             0.451359     -0.032681   -0.027531   \n",
       "645                   NaN             0.451359     -0.111922   -0.029412   \n",
       "646             -0.016472             0.451359     -0.021666   -0.010883   \n",
       "647              0.021645             0.451359      0.148715    0.043141   \n",
       "\n",
       "     district_prediction_mean  demean_prediction  demean_cv_prediction  \n",
       "0                   -0.000237          -0.038441             -0.043318  \n",
       "1                   -0.000237           0.091741                   NaN  \n",
       "2                   -0.000237          -0.013825             -0.012128  \n",
       "3                   -0.000237          -0.012862             -0.001869  \n",
       "4                   -0.000237          -0.011116             -0.030743  \n",
       "..                        ...                ...                   ...  \n",
       "643                 -0.000237          -0.007535                   NaN  \n",
       "644                 -0.000237          -0.027294             -0.031112  \n",
       "645                 -0.000237          -0.029175                   NaN  \n",
       "646                 -0.000237          -0.010646             -0.016234  \n",
       "647                 -0.000237           0.043379              0.021883  \n",
       "\n",
       "[648 rows x 13 columns]"
      ]
     },
     "execution_count": 52,
     "metadata": {},
     "output_type": "execute_result"
    }
   ],
   "source": [
    "districts = crop_yield.district.unique().tolist()\n",
    "predictions = pd.concat([x_train, x_test])\n",
    "predictions['split'] = np.concatenate((np.repeat('train', len(x_train)), np.repeat('test', len(x_test))))\n",
    "predictions['kfold_cv_predictions'] = np.concatenate((kfold_val_predictions,  np.repeat(np.nan, len(x_test))))\n",
    "predictions = predictions[['split', 'kfold_cv_predictions']]\n",
    "predictions = crop_yield.join(predictions)\n",
    "predictions[\"district_yield_mean\"] = predictions.groupby('district')['log_yield'].transform('mean')\n",
    "predictions[\"demean_yield\"] = predictions[\"log_yield\"] - predictions[\"district_yield_mean\"]\n",
    "\n",
    "predictions[\"prediction\"] = kfold_best_model.predict(x_all)\n",
    "predictions[\"district_prediction_mean\"] = predictions.groupby('district')['prediction'].transform('mean')\n",
    "predictions[\"demean_prediction\"] = predictions[\"prediction\"] - predictions[\"district_prediction_mean\"]\n",
    "predictions[\"demean_cv_prediction\"] = predictions[\"kfold_cv_predictions\"] - predictions[\"district_prediction_mean\"]\n",
    "predictions"
   ]
  },
  {
   "cell_type": "code",
   "execution_count": 53,
   "id": "38e190ec-6508-424f-8c8a-80c15200d707",
   "metadata": {},
   "outputs": [
    {
     "data": {
      "text/plain": [
       "0.5695887042665209"
      ]
     },
     "execution_count": 53,
     "metadata": {},
     "output_type": "execute_result"
    }
   ],
   "source": [
    "r2_score(predictions.demean_yield, predictions.demean_prediction)"
   ]
  },
  {
   "cell_type": "code",
   "execution_count": 54,
   "id": "24367775-100b-4173-be87-c1ddcccfc669",
   "metadata": {},
   "outputs": [
    {
     "data": {
      "text/plain": [
       "0.3077864952066104"
      ]
     },
     "execution_count": 54,
     "metadata": {},
     "output_type": "execute_result"
    }
   ],
   "source": [
    "cv_pred = predictions[predictions.split == 'train']\n",
    "r2_score(cv_pred.demean_yield, cv_pred.demean_cv_prediction)"
   ]
  },
  {
   "cell_type": "code",
   "execution_count": 55,
   "id": "e5c92dc0-c10f-44c6-b84a-97008c832578",
   "metadata": {},
   "outputs": [
    {
     "data": {
      "text/plain": [
       "0.25295584834877305"
      ]
     },
     "execution_count": 55,
     "metadata": {},
     "output_type": "execute_result"
    }
   ],
   "source": [
    "test_pred = predictions[predictions.split == 'test']\n",
    "r2_score(test_pred.demean_yield, test_pred.demean_prediction)"
   ]
  },
  {
   "cell_type": "code",
   "execution_count": 56,
   "id": "3755ee58-b9a9-4d7f-a68e-09bc3142d756",
   "metadata": {},
   "outputs": [
    {
     "data": {
      "text/plain": [
       "0.3116092215505781"
      ]
     },
     "execution_count": 56,
     "metadata": {},
     "output_type": "execute_result"
    }
   ],
   "source": [
    "pearsonr(cv_pred.demean_yield, cv_pred.demean_cv_prediction)[0] ** 2"
   ]
  },
  {
   "cell_type": "code",
   "execution_count": 57,
   "id": "e82c429c-4d2a-465c-b721-f9db69d4bea8",
   "metadata": {},
   "outputs": [
    {
     "data": {
      "text/plain": [
       "0.2532787813937976"
      ]
     },
     "execution_count": 57,
     "metadata": {},
     "output_type": "execute_result"
    }
   ],
   "source": [
    "pearsonr(test_pred.demean_yield, test_pred.demean_prediction)[0] ** 2"
   ]
  },
  {
   "cell_type": "code",
   "execution_count": 58,
   "id": "800c2085-c967-4069-baed-2bddc3677af4",
   "metadata": {},
   "outputs": [
    {
     "data": {
      "text/plain": [
       "<matplotlib.lines._AxLine at 0x7f8400585af0>"
      ]
     },
     "execution_count": 58,
     "metadata": {},
     "output_type": "execute_result"
    },
    {
     "data": {
      "image/png": "[encoded data removed]",
      "text/plain": [
       "<Figure size 640x480 with 1 Axes>"
      ]
     },
     "metadata": {},
     "output_type": "display_data"
    }
   ],
   "source": [
    "import matplotlib.pyplot as plt\n",
    "plt.scatter(cv_pred[\"demean_yield\"], cv_pred[\"demean_cv_prediction\"])\n",
    "plt.axline((-.4, -.4), (.4, .4))"
   ]
  },
  {
   "cell_type": "code",
   "execution_count": 59,
   "id": "2fed90d7-483b-4afd-bf4f-97f2647b754c",
   "metadata": {},
   "outputs": [
    {
     "data": {
      "text/plain": [
       "<matplotlib.lines._AxLine at 0x7f8400575970>"
      ]
     },
     "execution_count": 59,
     "metadata": {},
     "output_type": "execute_result"
    },
    {
     "data": {
      "image/png": "[encoded data removed]",
      "text/plain": [
       "<Figure size 640x480 with 1 Axes>"
      ]
     },
     "metadata": {},
     "output_type": "display_data"
    }
   ],
   "source": [
    "plt.scatter(test_pred[\"demean_yield\"], test_pred[\"demean_prediction\"])\n",
    "plt.axline((-.4, -.4), (.4, .4))"
   ]
  },
  {
   "cell_type": "code",
   "execution_count": null,
   "id": "5908cecb-60e3-4a21-b0ba-799abe5a221f",
   "metadata": {},
   "outputs": [],
   "source": []
  },
  {
   "cell_type": "code",
   "execution_count": null,
   "id": "47be3a41-7f4b-45fb-9e1f-de0422766874",
   "metadata": {},
   "outputs": [],
   "source": []
  },
  {
   "cell_type": "code",
   "execution_count": null,
   "id": "5a739e0f-9837-4546-9752-8743c2524d20",
   "metadata": {},
   "outputs": [],
   "source": []
  },
  {
   "cell_type": "code",
   "execution_count": null,
   "id": "3fe59e5d-e84b-4de4-9692-4e1ab0c0a389",
   "metadata": {},
   "outputs": [],
   "source": []
  },
  {
   "cell_type": "code",
   "execution_count": null,
   "id": "9951caef-3f7f-4165-8734-8d153c7004cf",
   "metadata": {},
   "outputs": [],
   "source": []
  },
  {
   "cell_type": "code",
   "execution_count": null,
   "id": "a5e006de-0b00-49a9-85b7-9c63e69383e1",
   "metadata": {},
   "outputs": [],
   "source": []
  },
  {
   "cell_type": "code",
   "execution_count": null,
   "id": "541c6506-def0-4991-82bb-1f7f8ae8d15f",
   "metadata": {},
   "outputs": [],
   "source": []
  },
  {
   "cell_type": "code",
   "execution_count": null,
   "id": "f0a28135-85e2-42cb-a00b-eef456677033",
   "metadata": {},
   "outputs": [],
   "source": []
  },
  {
   "cell_type": "code",
   "execution_count": null,
   "id": "388e8b2a-c7e0-4064-8af6-5c37ff62bd17",
   "metadata": {},
   "outputs": [],
   "source": []
  },
  {
   "cell_type": "code",
   "execution_count": 62,
   "id": "9aff5567-bc32-413e-ae25-122e718b8efc",
   "metadata": {
    "tags": []
   },
   "outputs": [],
   "source": [
    "# #########################################     SET PARAMS    #########################################\n",
    "# file         = 'landsat-8-c2-l2_bands-1-2-3-4-5-6-7_ZMB_15k-points_1000-features_yr-2013-2021_mn-4-9_lm-True_cm-False_wa-False_summary.feather'\n",
    "# f            = file.split(sep=\"_\")\n",
    "# satellite    = f[0]\n",
    "# bands        = f[1].replace(\"bands-\", \"\")\n",
    "# country_code = f[2]\n",
    "# points       = f[3].replace(\"k-points\", \"\")\n",
    "# num_features = f[4].replace(\"-features\", \"\")\n",
    "# yrs          = f[5].replace(\"yr-\", \"\").split(sep=\"-\")\n",
    "# mns          = f[6].replace(\"mn-\", \"\").split(sep=\"-\")\n",
    "# limit_months = str2bool(f[7].replace(\"lm-\", \"\"))\n",
    "# crop_mask    = str2bool(f[8].replace(\"cm-\", \"\"))\n",
    "# weighted_avg = str2bool(f[9].replace(\"wa-\", \"\"))\n",
    "# years        = range(int(yrs[0]), int(yrs[1])+1)\n",
    "# month_range  = list(range(int(mns[0]), int(mns[1])+1))\n",
    "\n",
    "# alphas = {'alpha': np.logspace(-8, 8, base = 10, num = 17)}\n",
    "# kfold  = KFold()\n",
    "# logo   = LeaveOneGroupOut()\n",
    "# ridge  = Ridge() \n",
    "# #########################################     READ DATA    #########################################\n",
    "# fn = f\"{directory}/{file}\"\n",
    "# features = pd.read_feather(fn)\n",
    "# features['yield_mt'] = np.log10(features['yield_mt'] + 1)\n",
    "# drop_cols = ['year', 'crop_perc']\n",
    "\n",
    "# if weighted_avg:\n",
    "#     drop_cols.remove(\"crop_perc\")\n",
    "# else:\n",
    "#     pass\n",
    "\n",
    "# #########################################    FEATURES SPLIT    #########################################\n",
    "# train_split, test_split = train_test_split(features, test_size=0.2, random_state=0)\n",
    "# train_split['split'], test_split['split'] = 'train', 'test'\n",
    "# features_split = pd.concat([train_split, test_split])\n",
    "\n",
    "# #########################################    STANDARDIZE FEATURES    #########################################    \n",
    "# features_split = features_split.set_index(['year', 'district', 'yield_mt', 'split']) \n",
    "# features_split_scaled = StandardScaler().fit_transform(features_split.values)\n",
    "# features_split = pd.DataFrame(features_split_scaled, index=features_split.index).reset_index()\n",
    "# features_split.columns = features_split.columns.astype(str)  \n",
    "\n",
    "# #########################################     CALCULATE ANOMALY   #########################################\n",
    "# drop_cols.append('district'), drop_cols.append('split') \n",
    "# features_split.set_index(drop_cols, inplace=True, append=True)\n",
    "# features_split = features_split - features_split.groupby(['district', 'split'], as_index=True).transform('mean')\n",
    "# features_split.reset_index(level=drop_cols, drop=False, inplace=True)\n",
    "\n",
    "# #########################################    K-FOLD SPLIT    #########################################\n",
    "# train = features_split[features_split.split=='train']\n",
    "# test  = features_split[features_split.split=='test']\n",
    "# drop_cols.append('yield_mt') \n",
    "\n",
    "# x_all = features_split.drop(drop_cols, axis=1)\n",
    "\n",
    "# x_train = train.drop(drop_cols, axis=1)\n",
    "# y_train = train.yield_mt\n",
    "\n",
    "# x_test  = test.drop(drop_cols, axis=1)\n",
    "# y_test  = test.yield_mt\n",
    "\n",
    "# #########################################     K-FOLD  CV   ###########################################\n",
    "# ### GRID SEARCH - FINDING BEST REGULARIZATION PARAMETER\n",
    "# kfold_ridge_reg = GridSearchCV(ridge, alphas, scoring = 'r2', cv = kfold)\n",
    "# kfold_ridge_reg.fit(x_train, y_train)\n",
    "# kfold_best_model = kfold_ridge_reg.best_estimator_\n",
    "# ### PREDICT - PREDICTING WITH BEST HYPERPARAMETER\n",
    "# kfold_val_predictions = cross_val_predict(kfold_best_model, X = x_train, y = y_train, cv = kfold)   \n",
    "# y_pred_train_k = kfold_best_model.predict(x_train)\n",
    "# y_pred_test_k  = kfold_best_model.predict(x_test)"
   ]
  },
  {
   "cell_type": "code",
   "execution_count": 63,
   "id": "53ab7c2f-ed88-433a-961b-12fd141c03ed",
   "metadata": {},
   "outputs": [],
   "source": [
    "# pd.DataFrame(kfold_ridge_reg.cv_results_)"
   ]
  },
  {
   "cell_type": "code",
   "execution_count": 64,
   "id": "844a1b82-0dee-4efd-ade2-9f1a4909b937",
   "metadata": {},
   "outputs": [],
   "source": [
    "# r2_score(y_train, kfold_val_predictions)"
   ]
  },
  {
   "cell_type": "code",
   "execution_count": 65,
   "id": "1388f5e2-6898-4798-b78e-de607cac5b7d",
   "metadata": {},
   "outputs": [],
   "source": [
    "# r2_score(y_test, y_pred_test_k)"
   ]
  },
  {
   "cell_type": "code",
   "execution_count": 66,
   "id": "9fde3b89-c0e8-4f3e-8f58-39dcbf932663",
   "metadata": {},
   "outputs": [],
   "source": [
    "# features_split = features_split[drop_cols]\n",
    "# features_split['prediction'] = kfold_best_model.predict(x_all)\n",
    "# features_split['kfold_cv_predictions'] = np.concatenate((kfold_val_predictions,  np.repeat(np.nan, len(test))))\n",
    "\n",
    "# features_split"
   ]
  },
  {
   "cell_type": "code",
   "execution_count": 67,
   "id": "e7bf8a5a-bde3-47cb-8ad4-73a4be87d13f",
   "metadata": {},
   "outputs": [],
   "source": [
    "# suffix = file.replace('_summary.feather', '.csv')\n",
    "# summary_fn_pred = here('data', 'results', f'summary-anomaly-pred_k-fold-cv_{suffix}')\n",
    "# features_split.to_csv(summary_fn_pred, index=False)"
   ]
  },
  {
   "cell_type": "code",
   "execution_count": 68,
   "id": "eff3b78a-859e-4c80-8cab-6361fa07d016",
   "metadata": {},
   "outputs": [],
   "source": [
    "# summary_fn_pred"
   ]
  },
  {
   "cell_type": "code",
   "execution_count": 69,
   "id": "63e9ecde-3c59-4dcf-bbc4-52cf1013bac2",
   "metadata": {},
   "outputs": [],
   "source": [
    "# drop_cols.remove('split')"
   ]
  },
  {
   "cell_type": "code",
   "execution_count": 70,
   "id": "923904b8-3ad9-4988-8a6a-0f15fe4265ee",
   "metadata": {},
   "outputs": [],
   "source": [
    "# %%time\n",
    "# #########################################     LOGO ITERATOR   ###########################################\n",
    "# logo_val_results   = []\n",
    "# logo_train_results = []\n",
    "# logo_test_results  = []\n",
    "\n",
    "# for year in features.year.unique():\n",
    "\n",
    "#     #########################################     LOGO SPLIT   ###########################################\n",
    "#     train_feats  = features[features.year != year]\n",
    "#     logo_x_train = train_feats.drop(drop_cols, axis=1)\n",
    "#     logo_y_train = train_feats.yield_mt.ravel()\n",
    "#     logo_g_train = train_feats.year.ravel()\n",
    "#     logo_d_train = train_feats.district.ravel()\n",
    "\n",
    "#     test_feats  = features[features.year == year]\n",
    "#     logo_x_test = test_feats.drop(drop_cols, axis=1)\n",
    "#     logo_y_test = test_feats.yield_mt.ravel()\n",
    "#     logo_g_test = test_feats.year.ravel()\n",
    "#     logo_d_test = test_feats.district.ravel()\n",
    "    \n",
    "#     for alpha in alphas.get('alpha'):\n",
    "#         logo_ridge_reg = Ridge(alpha=alpha)\n",
    "#         logo_val_predictions = cross_val_predict(logo_ridge_reg, X=logo_x_train, y=logo_y_train, groups=logo_g_train, cv=logo)\n",
    "#         val_results = {'year': logo_g_train, 'district': logo_d_train, 'split': 'val', 'alpha': alpha, \n",
    "#                      'observed': logo_y_train, 'predicted': logo_val_predictions, 'test_year': year}\n",
    "#         logo_val_results.append(val_results)\n"
   ]
  },
  {
   "cell_type": "code",
   "execution_count": 71,
   "id": "84be928b-506d-4ac5-9881-97042d9b4c2f",
   "metadata": {},
   "outputs": [],
   "source": [
    "# explode_cols = ['year', 'district', 'observed', 'predicted']\n",
    "# val_df   = pd.DataFrame(logo_val_results  ).explode(explode_cols)\n",
    "# val_df.reset_index(drop=True, inplace=True)\n",
    "# val_df"
   ]
  },
  {
   "cell_type": "code",
   "execution_count": 72,
   "id": "41baceff-810c-4a7d-b7d0-e67d87a71f53",
   "metadata": {},
   "outputs": [],
   "source": [
    "# def r2(df):\n",
    "#     return pd.Series(dict(r2 = r2_score(df.observed, df.predicted)))"
   ]
  },
  {
   "cell_type": "code",
   "execution_count": 73,
   "id": "beb59fa2-5f46-4b4e-8d5b-5c458ffa4673",
   "metadata": {},
   "outputs": [],
   "source": [
    "# alpha_r2 = val_df.groupby(['alpha']).apply(r2).reset_index()\n",
    "# max(alpha_r2.r2)"
   ]
  },
  {
   "cell_type": "code",
   "execution_count": 74,
   "id": "521ad104-bffa-4634-9af1-a1a1c53437d7",
   "metadata": {},
   "outputs": [],
   "source": [
    "# alpha_r2 = val_df.groupby(['alpha', 'test_year']).apply(r2).reset_index()\n",
    "# max(alpha_r2.r2)"
   ]
  },
  {
   "cell_type": "code",
   "execution_count": 75,
   "id": "93ffeb54-ef4d-477f-b154-6ddb3361948d",
   "metadata": {},
   "outputs": [],
   "source": [
    "# alpha_r2[alpha_r2.r2==max(alpha_r2.r2)]"
   ]
  },
  {
   "cell_type": "code",
   "execution_count": 76,
   "id": "372df9ab-2e08-44a2-a2d7-bf0d6f0a5315",
   "metadata": {},
   "outputs": [],
   "source": [
    "# alpha_r2[alpha_r2.r2==max(alpha_r2.r2)].alpha.values[0]"
   ]
  },
  {
   "cell_type": "code",
   "execution_count": 77,
   "id": "dc6ea45d-c1d9-45f1-ac19-9c01aa72f215",
   "metadata": {},
   "outputs": [],
   "source": [
    "# alpha_r2[alpha_r2.r2==max(alpha_r2.r2)].year.values[0]"
   ]
  },
  {
   "cell_type": "code",
   "execution_count": 78,
   "id": "eb618129-090d-425c-92a2-64a9ff96fc9e",
   "metadata": {},
   "outputs": [],
   "source": [
    "# alpha_r2"
   ]
  },
  {
   "cell_type": "code",
   "execution_count": 79,
   "id": "ded1b0ec-a062-4dbc-8dc0-0309833ac2c4",
   "metadata": {},
   "outputs": [],
   "source": [
    "# import matplotlib.pyplot as plt"
   ]
  },
  {
   "cell_type": "code",
   "execution_count": 80,
   "id": "22697577-4bc4-45ab-b6b2-98e8f2dbaf33",
   "metadata": {},
   "outputs": [],
   "source": [
    "# plt.hist(alpha_r2.r2, bins = 50)"
   ]
  },
  {
   "cell_type": "code",
   "execution_count": null,
   "id": "96ad79cb-278f-4a56-af56-ae21b1e94fea",
   "metadata": {},
   "outputs": [],
   "source": []
  },
  {
   "cell_type": "code",
   "execution_count": null,
   "id": "6ef20865-3abf-4a1e-a1aa-3dd3cb2b2249",
   "metadata": {},
   "outputs": [],
   "source": []
  },
  {
   "cell_type": "code",
   "execution_count": 81,
   "id": "210e4b57-0e6e-402c-b5f3-1d1a69a57b5b",
   "metadata": {},
   "outputs": [],
   "source": [
    "# #########################################     LOGO CV   ###########################################\n",
    "# ### GRID SEARCH - FINDING BEST REGULARIZATION PARAMETER\n",
    "# logo_ridge_reg = GridSearchCV(ridge, alphas, scoring='r2', cv=logo)\n",
    "# logo_ridge_reg.fit(logo_x_train, logo_y_train, groups=logo_g_train)\n",
    "# logo_best_model = logo_ridge_reg.best_estimator_\n",
    "# ### PREDICT - PREDICTING WITH BEST HYPERPARAMETER\n",
    "# logo_val_predictions = cross_val_predict(logo_best_model, X=logo_x_train, y=logo_y_train, groups=logo_g_train, cv=logo) \n",
    "# logo_train_pred = logo_best_model.predict(logo_x_train)\n",
    "# logo_test_pred  = logo_best_model.predict(logo_x_test)\n",
    "\n",
    "# #########################################     LOGO RESULTS   ###########################################\n",
    "# val_results   = {'year': logo_g_train, 'district': logo_d_train, 'split': 'val', \n",
    "#                  'observed': logo_y_train, 'predicted': logo_val_predictions}\n",
    "\n",
    "# train_results = {'year': logo_g_train, 'district': logo_d_train,'split': 'train', \n",
    "#                  'observed': logo_y_train, 'predicted': logo_train_pred}\n",
    "\n",
    "# test_results  = {'year': logo_g_test, 'district': logo_d_test, 'split': 'test', \n",
    "#                  'observed': logo_y_test, 'predicted': logo_test_pred}\n",
    "\n",
    "# logo_val_results.append(val_results)\n",
    "# logo_train_results.append(train_results)\n",
    "# logo_test_results.append(test_results)\n",
    "\n",
    "# #########################################     EXPLODE RESULTS   ###########################################\n",
    "# explode_cols = ['year', 'district', 'observed', 'predicted']\n",
    "# val_df   = pd.DataFrame(logo_val_results  ).explode(explode_cols) \n",
    "# train_df = pd.DataFrame(logo_train_results).explode(explode_cols) \n",
    "# test_df  = pd.DataFrame(logo_test_results ).explode(explode_cols)\n",
    "\n",
    "# group_cols    = ['year', 'district', 'split']\n",
    "# val_summary   =   val_df.groupby(group_cols, as_index=False).mean()\n",
    "# train_summary = train_df.groupby(group_cols, as_index=False).mean()"
   ]
  },
  {
   "cell_type": "code",
   "execution_count": 82,
   "id": "563010c6-dabb-4658-8ac9-91d5d2b8bd9b",
   "metadata": {},
   "outputs": [],
   "source": [
    "# r2_score(val_df.observed, val_df.predicted)"
   ]
  },
  {
   "cell_type": "code",
   "execution_count": 83,
   "id": "e536f2bc-a0f0-4b97-8983-dc0aac42c62a",
   "metadata": {},
   "outputs": [],
   "source": [
    "# train_summary"
   ]
  },
  {
   "cell_type": "code",
   "execution_count": 84,
   "id": "5cc864b6-2b9d-47c0-aa73-5a474c719bbd",
   "metadata": {
    "tags": []
   },
   "outputs": [],
   "source": [
    "# #########################################     LOGO ITERATOR   ###########################################\n",
    "# logo_val_results   = []\n",
    "# logo_train_results = []\n",
    "# logo_test_results  = []\n",
    "\n",
    "# for year in features.year.unique():\n",
    "# #########################################     LOGO SPLIT   ###########################################\n",
    "#     logo_x_train = features[features.year != year].drop(drop_cols, axis=1)\n",
    "#     logo_y_train = features[features.year != year].yield_mt.ravel()\n",
    "#     logo_g_train = features[features.year != year].year.ravel()\n",
    "#     logo_d_train = features[features.year != year].district.ravel()\n",
    "\n",
    "#     logo_x_test = features[features.year == year].drop(drop_cols, axis=1)\n",
    "#     logo_y_test = features[features.year == year].yield_mt.ravel()\n",
    "#     logo_g_test = features[features.year == year].year.ravel()\n",
    "#     logo_d_test = features[features.year == year].district.ravel()\n",
    "\n",
    "# #########################################     LOGO CV   ###########################################\n",
    "#     ### GRID SEARCH - FINDING BEST REGULARIZATION PARAMETER\n",
    "#     logo_ridge_reg = GridSearchCV(ridge, alphas, scoring='r2', cv=logo)\n",
    "#     logo_ridge_reg.fit(logo_x_train, logo_y_train, groups=logo_g_train)\n",
    "#     logo_best_model = logo_ridge_reg.best_estimator_\n",
    "#     ### PREDICT - PREDICTING WITH BEST HYPERPARAMETER\n",
    "#     logo_val_predictions = cross_val_predict(logo_best_model, X=logo_x_train, y=logo_y_train, groups=logo_g_train, cv=logo) \n",
    "#     logo_train_pred = logo_best_model.predict(logo_x_train)\n",
    "#     logo_test_pred  = logo_best_model.predict(logo_x_test)\n",
    "\n",
    "# #########################################     LOGO RESULTS   ###########################################\n",
    "#     val_results   = {'year': logo_g_train, 'district': logo_d_train, 'split': 'val', \n",
    "#                      'observed': logo_y_train, 'predicted': logo_val_predictions}\n",
    "\n",
    "#     train_results = {'year': logo_g_train, 'district': logo_d_train,'split': 'train', \n",
    "#                      'observed': logo_y_train, 'predicted': logo_train_pred}\n",
    "\n",
    "#     test_results  = {'year': logo_g_test, 'district': logo_d_test, 'split': 'test', \n",
    "#                      'observed': logo_y_test, 'predicted': logo_test_pred}\n",
    "\n",
    "#     logo_val_results.append(val_results)\n",
    "#     logo_train_results.append(train_results)\n",
    "#     logo_test_results.append(test_results)\n",
    "\n",
    "# #########################################     EXPLODE RESULTS   ###########################################\n",
    "# explode_cols = ['year', 'district', 'observed', 'predicted']\n",
    "# val_df   = pd.DataFrame(logo_val_results  ).explode(explode_cols) \n",
    "# train_df = pd.DataFrame(logo_train_results).explode(explode_cols) \n",
    "# test_df  = pd.DataFrame(logo_test_results ).explode(explode_cols)\n",
    "\n",
    "# group_cols    = ['year', 'district', 'split']\n",
    "# val_summary   =   val_df.groupby(group_cols, as_index=False).mean()\n",
    "# train_summary = train_df.groupby(group_cols, as_index=False).mean()"
   ]
  },
  {
   "cell_type": "code",
   "execution_count": 85,
   "id": "c438cba5-cebb-4403-b5ac-5fa18637c0a6",
   "metadata": {
    "tags": []
   },
   "outputs": [],
   "source": [
    "#########################################     SAVE RESULTS    #########################################\n",
    "# d = {\n",
    "#     'country': country_code,\n",
    "#     'satellite': satellite,\n",
    "#     'bands': bands,\n",
    "#     'num_features': num_features,\n",
    "#     'points': points, \n",
    "#     'month_range': f'{min(month_range)}-{max(month_range)}',\n",
    "\n",
    "#     'limit_months': limit_months,\n",
    "#     'crop_mask': crop_mask,\n",
    "#     'weighted_avg': weighted_avg,\n",
    "\n",
    "#     # 'kfold_total_n': len(x_all),\n",
    "#     # 'kfold_train_n': len(x_train),\n",
    "#     # 'kfold_test_n' : len(x_test),\n",
    "\n",
    "#     'kfold_best_reg_param': list(kfold_ridge_reg.best_params_.values())[0],\n",
    "#     'kfold_mean_of_val_R2s': kfold_ridge_reg.best_score_,\n",
    "#     'kfold_val_R2': r2_score(y_train, kfold_val_predictions),\n",
    "#     'kfold_val_r' : pearsonr(kfold_val_predictions, y_train)[0],\n",
    "#     'kfold_val_r2': pearsonr(kfold_val_predictions, y_train)[0] ** 2,\n",
    "\n",
    "#     'kfold_train_R2': r2_score(y_train, y_pred_train_k),\n",
    "#     'kfold_train_r' : pearsonr(y_pred_train_k, y_train)[0],\n",
    "#     'kfold_train_r2': pearsonr(y_pred_train_k, y_train)[0] ** 2,\n",
    "\n",
    "#     'kfold_test_R2': r2_score(y_test, y_pred_test_k),\n",
    "#     'kfold_test_r' : pearsonr(y_pred_test_k, y_test)[0],\n",
    "#     'kfold_test_r2': pearsonr(y_pred_test_k, y_test)[0] ** 2,\n",
    "\n",
    "#     'logo_total_n': len(features),\n",
    "#     'logo_train_n': len(train_df),\n",
    "#     'logo_test_n' : len(test_df),    \n",
    "\n",
    "#     'logo_best_reg_param': list(logo_ridge_reg.best_params_.values())[0],      \n",
    "#     'logo_summary_val_R2': r2_score(val_summary.observed, val_summary.predicted),\n",
    "#     'logo_summary_val_r' : pearsonr(val_summary.observed, val_summary.predicted)[0],\n",
    "#     'logo_val_R2' : r2_score(val_df.observed, val_df.predicted),\n",
    "#     'logo_val_r'  : pearsonr(val_df.predicted, val_df.observed)[0],\n",
    "#     'logo_val_r2' : pearsonr(val_df.predicted, val_df.observed)[0] ** 2,\n",
    "\n",
    "#     'logo_summary_train_R2': r2_score(train_summary.observed, train_summary.predicted),\n",
    "#     'logo_summary_train_r' : pearsonr(train_summary.observed, train_summary.predicted)[0],\n",
    "#     'logo_train_R2': r2_score(train_df.observed, train_df.predicted),\n",
    "#     'logo_train_r' : pearsonr(train_df.predicted, train_df.observed)[0],\n",
    "#     'logo_train_r2': pearsonr(train_df.predicted, train_df.observed)[0] ** 2,\n",
    "\n",
    "#     'logo_test_R2': r2_score(test_df.observed, test_df.predicted),\n",
    "#     'logo_test_r' : pearsonr(test_df.predicted, test_df.observed)[0],\n",
    "#     'logo_test_r2': pearsonr(test_df.predicted, test_df.observed)[0] ** 2,\n",
    "# }"
   ]
  },
  {
   "cell_type": "code",
   "execution_count": 86,
   "id": "2fef444b-c495-4ed5-b9bf-a2bdc73009f6",
   "metadata": {},
   "outputs": [],
   "source": [
    "# pd.DataFrame(d, index = [0])"
   ]
  },
  {
   "cell_type": "code",
   "execution_count": null,
   "id": "c9a86eb5-e3c6-4b60-9b9a-5d5896ea1042",
   "metadata": {},
   "outputs": [],
   "source": []
  }
 ],
 "metadata": {
  "kernelspec": {
   "display_name": "Python 3 (ipykernel)",
   "language": "python",
   "name": "python3"
  },
  "language_info": {
   "codemirror_mode": {
    "name": "ipython",
    "version": 3
   },
   "file_extension": ".py",
   "mimetype": "text/x-python",
   "name": "python",
   "nbconvert_exporter": "python",
   "pygments_lexer": "ipython3",
   "version": "3.8.13"
  }
 },
 "nbformat": 4,
 "nbformat_minor": 5
}
