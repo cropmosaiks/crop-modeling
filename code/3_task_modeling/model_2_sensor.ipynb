{
 "cells": [
  {
   "cell_type": "markdown",
   "id": "f576830d-9afa-47d8-9fac-8e43292ee090",
   "metadata": {},
   "source": [
    "# Modeling Crop Yield: Landsat + Sentinel\n",
    "## Python modules"
   ]
  },
  {
   "cell_type": "code",
   "execution_count": 1,
   "id": "44646286-2094-4bd0-8609-ad5efc857abc",
   "metadata": {
    "tags": []
   },
   "outputs": [],
   "source": [
    "## import warnings\n",
    "import time\n",
    "import math\n",
    "import os\n",
    "import glob\n",
    "from pyhere import here\n",
    "from datetime import date\n",
    "import re\n",
    "from collections import Counter\n",
    "\n",
    "import numpy as np\n",
    "import pandas as pd\n",
    "import geopandas\n",
    "import pickle\n",
    "\n",
    "import pyarrow\n",
    "import itertools\n",
    "import multiprocessing\n",
    "import p_tqdm\n",
    "\n",
    "from sklearn.preprocessing import StandardScaler\n",
    "from sklearn.linear_model import Ridge, RidgeCV\n",
    "from sklearn.model_selection import train_test_split, KFold, LeaveOneGroupOut, cross_val_score, GridSearchCV, cross_val_predict\n",
    "from sklearn.metrics import r2_score\n",
    "from scipy.stats import spearmanr,  pearsonr\n",
    "\n",
    "from task_modeling_utils import *\n",
    "from prediction_utils import *"
   ]
  },
  {
   "cell_type": "code",
   "execution_count": 5,
   "id": "1274c9a9-8016-4c08-91f8-f4075a1ca870",
   "metadata": {
    "tags": []
   },
   "outputs": [],
   "source": [
    "np.random.seed(0)"
   ]
  },
  {
   "cell_type": "code",
   "execution_count": 15,
   "id": "8a054b69-93f3-4442-8013-266b4dba2063",
   "metadata": {
    "tags": []
   },
   "outputs": [
    {
     "data": {
      "text/plain": [
       "['/Users/vermilirockfish/Documents/Github/crop-modeling/code/3_task_modeling/../../data/results/2_sensor_results_6_2023-03-20.csv',\n",
       " '/Users/vermilirockfish/Documents/Github/crop-modeling/code/3_task_modeling/../../data/results/2_sensor_results_2_2023-03-18.csv',\n",
       " '/Users/vermilirockfish/Documents/Github/crop-modeling/code/3_task_modeling/../../data/results/2_sensor_results_4_2023-03-19.csv',\n",
       " '/Users/vermilirockfish/Documents/Github/crop-modeling/code/3_task_modeling/../../data/results/2_sensor_results_5_2023-03-21.csv',\n",
       " '/Users/vermilirockfish/Documents/Github/crop-modeling/code/3_task_modeling/../../data/results/2_sensor_results_3_2023-03-18.csv',\n",
       " '/Users/vermilirockfish/Documents/Github/crop-modeling/code/3_task_modeling/../../data/results/2_sensor_results_1_2023-03-17.csv']"
      ]
     },
     "execution_count": 15,
     "metadata": {},
     "output_type": "execute_result"
    }
   ],
   "source": [
    "file_pattern = str(here('data', 'results', '2_sensor_results_*_*.csv'))\n",
    "files = glob.glob(pathname=file_pattern)\n",
    "results = merge_files(files)\n",
    "files"
   ]
  },
  {
   "cell_type": "code",
   "execution_count": 16,
   "id": "85213ee8-c687-412c-b373-52acd6262357",
   "metadata": {
    "tags": []
   },
   "outputs": [
    {
     "data": {
      "text/html": [
       "<div>\n",
       "<style scoped>\n",
       "    .dataframe tbody tr th:only-of-type {\n",
       "        vertical-align: middle;\n",
       "    }\n",
       "\n",
       "    .dataframe tbody tr th {\n",
       "        vertical-align: top;\n",
       "    }\n",
       "\n",
       "    .dataframe thead th {\n",
       "        text-align: right;\n",
       "    }\n",
       "</style>\n",
       "<table border=\"1\" class=\"dataframe\">\n",
       "  <thead>\n",
       "    <tr style=\"text-align: right;\">\n",
       "      <th></th>\n",
       "      <th>val_R2</th>\n",
       "      <th>val_r</th>\n",
       "      <th>val_r2</th>\n",
       "      <th>train_R2</th>\n",
       "      <th>train_r</th>\n",
       "      <th>train_r2</th>\n",
       "      <th>test_R2</th>\n",
       "      <th>test_r</th>\n",
       "      <th>test_r2</th>\n",
       "      <th>demean_cv_R2</th>\n",
       "      <th>demean_cv_r</th>\n",
       "    </tr>\n",
       "  </thead>\n",
       "  <tbody>\n",
       "    <tr>\n",
       "      <th>151</th>\n",
       "      <td>0.846564</td>\n",
       "      <td>0.920591</td>\n",
       "      <td>0.847488</td>\n",
       "      <td>0.967641</td>\n",
       "      <td>0.984107</td>\n",
       "      <td>0.968467</td>\n",
       "      <td>0.66043</td>\n",
       "      <td>0.837338</td>\n",
       "      <td>0.701135</td>\n",
       "      <td>0.310614</td>\n",
       "      <td>0.569358</td>\n",
       "    </tr>\n",
       "  </tbody>\n",
       "</table>\n",
       "</div>"
      ],
      "text/plain": [
       "       val_R2     val_r    val_r2  train_R2   train_r  train_r2  test_R2  \\\n",
       "151  0.846564  0.920591  0.847488  0.967641  0.984107  0.968467  0.66043   \n",
       "\n",
       "       test_r   test_r2  demean_cv_R2  demean_cv_r  \n",
       "151  0.837338  0.701135      0.310614     0.569358  "
      ]
     },
     "execution_count": 16,
     "metadata": {},
     "output_type": "execute_result"
    }
   ],
   "source": [
    "# top = results.test_R2.sort_values().index[-1]\n",
    "# results.iloc[top:top+1, 1:20]\n",
    "\n",
    "top = results.val_R2.sort_values().index[-1]\n",
    "results.iloc[top:top+1, 24:-1]"
   ]
  },
  {
   "cell_type": "code",
   "execution_count": 2,
   "id": "16825434-7870-4757-89e4-e3d1b2cf9ac5",
   "metadata": {},
   "outputs": [
    {
     "data": {
      "text/plain": [
       "<generator object <genexpr> at 0x7f491535c270>"
      ]
     },
     "execution_count": 2,
     "metadata": {},
     "output_type": "execute_result"
    }
   ],
   "source": [
    "directory = here(\"data\", \"random_features\", \"summary\")\n",
    "files = os.listdir(directory)\n",
    "files = list(f for f in files if f not in ('.gitkeep', '.ipynb_checkpoints'))\n",
    "paramlist = list(itertools.combinations(files, 2))\n",
    "paramlist = list(itertools.product(paramlist, [True, False]))\n",
    "paramlist = list(tuple(merge(paramlist[i])) for i in range(len(paramlist)))\n",
    "paramlist = sorted(paramlist, key=lambda tup: tup[2])\n",
    "paramlist = paramlist[3:4]\n",
    "len(paramlist)\n",
    "paramlist = (i for i in paramlist)\n",
    "paramlist"
   ]
  },
  {
   "cell_type": "code",
   "execution_count": null,
   "id": "76f0fa66",
   "metadata": {},
   "outputs": [],
   "source": [
    "model_2_sensor(paramlist)"
   ]
  },
  {
   "cell_type": "markdown",
   "id": "71510e8a",
   "metadata": {},
   "source": []
  },
  {
   "cell_type": "code",
   "execution_count": 3,
   "id": "d9050b1d",
   "metadata": {},
   "outputs": [
    {
     "name": "stderr",
     "output_type": "stream",
     "text": [
      "[mpiexec@pod-login1.podcluster] match_arg (utils/args/args.c:166): unrecognized argument pmi_args\n",
      "[mpiexec@pod-login1.podcluster] HYDU_parse_array (utils/args/args.c:181): argument matching returned error\n",
      "[mpiexec@pod-login1.podcluster] parse_args (ui/mpich/utils.c:1639): error parsing input array\n",
      "[mpiexec@pod-login1.podcluster] HYD_uii_mpx_get_parameters (ui/mpich/utils.c:1691): unable to parse user arguments\n",
      "[mpiexec@pod-login1.podcluster] main (ui/mpich/mpiexec.c:127): error parsing parameters\n"
     ]
    }
   ],
   "source": [
    "from mpi4py.futures import MPIPoolExecutor\n",
    "i = 1\n",
    "\n",
    "if __name__ == \"__main__\":\n",
    "    max_workers = 1 # int(os.environ.get(\"SLURM_NTASKS\", 4)) - 1\n",
    "\n",
    "    executor = MPIPoolExecutor(max_workers=max_workers)\n",
    "    output = executor.starmap(model_2_sensor, paramlist)\n",
    "    results = pd.DataFrame(output)\n",
    "    executor.shutdown()\n",
    "\n",
    "    today = date.today().strftime(\"%Y-%m-%d\")\n",
    "    file_name = f'2_sensor_results_{i}_{today}.csv'\n",
    "    print(f\"Saving results as: {file_name}\\n\\n\")\n",
    "    results.to_csv(here(\"data\",\"results\", file_name), index=False)"
   ]
  },
  {
   "cell_type": "code",
   "execution_count": 6,
   "id": "51c2a277-0c9c-4d65-b634-f94bb9dddd53",
   "metadata": {},
   "outputs": [
    {
     "data": {
      "text/html": [
       "<div>\n",
       "<style scoped>\n",
       "    .dataframe tbody tr th:only-of-type {\n",
       "        vertical-align: middle;\n",
       "    }\n",
       "\n",
       "    .dataframe tbody tr th {\n",
       "        vertical-align: top;\n",
       "    }\n",
       "\n",
       "    .dataframe thead th {\n",
       "        text-align: right;\n",
       "    }\n",
       "</style>\n",
       "<table border=\"1\" class=\"dataframe\">\n",
       "  <thead>\n",
       "    <tr style=\"text-align: right;\">\n",
       "      <th></th>\n",
       "      <th>country</th>\n",
       "      <th>year_range</th>\n",
       "      <th>satellite_1</th>\n",
       "      <th>bands_1</th>\n",
       "      <th>num_features_1</th>\n",
       "      <th>points_1</th>\n",
       "      <th>month_range_1</th>\n",
       "      <th>limit_months_1</th>\n",
       "      <th>crop_mask_1</th>\n",
       "      <th>weighted_avg_1</th>\n",
       "      <th>...</th>\n",
       "      <th>val_r2</th>\n",
       "      <th>train_R2</th>\n",
       "      <th>train_r</th>\n",
       "      <th>train_r2</th>\n",
       "      <th>test_R2</th>\n",
       "      <th>test_r</th>\n",
       "      <th>test_r2</th>\n",
       "      <th>demean_cv_R2</th>\n",
       "      <th>demean_cv_r</th>\n",
       "      <th>demean_cv_r2</th>\n",
       "    </tr>\n",
       "  </thead>\n",
       "  <tbody>\n",
       "    <tr>\n",
       "      <th>0</th>\n",
       "      <td>ZMB</td>\n",
       "      <td>2013-2021</td>\n",
       "      <td>landsat-8-c2-l2</td>\n",
       "      <td>1-2-3-4-5-6-7</td>\n",
       "      <td>1000</td>\n",
       "      <td>15</td>\n",
       "      <td>4-9</td>\n",
       "      <td>True</td>\n",
       "      <td>False</td>\n",
       "      <td>False</td>\n",
       "      <td>...</td>\n",
       "      <td>0.784041</td>\n",
       "      <td>0.943938</td>\n",
       "      <td>0.972433</td>\n",
       "      <td>0.945625</td>\n",
       "      <td>0.725691</td>\n",
       "      <td>0.870657</td>\n",
       "      <td>0.758044</td>\n",
       "      <td>0.031688</td>\n",
       "      <td>0.40105</td>\n",
       "      <td>0.160841</td>\n",
       "    </tr>\n",
       "  </tbody>\n",
       "</table>\n",
       "<p>1 rows × 36 columns</p>\n",
       "</div>"
      ],
      "text/plain": [
       "  country year_range      satellite_1        bands_1 num_features_1 points_1  \\\n",
       "0     ZMB  2013-2021  landsat-8-c2-l2  1-2-3-4-5-6-7           1000       15   \n",
       "\n",
       "  month_range_1 limit_months_1 crop_mask_1 weighted_avg_1  ...    val_r2  \\\n",
       "0           4-9           True       False          False  ...  0.784041   \n",
       "\n",
       "   train_R2   train_r  train_r2   test_R2    test_r   test_r2 demean_cv_R2  \\\n",
       "0  0.943938  0.972433  0.945625  0.725691  0.870657  0.758044     0.031688   \n",
       "\n",
       "   demean_cv_r  demean_cv_r2  \n",
       "0      0.40105      0.160841  \n",
       "\n",
       "[1 rows x 36 columns]"
      ]
     },
     "execution_count": 6,
     "metadata": {},
     "output_type": "execute_result"
    }
   ],
   "source": [
    "results"
   ]
  },
  {
   "cell_type": "code",
   "execution_count": 5,
   "id": "f752cfdc-7cca-4ce2-9841-ac6118f0bbb7",
   "metadata": {
    "tags": []
   },
   "outputs": [],
   "source": [
    "# %%time     \n",
    "# ##### With progress bar\n",
    "# workers = os.cpu_count()\n",
    "# if __name__ == \"__main__\":\n",
    "#     output = []\n",
    "#     for result in p_tqdm.p_map(model_2_sensor, paramlist):\n",
    "#         output.append(result)\n",
    "#     results = pd.concat(output).reset_index(drop=True)\n",
    "#     today = date.today().strftime(\"%Y-%m-%d\")\n",
    "#     file_name = f'2_sensor_results_{today}.csv'\n",
    "#     print(f\"Saving results as: {file_name}\\n\\n\")           \n",
    "#     results.to_csv(here(\"data\",\"results\", file_name), index=False)"
   ]
  },
  {
   "cell_type": "code",
   "execution_count": 16,
   "id": "ae1de936-ecb5-4d64-adf3-dc778656b05c",
   "metadata": {
    "tags": []
   },
   "outputs": [
    {
     "name": "stdout",
     "output_type": "stream",
     "text": [
      "\n",
      "Begin with paramters:\n",
      "\tlandsat-8-c2-l2_bands-1-2-3-4-5-6-7_ZMB_15k-points_1000-features_yr-2013-2021_mn-4-9_lm-True_cm-False_wa-False_summary.feather\n",
      "\tsentinel-2-l2a_bands-2-3-4-8_ZMB_15k-points_1000-features_yr-2016-2022_mn-4-9_lm-True_cm-True_wa-False_summary.feather\n",
      "\tOne-hot encoding: False\n",
      "\n",
      "CPU times: user 1.7 s, sys: 1.17 s, total: 2.87 s\n",
      "Wall time: 1.62 s\n"
     ]
    },
    {
     "data": {
      "text/plain": [
       "0"
      ]
     },
     "execution_count": 16,
     "metadata": {},
     "output_type": "execute_result"
    }
   ],
   "source": [
    "%%time\n",
    "## TESTING  \n",
    "f1 = 'landsat-8-c2-l2_bands-1-2-3-4-5-6-7_ZMB_15k-points_1000-features_yr-2013-2021_mn-4-9_lm-True_cm-False_wa-False_summary.feather'\n",
    "f2 = 'sentinel-2-l2a_bands-2-3-4-8_ZMB_15k-points_1000-features_yr-2016-2022_mn-4-9_lm-True_cm-True_wa-False_summary.feather'\n",
    "hot_encode = False\n",
    "n_splits = 5\n",
    "\n",
    "#########################################     SET PARAMS    #########################################    \n",
    "# f1         = params[0]\n",
    "# f2         = params[1]\n",
    "# hot_encode = params[2]\n",
    "\n",
    "satellite1, bands1, country_code, points1, yrs1, mns1,\\\n",
    "num_features1, limit_months1, crop_mask1, weighted_avg1 = split_fn(f1)\n",
    "\n",
    "satellite2, bands2, country_code, points2, yrs2, mns2,\\\n",
    "num_features2, limit_months2, crop_mask2, weighted_avg2 = split_fn(f2)\n",
    "\n",
    "print(f\"\\nBegin with paramters:\\n\\t{f1}\\n\\t{f2}\\n\\tOne-hot encoding: {hot_encode}\\n\")\n",
    "\n",
    "#########################################     READ DATA    #########################################\n",
    "features_1 = pd.read_feather(here('data', 'random_features', 'summary', f1))\n",
    "features_2 = pd.read_feather(here('data', 'random_features', 'summary', f2))\n",
    "\n",
    "#########################################     CLEAN DATA    #########################################  \n",
    "min_year = max(min(features_1.year), min(features_2.year))\n",
    "max_year = min(max(features_1.year), max(features_2.year))\n",
    "\n",
    "features_1 = features_1[features_1.year >= min_year]\n",
    "features_2 = features_2[features_2.year >= min_year]\n",
    "\n",
    "features_1 = features_1[features_1.year <= max_year]\n",
    "features_2 = features_2[features_2.year <= max_year]\n",
    "\n",
    "features_1.drop(['crop_perc'], axis=1, errors='ignore', inplace=True)\n",
    "features_2.drop(['crop_perc'], axis=1, errors='ignore', inplace=True)\n",
    "\n",
    "#########################################     JOIN FEATURES    #########################################  \n",
    "drop_cols = ['district', 'year', 'yield_mt']\n",
    "\n",
    "features_1 = features_1.set_index(drop_cols).add_prefix(\"f1_\")\n",
    "features_2 = features_2.set_index(drop_cols).add_prefix(\"f2_\")\n",
    "\n",
    "features = features_1.join(features_2).reset_index()\n",
    "features = features[~features.isna().any(axis = 1)]\n",
    "\n",
    "#########################################     CLEAN AND COPY    ######################################### \n",
    "yrs = f'{min(features.year)}-{max(features.year)}'\n",
    "n_fts_1 = features_1.shape[1]\n",
    "n_districts = len(features.district.unique())\n",
    "\n",
    "crop_yield = features.copy().loc[:, tuple(drop_cols)]\n",
    "crop_yield[\"log_yield\"] = np.log10(crop_yield.yield_mt.to_numpy() + 1)\n",
    "\n",
    "del features_1, features_2; gc.collect()\n",
    "\n",
    "#########################################    HOT ENCODE    ######################################### \n",
    "if hot_encode:\n",
    "    drop_cols.remove('district')\n",
    "    features = pd.get_dummies(features, columns = [\"district\"], drop_first = False)\n",
    "\n",
    "#########################################    STANDARDIZE FEATURES    #########################################    \n",
    "features = features.set_index(drop_cols) \n",
    "features_scaled = StandardScaler().fit_transform(features.values)\n",
    "features = pd.DataFrame(features_scaled, index=features.index).reset_index()\n",
    "features.columns = features.columns.astype(str)\n",
    "\n",
    "#########################################     K-FOLD SPLIT    #########################################\n",
    "x_all = features.drop(drop_cols, axis = 1) \n",
    "y_all = np.log10(features.yield_mt.to_numpy() + 1)\n",
    "x_train, x_test, y_train, y_test = train_test_split(x_all, y_all, test_size=0.2, random_state=0)\n",
    "\n",
    "del features; gc.collect()\n"
   ]
  },
  {
   "cell_type": "code",
   "execution_count": 17,
   "id": "f2f00b34",
   "metadata": {},
   "outputs": [
    {
     "name": "stdout",
     "output_type": "stream",
     "text": [
      "1e-08 1e-07 1e-06 9.999999999999999e-06 9.999999999999999e-05 0.001 0.01 0.09999999999999999 1.0 10.0 100.0 1000.0 10000.0 100000.0 1000000.0 10000000.0 100000000.0 \n",
      "\tBest λ 1: 10.0\n",
      "\tVal R2 1: 0.6917\n",
      "\n",
      "1e-08 1e-07 1e-06 9.999999999999999e-06 9.999999999999999e-05 0.001 0.01 0.09999999999999999 1.0 10.0 100.0 1000.0 10000.0 100000.0 1000000.0 10000000.0 100000000.0 \n",
      "\tBest λ 2: 1.0\n",
      "\tVal R2 2: 0.6917\n",
      "\n",
      "\n",
      "Finish:\n",
      "landsat-8-c2-l2_bands-1-2-3-4-5-6-7_ZMB_15k-points_1000-features_yr-2013-2021_mn-4-9_lm-True_cm-False_wa-False_summary.feather\n",
      "sentinel-2-l2a_bands-2-3-4-8_ZMB_15k-points_1000-features_yr-2016-2022_mn-4-9_lm-True_cm-True_wa-False_summary.feather\n",
      "One-hot encoding: False\n",
      "Final Val R2:  0.7119 \n",
      "Final Test R2: 0.6647\n",
      "Total time: 71.85 minutes\n",
      "\n",
      "CPU times: user 6h 11min 51s, sys: 3h 51min 19s, total: 10h 3min 11s\n",
      "Wall time: 1h 11min 51s\n"
     ]
    }
   ],
   "source": [
    "%%time\n",
    "#########################################     K-FOLD CV    ###########################################\n",
    "### SETUP\n",
    "tic = time.time()\n",
    "kfold  = KFold(n_splits=n_splits)\n",
    "alphas = {'alpha': np.logspace(-8, 8, base = 10, num = 17)}\n",
    "### LAMBDA INDICIES\n",
    "start = [0, n_fts_1]\n",
    "end   = [n_fts_1, x_train.shape[1]] \n",
    "if hot_encode:\n",
    "    start.append(x_train.shape[1]-n_districts)\n",
    "    end.append(x_train.shape[1]-n_districts)\n",
    "    end.sort()\n",
    "### GRID SEARCH - FINDING BEST REGULARIZATION PARAMETER(S)\n",
    "best_lambdas, best_scores, best_model = kfold_rr_multi_lambda_tuning(\n",
    "    X=x_train,\n",
    "    y=y_train, \n",
    "    grid=alphas.get('alpha'), \n",
    "    n_splits=n_splits,\n",
    "    start=start,\n",
    "    end=end, \n",
    "    static_lam=1,\n",
    "    verbose=2,\n",
    "    show_linalg_warning=False,\n",
    "    fit_model_after_tuning=True\n",
    ")\n",
    "### PREDICT WITH BEST HYPERPARAMETER(S)\n",
    "val_predictions   = cross_val_predict(best_model, X=x_train, y=y_train, cv=kfold)   \n",
    "train_predictions = best_model.predict(x_train)\n",
    "test_predictions  = best_model.predict(x_test)\n",
    "print(f\"\"\"\n",
    "Finish:\n",
    "    {f1}\n",
    "    {f2}\n",
    "    One-hot encoding: {hot_encode}\n",
    "    Final Val R2:  {r2_score(y_train, val_predictions):0.4f} \n",
    "    Final Test R2: {r2_score(y_test, test_predictions):0.4f}\n",
    "    Total time: {(time.time()-tic)/60:0.2f} minutes\n",
    "\"\"\")\n",
    "\n",
    "#########################################     DE-MEAN R2    #########################################    \n",
    "crop_yield[\"prediction\"] = np.maximum(best_model.predict(x_all), 0)\n",
    "\n",
    "train_split = pd.DataFrame(np.repeat('train', len(x_train)), columns = ['split'], index = x_train.index)\n",
    "train_split = train_split.join(crop_yield.copy()[crop_yield.index.isin(x_train.index)])\n",
    "train_split['cv_prediction'] = np.maximum(val_predictions, 0)\n",
    "train_split[\"demean_cv_yield\"] = train_split[\"log_yield\"]-train_split.groupby('district')['log_yield'].transform('mean')\n",
    "train_split[\"demean_cv_prediction\"] = train_split[\"cv_prediction\"]-train_split.groupby('district')['cv_prediction'].transform('mean')\n",
    "\n",
    "test_split = pd.DataFrame(np.repeat('test', len(x_test)), columns = ['split'], index = x_test.index)\n",
    "test_split = test_split.join(crop_yield.copy()[crop_yield.index.isin(x_test.index)])\n",
    "test_split['cv_prediction'] = np.repeat(np.nan, len(x_test))\n",
    "test_split[\"demean_cv_yield\"] = np.repeat(np.nan, len(x_test))\n",
    "test_split[\"demean_cv_prediction\"] = np.repeat(np.nan, len(x_test))\n",
    "\n",
    "#########################################     SAVE RESULTS    #########################################\n",
    "d = {\n",
    "    'country': country_code[0],\n",
    "    'year_range': yrs,\n",
    "\n",
    "    'satellite_1'   : satellite1[0],\n",
    "    'bands_1'       : bands1,\n",
    "    'num_features_1': num_features1,\n",
    "    'points_1'      : points1, \n",
    "    'month_range_1' : mns1,\n",
    "    'limit_months_1': limit_months1,\n",
    "    'crop_mask_1'   : crop_mask1,\n",
    "    'weighted_avg_1': weighted_avg1,\n",
    "\n",
    "    'satellite_2'   : satellite2[0],\n",
    "    'bands_2'       : bands2,\n",
    "    'num_features_2': num_features2,\n",
    "    'points_2'      : points2, \n",
    "    'month_range_2' : mns2,\n",
    "    'limit_months_2': limit_months2,\n",
    "    'crop_mask_2'   : crop_mask2,\n",
    "    'weighted_avg_2': weighted_avg2,\n",
    "\n",
    "    'hot_encode': hot_encode,\n",
    "\n",
    "    'total_n': len(x_all),\n",
    "    'train_n': len(x_train),\n",
    "    'test_n' : len(x_test),\n",
    "\n",
    "    'best_reg_param': [best_lambdas],\n",
    "    'mean_of_val_R2': [best_scores],\n",
    "    'val_R2': r2_score(y_train, val_predictions),\n",
    "    'val_r' : pearsonr(val_predictions, y_train)[0],\n",
    "    'val_r2': pearsonr(val_predictions, y_train)[0] ** 2,\n",
    "\n",
    "    'train_R2': r2_score(y_train, train_predictions),\n",
    "    'train_r' : pearsonr(train_predictions, y_train)[0],\n",
    "    'train_r2': pearsonr(train_predictions, y_train)[0] ** 2,\n",
    "\n",
    "    'test_R2': r2_score(y_test, test_predictions),\n",
    "    'test_r' : pearsonr(test_predictions, y_test)[0],\n",
    "    'test_r2': pearsonr(test_predictions, y_test)[0] ** 2,\n",
    "\n",
    "    'demean_cv_R2': r2_score(train_split.demean_cv_yield, train_split.demean_cv_prediction),\n",
    "    'demean_cv_r':  pearsonr(train_split.demean_cv_yield, train_split.demean_cv_prediction)[0],\n",
    "    'demean_cv_r2': pearsonr(train_split.demean_cv_yield, train_split.demean_cv_prediction)[0] ** 2,\n",
    "}\n",
    "df = pd.DataFrame(data=d, index=[0])\n",
    "# return pd.DataFrame(data=d, index=[0])"
   ]
  },
  {
   "cell_type": "code",
   "execution_count": null,
   "id": "b9451bd2",
   "metadata": {},
   "outputs": [],
   "source": []
  }
 ],
 "metadata": {
  "kernelspec": {
   "display_name": "Python 3 (ipykernel)",
   "language": "python",
   "name": "python3"
  },
  "language_info": {
   "codemirror_mode": {
    "name": "ipython",
    "version": 3
   },
   "file_extension": ".py",
   "mimetype": "text/x-python",
   "name": "python",
   "nbconvert_exporter": "python",
   "pygments_lexer": "ipython3",
   "version": "3.9.16"
  },
  "vscode": {
   "interpreter": {
    "hash": "fec78c4aa066b70eb4890a66d67729df88bd6fefdc0eec39af542817ac9abede"
   }
  }
 },
 "nbformat": 4,
 "nbformat_minor": 5
}
