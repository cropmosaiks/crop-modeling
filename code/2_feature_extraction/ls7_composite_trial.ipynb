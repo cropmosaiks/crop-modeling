{
 "cells": [
  {
   "cell_type": "code",
   "execution_count": 1,
   "id": "725c47df-a6f3-4d2a-a2d4-5401ff2f0a6f",
   "metadata": {},
   "outputs": [],
   "source": [
    "import stackstac\n",
    "import pystac_client\n",
    "import pyproj\n",
    "import planetary_computer as pc\n",
    "from pystac.extensions.eo import EOExtension as eo\n",
    "import numpy as np\n",
    "import matplotlib.pyplot as plt\n",
    "\n",
    "catalog = pystac_client.Client.open('https://planetarycomputer.microsoft.com/api/stac/v1')\n",
    "\n",
    "# search = catalog.search(\n",
    "#     collections=['landsat-c2-l2'],  \n",
    "#     intersects=dict(type=\"Point\", coordinates=[20, 5]),\n",
    "#     datetime=\"2008-02-01/2008-06-01\",\n",
    "#     # query={\"eo:cloud_cover\": {\"lt\": 20}},  \n",
    "#     query={\n",
    "#         \"platform\": {\"in\": [\"landsat-5\", \"landsat-8\"]},\n",
    "#           # \"eo:cloud_cover\": {\"lt\": 20}\n",
    "#           },  \n",
    "#     limit=1,\n",
    "# )\n",
    "# items = pc.sign(search); items[0].properties"
   ]
  },
  {
   "cell_type": "code",
   "execution_count": 2,
   "id": "71bb4dde-c791-454d-81e8-96e17d4aaf80",
   "metadata": {},
   "outputs": [
    {
     "name": "stdout",
     "output_type": "stream",
     "text": [
      "14\n"
     ]
    },
    {
     "data": {
      "text/plain": [
       "{'gsd': 30,\n",
       " 'created': '2022-05-06T16:39:44.838226Z',\n",
       " 'sci:doi': '10.5066/P9C7I13B',\n",
       " 'datetime': '2010-03-08T08:47:50.649736Z',\n",
       " 'platform': 'landsat-7',\n",
       " 'proj:epsg': 32634,\n",
       " 'proj:shape': [6961, 7981],\n",
       " 'description': 'Landsat Collection 2 Level-2',\n",
       " 'instruments': ['etm+'],\n",
       " 'eo:cloud_cover': 7.0,\n",
       " 'proj:transform': [30.0, 0.0, 236385.0, 0.0, -30.0, 584415.0],\n",
       " 'view:off_nadir': 0,\n",
       " 'landsat:wrs_row': '057',\n",
       " 'landsat:scene_id': 'LE71800572010067ASN00',\n",
       " 'landsat:wrs_path': '180',\n",
       " 'landsat:wrs_type': '2',\n",
       " 'view:sun_azimuth': 106.1904478,\n",
       " 'landsat:correction': 'L2SP',\n",
       " 'view:sun_elevation': 57.65138268,\n",
       " 'landsat:cloud_cover_land': 7.0,\n",
       " 'landsat:collection_number': '02',\n",
       " 'landsat:collection_category': 'T1'}"
      ]
     },
     "execution_count": 2,
     "metadata": {},
     "output_type": "execute_result"
    }
   ],
   "source": [
    "aoi = dict(type=\"Point\", coordinates=[20, 5])\n",
    "daterange=\"2008-02-01/2010-06-01\"\n",
    "cloud_cover=20\n",
    "search = catalog.search(filter_lang=\"cql2-json\", filter={\n",
    "  \"op\": \"and\",\n",
    "  \"args\": [\n",
    "    {\"op\": \"s_intersects\", \"args\": [{\"property\": \"geometry\"}, aoi]},\n",
    "    {\"op\": \"anyinteracts\", \"args\": [{\"property\": \"datetime\"}, daterange]},\n",
    "    {\"op\": \"=\", \"args\": [{\"property\": \"collection\"}, \"landsat-c2-l2\"]},\n",
    "    {\"op\": \"in\", \"args\": [{\"property\": \"platform\"}, [\n",
    "        # \"landsat-5\", \n",
    "        \"landsat-7\", \n",
    "        # \"landsat-8\"\n",
    "    ]]},\n",
    "    {\"op\": \"lt\", \"args\": [{\"property\": \"eo:cloud_cover\"}, cloud_cover]},\n",
    "      \n",
    "  ]\n",
    "})\n",
    "# first_item = next(search.get_items())\n",
    "# items = pc.sign_item(first_item).assets\n",
    "items = pc.sign(search); print(len(items)); items[0].properties"
   ]
  },
  {
   "cell_type": "code",
   "execution_count": 8,
   "id": "be0b95c5-6d15-46d7-9312-bc58410579f1",
   "metadata": {},
   "outputs": [],
   "source": [
    "stack = stackstac.stack(\n",
    "    items, assets=[\"red\", \"green\", \"blue\",]).where(lambda x: x > 0, other=np.nan)\n",
    "x_utm, y_utm = pyproj.Proj(stack.crs)(20, 5)\n",
    "buffer = 1000  # meters\n",
    "data = stack.loc[..., y_utm+buffer:y_utm-buffer, x_utm-buffer:x_utm+buffer]\n",
    "data = ((data - data.min()) ) / (data.max() - data.min())\n",
    "image = data.median(\"time\", keep_attrs=True).compute()"
   ]
  },
  {
   "cell_type": "code",
   "execution_count": 10,
   "id": "9ce79bec-a9a2-4445-a9e5-f4ff81304b24",
   "metadata": {},
   "outputs": [
    {
     "data": {
      "image/png": "[encoded data removed]",
      "text/plain": [
       "<Figure size 576x576 with 1 Axes>"
      ]
     },
     "metadata": {
      "needs_background": "light"
     },
     "output_type": "display_data"
    }
   ],
   "source": [
    "fig, ax = plt.subplots(figsize=(8, 8))\n",
    "\n",
    "ax.set_axis_off()\n",
    "image.plot.imshow(ax=ax);"
   ]
  },
  {
   "cell_type": "code",
   "execution_count": null,
   "id": "28fff985-46f6-4830-8804-5b5c0d759228",
   "metadata": {},
   "outputs": [],
   "source": []
  }
 ],
 "metadata": {
  "kernelspec": {
   "display_name": "Python 3 (ipykernel)",
   "language": "python",
   "name": "python3"
  },
  "language_info": {
   "codemirror_mode": {
    "name": "ipython",
    "version": 3
   },
   "file_extension": ".py",
   "mimetype": "text/x-python",
   "name": "python",
   "nbconvert_exporter": "python",
   "pygments_lexer": "ipython3",
   "version": "3.8.13"
  }
 },
 "nbformat": 4,
 "nbformat_minor": 5
}
