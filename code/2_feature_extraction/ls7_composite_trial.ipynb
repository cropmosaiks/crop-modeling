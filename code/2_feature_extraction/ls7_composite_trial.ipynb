{
 "cells": [
  {
   "cell_type": "code",
   "execution_count": 1,
   "id": "725c47df-a6f3-4d2a-a2d4-5401ff2f0a6f",
   "metadata": {},
   "outputs": [],
   "source": [
    "import stackstac\n",
    "import pystac_client\n",
    "import pyproj\n",
    "import planetary_computer as pc\n",
    "from pystac.extensions.eo import EOExtension as eo\n",
    "import numpy as np\n",
    "import matplotlib.pyplot as plt\n",
    "\n",
    "catalog = pystac_client.Client.open('https://planetarycomputer.microsoft.com/api/stac/v1')"
   ]
  },
  {
   "cell_type": "code",
   "execution_count": 2,
   "id": "71bb4dde-c791-454d-81e8-96e17d4aaf80",
   "metadata": {},
   "outputs": [
    {
     "name": "stdout",
     "output_type": "stream",
     "text": [
      "14\n"
     ]
    },
    {
     "data": {
      "text/plain": [
       "{'gsd': 30,\n",
       " 'created': '2022-05-06T16:39:44.838226Z',\n",
       " 'sci:doi': '10.5066/P9C7I13B',\n",
       " 'datetime': '2010-03-08T08:47:50.649736Z',\n",
       " 'platform': 'landsat-7',\n",
       " 'proj:epsg': 32634,\n",
       " 'proj:shape': [6961, 7981],\n",
       " 'description': 'Landsat Collection 2 Level-2',\n",
       " 'instruments': ['etm+'],\n",
       " 'eo:cloud_cover': 7.0,\n",
       " 'proj:transform': [30.0, 0.0, 236385.0, 0.0, -30.0, 584415.0],\n",
       " 'view:off_nadir': 0,\n",
       " 'landsat:wrs_row': '057',\n",
       " 'landsat:scene_id': 'LE71800572010067ASN00',\n",
       " 'landsat:wrs_path': '180',\n",
       " 'landsat:wrs_type': '2',\n",
       " 'view:sun_azimuth': 106.1904478,\n",
       " 'landsat:correction': 'L2SP',\n",
       " 'view:sun_elevation': 57.65138268,\n",
       " 'landsat:cloud_cover_land': 7.0,\n",
       " 'landsat:collection_number': '02',\n",
       " 'landsat:collection_category': 'T1'}"
      ]
     },
     "execution_count": 2,
     "metadata": {},
     "output_type": "execute_result"
    }
   ],
   "source": [
    "aoi = dict(type=\"Point\", coordinates=[20, 5])\n",
    "daterange=\"2008-02-01/2010-06-01\"\n",
    "cloud_cover=20\n",
    "search = catalog.search(filter_lang=\"cql2-json\", filter={\n",
    "  \"op\": \"and\",\n",
    "  \"args\": [\n",
    "    {\"op\": \"s_intersects\", \"args\": [{\"property\": \"geometry\"}, aoi]},\n",
    "    {\"op\": \"anyinteracts\", \"args\": [{\"property\": \"datetime\"}, daterange]},\n",
    "    {\"op\": \"=\", \"args\": [{\"property\": \"collection\"}, \"landsat-c2-l2\"]},\n",
    "    {\"op\": \"in\", \"args\": [{\"property\": \"platform\"}, [\n",
    "        # \"landsat-5\", \n",
    "        \"landsat-7\", \n",
    "        # \"landsat-8\"\n",
    "    ]]},\n",
    "    {\"op\": \"lt\", \"args\": [{\"property\": \"eo:cloud_cover\"}, cloud_cover]},\n",
    "      \n",
    "  ]\n",
    "})\n",
    "first_item = next(search.get_items())\n",
    "item = pc.sign_item(first_item)\n",
    "items = pc.sign(search); print(len(items)); items[0].properties"
   ]
  },
  {
   "cell_type": "code",
   "execution_count": 3,
   "id": "444c0ac9-725b-4b0b-b036-31da369d74ac",
   "metadata": {},
   "outputs": [
    {
     "data": {
      "text/plain": [
       "<xarray.plot.facetgrid.FacetGrid at 0x7f41b1c2ce80>"
      ]
     },
     "execution_count": 3,
     "metadata": {},
     "output_type": "execute_result"
    },
    {
     "data": {
      "image/png": "[encoded data removed]",
      "text/plain": [
       "<Figure size 504x432 with 1 Axes>"
      ]
     },
     "metadata": {
      "needs_background": "light"
     },
     "output_type": "display_data"
    }
   ],
   "source": [
    "stack = stackstac.stack(item, assets=[\"red\", \"green\", \"blue\",])\n",
    "x_utm, y_utm = pyproj.Proj(stack.crs)(20, 5)\n",
    "buffer = 500  # meters\n",
    "aoi = stack.loc[..., y_utm+buffer:y_utm-buffer, x_utm-buffer:x_utm+buffer]\n",
    "data = aoi.compute()\n",
    "data.plot.imshow(row=\"time\", rgb=\"band\", robust=True, size=6)"
   ]
  },
  {
   "cell_type": "code",
   "execution_count": 4,
   "id": "0be44444-dd7b-4e1a-839a-3c2189d107e0",
   "metadata": {},
   "outputs": [],
   "source": [
    "import numpy as np\n",
    "from scipy import ndimage as nd\n",
    "\n",
    "def fill(data, invalid=None):\n",
    "    \"\"\"\n",
    "    Replace the value of invalid 'data' cells (indicated by 'invalid') \n",
    "    by the value of the nearest valid data cell\n",
    "\n",
    "    Input:\n",
    "        data:    numpy array of any dimension\n",
    "        invalid: a binary array of same shape as 'data'. \n",
    "                 data value are replaced where invalid is True\n",
    "                 If None (default), use: invalid  = np.isnan(data)\n",
    "\n",
    "    Output: \n",
    "        Return a filled array. \n",
    "    \"\"\"    \n",
    "    if invalid is None: invalid = np.isnan(data)\n",
    "\n",
    "    ind = nd.distance_transform_edt(invalid, \n",
    "                                    return_distances=False, \n",
    "                                    return_indices=True)\n",
    "    return data[tuple(ind)]"
   ]
  },
  {
   "cell_type": "code",
   "execution_count": 93,
   "id": "1f767dac-6886-41b0-8196-b4073a6f7608",
   "metadata": {},
   "outputs": [
    {
     "data": {
      "text/plain": [
       "(388635.0, 389655.0, 552255.0, 553245.0)"
      ]
     },
     "execution_count": 93,
     "metadata": {},
     "output_type": "execute_result"
    },
    {
     "data": {
      "image/png": "[encoded data removed]",
      "text/plain": [
       "<Figure size 504x432 with 1 Axes>"
      ]
     },
     "metadata": {
      "needs_background": "light"
     },
     "output_type": "display_data"
    }
   ],
   "source": [
    "stack = stackstac.stack(item, assets=[\"red\", \"green\", \"blue\",])\n",
    "x_utm, y_utm = pyproj.Proj(stack.crs)(20, 5)\n",
    "buffer = 500  # meters\n",
    "aoi = stack.loc[..., y_utm+buffer:y_utm-buffer, x_utm-buffer:x_utm+buffer]\n",
    "data = aoi.compute()\n",
    "# data = data.interpolate_na(dim='x', method = \"nearest\")\n",
    "data.plot.imshow(row=\"time\", rgb=\"band\", robust=True, size=6, )\n",
    "plt.axis('off')"
   ]
  },
  {
   "cell_type": "code",
   "execution_count": 83,
   "id": "9858b54e-16ef-4c35-a2f8-f48d97ad99f7",
   "metadata": {},
   "outputs": [
    {
     "data": {
      "text/plain": [
       "(1, 3, 33, 34)"
      ]
     },
     "execution_count": 83,
     "metadata": {},
     "output_type": "execute_result"
    }
   ],
   "source": [
    "data = fill(data.data)\n",
    "out_image = ((data - np.nanmin(data) ) / (np.nanmax(data) - np.nanmin(data)))"
   ]
  },
  {
   "cell_type": "code",
   "execution_count": 97,
   "id": "c01dc0ae-071c-4fbf-966c-cabdd1bbd240",
   "metadata": {},
   "outputs": [
    {
     "data": {
      "image/png": "[encoded data removed]",
      "text/plain": [
       "<Figure size 576x576 with 1 Axes>"
      ]
     },
     "metadata": {
      "needs_background": "light"
     },
     "output_type": "display_data"
    }
   ],
   "source": [
    "image = np.rollaxis(out_image.squeeze(), 0, 3)\n",
    "plt.figure(figsize = (8, 8))\n",
    "plt.imshow(image)\n",
    "plt.show()\n",
    "plt.axis('off')\n",
    "plt.close()"
   ]
  },
  {
   "cell_type": "code",
   "execution_count": 69,
   "id": "b9e8817a-46ff-432f-88a9-44e256fd2ed6",
   "metadata": {},
   "outputs": [
    {
     "ename": "ValueError",
     "evalue": "axes don't match array",
     "output_type": "error",
     "traceback": [
      "\u001b[0;31m---------------------------------------------------------------------------\u001b[0m",
      "\u001b[0;31mValueError\u001b[0m                                Traceback (most recent call last)",
      "Input \u001b[0;32mIn [69]\u001b[0m, in \u001b[0;36m<cell line: 1>\u001b[0;34m()\u001b[0m\n\u001b[0;32m----> 1\u001b[0m im2display \u001b[38;5;241m=\u001b[39m \u001b[43mdata\u001b[49m\u001b[38;5;241;43m.\u001b[39;49m\u001b[43mtranspose\u001b[49m\u001b[43m(\u001b[49m\u001b[43m(\u001b[49m\u001b[38;5;241;43m1\u001b[39;49m\u001b[43m,\u001b[49m\u001b[38;5;241;43m2\u001b[39;49m\u001b[43m,\u001b[49m\u001b[38;5;241;43m0\u001b[39;49m\u001b[43m)\u001b[49m\u001b[43m)\u001b[49m\n\u001b[1;32m      2\u001b[0m im2display\n",
      "\u001b[0;31mValueError\u001b[0m: axes don't match array"
     ]
    }
   ],
   "source": [
    "im2display = data.transpose((1,2,0))\n",
    "im2display"
   ]
  },
  {
   "cell_type": "code",
   "execution_count": null,
   "id": "ac43aa91-24a5-4ab9-b6cd-de658a8f184f",
   "metadata": {},
   "outputs": [],
   "source": []
  },
  {
   "cell_type": "code",
   "execution_count": 18,
   "id": "be0b95c5-6d15-46d7-9312-bc58410579f1",
   "metadata": {},
   "outputs": [],
   "source": [
    "stack = stackstac.stack(\n",
    "    items, assets=[\"red\", \"green\", \"blue\",]).where(lambda x: x > 0, other=np.nan)\n",
    "x_utm, y_utm = pyproj.Proj(stack.crs)(20, 5)\n",
    "buffer = 500  # meters\n",
    "data = stack.loc[..., y_utm+buffer:y_utm-buffer, x_utm-buffer:x_utm+buffer]\n",
    "data = ((data - data.min()) ) / (data.max() - data.min())\n",
    "image = data.median(\"time\", keep_attrs=True).compute()"
   ]
  },
  {
   "cell_type": "code",
   "execution_count": 19,
   "id": "9ce79bec-a9a2-4445-a9e5-f4ff81304b24",
   "metadata": {},
   "outputs": [
    {
     "ename": "AttributeError",
     "evalue": "'numpy.ndarray' object has no attribute 'plot'",
     "output_type": "error",
     "traceback": [
      "\u001b[0;31m---------------------------------------------------------------------------\u001b[0m",
      "\u001b[0;31mAttributeError\u001b[0m                            Traceback (most recent call last)",
      "Input \u001b[0;32mIn [51]\u001b[0m, in \u001b[0;36m<cell line: 4>\u001b[0;34m()\u001b[0m\n\u001b[1;32m      1\u001b[0m fig, ax \u001b[38;5;241m=\u001b[39m plt\u001b[38;5;241m.\u001b[39msubplots(figsize\u001b[38;5;241m=\u001b[39m(\u001b[38;5;241m8\u001b[39m, \u001b[38;5;241m8\u001b[39m))\n\u001b[1;32m      3\u001b[0m ax\u001b[38;5;241m.\u001b[39mset_axis_off()\n\u001b[0;32m----> 4\u001b[0m \u001b[43mdata\u001b[49m\u001b[38;5;241;43m.\u001b[39;49m\u001b[43mplot\u001b[49m\u001b[38;5;241m.\u001b[39mimshow(ax\u001b[38;5;241m=\u001b[39max)\n",
      "\u001b[0;31mAttributeError\u001b[0m: 'numpy.ndarray' object has no attribute 'plot'"
     ]
    },
    {
     "data": {
      "image/png": "[encoded data removed]",
      "text/plain": [
       "<Figure size 576x576 with 1 Axes>"
      ]
     },
     "metadata": {
      "needs_background": "light"
     },
     "output_type": "display_data"
    }
   ],
   "source": [
    "fig, ax = plt.subplots(figsize=(8, 8))\n",
    "\n",
    "ax.set_axis_off()\n",
    "image.plot.imshow(ax=ax);"
   ]
  },
  {
   "cell_type": "code",
   "execution_count": null,
   "id": "28fff985-46f6-4830-8804-5b5c0d759228",
   "metadata": {},
   "outputs": [],
   "source": []
  }
 ],
 "metadata": {
  "kernelspec": {
   "display_name": "Python 3 (ipykernel)",
   "language": "python",
   "name": "python3"
  },
  "language_info": {
   "codemirror_mode": {
    "name": "ipython",
    "version": 3
   },
   "file_extension": ".py",
   "mimetype": "text/x-python",
   "name": "python",
   "nbconvert_exporter": "python",
   "pygments_lexer": "ipython3",
   "version": "3.8.13"
  }
 },
 "nbformat": 4,
 "nbformat_minor": 5
}
