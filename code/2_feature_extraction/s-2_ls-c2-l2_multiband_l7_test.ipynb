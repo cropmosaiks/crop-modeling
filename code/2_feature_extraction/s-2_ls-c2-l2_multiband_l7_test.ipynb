{
 "cells": [
  {
   "cell_type": "markdown",
   "id": "440e592b-c09d-4e75-91fc-00e5d36d391d",
   "metadata": {},
   "source": [
    "## MOSAIKS feature extraction\n",
    "\n",
    "This tutorial demonstrates the **MOSAIKS** method for extracting _feature vectors_ from satellite imagery patches for use in downstream modeling tasks. It will show:\n",
    "- How to extract 1km$^2$ patches of Sentinel 2 or Landsat multispectral imagery for a list of latitude, longitude points\n",
    "- How to extract summary features from each of these imagery patches\n",
    "- How to use the summary features in a linear model of the population density at each point\n",
    "\n",
    "### Background\n",
    "\n",
    "Consider the case where you have a dataset of latitude and longitude points assosciated with some dependent variable (for example: population density, weather, housing prices, biodiversity) and, potentially, other independent variables. You would like to model the dependent variable as a function of the independent variables, but instead of including latitude and longitude directly in this model, you would like to include some high dimensional representation of what the Earth looks like at that point (that hopefully explains some of the variance in the dependent variable!). From the computer vision literature, there are various [representation learning techniques](https://en.wikipedia.org/wiki/Feature_learning) that can be used to do this, i.e. extract _features vectors_ from imagery. This notebook gives an implementation of the technique described in [Rolf et al. 2021](https://www.nature.com/articles/s41467-021-24638-z), \"A generalizable and accessible approach to machine learning with global satellite imagery\" called Multi-task Observation using Satellite Imagery & Kitchen Sinks (**MOSAIKS**). For more information about **MOSAIKS** see the [project's webpage](http://www.globalpolicy.science/mosaiks).\n",
    "\n",
    "### Environment setup\n",
    "This notebook works with or without an API key, but you will be given more permissive access to the data with an API key.\n",
    "- If you're running this on the [Planetary Computer Hub](http://planetarycomputer.microsoft.com/compute), make sure to choose the **GPU - PyTorch** profile when presented with the form to choose your environment.\n",
    "- The Planetary Computer Hub is pre-configured to use your API key.\n",
    "- To use your API key locally, set the environment variable `PC_SDK_SUBSCRIPTION_KEY` or use `pc.settings.set_subscription_key(<YOUR API Key>)`.\n",
    "    \n",
    "**Notes**:\n",
    "- This example uses either\n",
    "    - [sentinel-2-l2a data](https://planetarycomputer.microsoft.com/dataset/sentinel-2-l2a)\n",
    "    - [landsat-c2-l2 data](https://planetarycomputer.microsoft.com/dataset/landsat-c2-l2)\n",
    "- The techniques used here apply equally well to other remote-sensing datasets."
   ]
  },
  {
   "cell_type": "code",
   "execution_count": 2,
   "id": "522ab90b-af76-477d-a930-4d63c6847028",
   "metadata": {
    "gather": {
     "logged": 1650114371790
    }
   },
   "outputs": [],
   "source": [
    "# !pip install -q git+https://github.com/geopandas/dask-geopandas\n",
    "!pip install -q pyhere"
   ]
  },
  {
   "cell_type": "code",
   "execution_count": 4,
   "id": "281d0543-f6b0-4b68-a4ba-a99c547b00c8",
   "metadata": {
    "gather": {
     "logged": 1651174535306
    }
   },
   "outputs": [],
   "source": [
    "import warnings\n",
    "import time\n",
    "import os\n",
    "import gc\n",
    "import calendar\n",
    "import re\n",
    "\n",
    "RASTERIO_BEST_PRACTICES = dict(  # See https://github.com/pangeo-data/cog-best-practices\n",
    "    CURL_CA_BUNDLE=\"/etc/ssl/certs/ca-certificates.crt\",\n",
    "    GDAL_DISABLE_READDIR_ON_OPEN=\"EMPTY_DIR\",\n",
    "    AWS_NO_SIGN_REQUEST=\"YES\",\n",
    "    GDAL_MAX_RAW_BLOCK_CACHE_SIZE=\"200000000\",\n",
    "    GDAL_SWATH_SIZE=\"200000000\",\n",
    "    VSI_CURL_CACHE_SIZE=\"200000000\",\n",
    ")\n",
    "os.environ.update(RASTERIO_BEST_PRACTICES)\n",
    "\n",
    "import numpy as np\n",
    "import pandas as pd\n",
    "import matplotlib.pyplot as plt\n",
    "from pyhere import here\n",
    "\n",
    "import torch\n",
    "import torch.nn as nn\n",
    "import torch.nn.functional as F\n",
    "from torch.utils.data import Dataset, DataLoader\n",
    "\n",
    "import xarray as xr\n",
    "import rasterio\n",
    "import rasterio.warp\n",
    "import rasterio.mask\n",
    "import shapely.geometry\n",
    "import geopandas\n",
    "import dask_geopandas\n",
    "from dask.distributed import Client\n",
    "\n",
    "from pystac import Item\n",
    "import stackstac\n",
    "import pyproj\n",
    "\n",
    "warnings.filterwarnings(action=\"ignore\", category=UserWarning, module=\"torch\")\n",
    "warnings.filterwarnings(action=\"ignore\", category=FutureWarning)\n",
    "warnings.filterwarnings(action=\"ignore\", category=RuntimeWarning)\n",
    "warnings.filterwarnings(action=\"ignore\", category=UserWarning)\n",
    "\n",
    "import pystac_client\n",
    "import planetary_computer as pc\n",
    "\n",
    "\n",
    "# Disabling the benchmarking feature with torch.backends.cudnn.benchmark = False \n",
    "# causes cuDNN to deterministically select an algorithm, possibly at the cost of reduced performance.\n",
    "# https://pytorch.org/docs/stable/notes/randomness.html\n",
    "torch.backends.cudnn.benchmark = False\n",
    "\n",
    "np.random.seed(42)\n",
    "torch.manual_seed(42)\n",
    "\n",
    "import random\n",
    "random.seed(42)"
   ]
  },
  {
   "cell_type": "markdown",
   "id": "3cefa598-0653-4fd4-b7ce-14fb7c4e59e2",
   "metadata": {},
   "source": [
    "## Set Parameters"
   ]
  },
  {
   "cell_type": "code",
   "execution_count": 5,
   "id": "e28b414c-1d02-491a-9518-1b777898950d",
   "metadata": {
    "collapsed": false,
    "gather": {
     "logged": 1651174535433
    },
    "jupyter": {
     "outputs_hidden": false,
     "source_hidden": false
    },
    "nteract": {
     "transient": {
      "deleting": false
     }
    }
   },
   "outputs": [],
   "source": [
    "num_features = 1024\n",
    "country_code = 'ZMB'\n",
    "use_file = True\n",
    "# use_file = False"
   ]
  },
  {
   "cell_type": "code",
   "execution_count": 6,
   "id": "ce354d45-8f23-4630-ae55-95738e4a443d",
   "metadata": {
    "collapsed": false,
    "gather": {
     "logged": 1651174535433
    },
    "jupyter": {
     "outputs_hidden": false,
     "source_hidden": false
    },
    "nteract": {
     "transient": {
      "deleting": false
     }
    }
   },
   "outputs": [],
   "source": [
    "satellite = \"landsat-c2-l2\"\n",
    "bands = [\n",
    "    \"red\",\n",
    "    \"green\", \n",
    "    \"blue\",\n",
    "    # \"nir08\",\n",
    "    # \"swir16\",\n",
    "    # \"swir22\"\n",
    "]"
   ]
  },
  {
   "cell_type": "code",
   "execution_count": 7,
   "id": "b6691b75-c632-448a-845a-33628bf46972",
   "metadata": {
    "collapsed": false,
    "gather": {
     "logged": 1651174535433
    },
    "jupyter": {
     "outputs_hidden": false,
     "source_hidden": false
    },
    "nteract": {
     "transient": {
      "deleting": false
     }
    }
   },
   "outputs": [],
   "source": [
    "# satellite = \"sentinel-2-l2a\"\n",
    "# bands = [  # Sentinel-2 Bands\n",
    "#     \"B02\", # B02 (blue) 10 meter\n",
    "#     \"B03\", # B03 (green) 10 meter\n",
    "#     \"B04\", # B04 (red) 10 meter\n",
    "#     \"B05\", # B05(Veg Red Edge 1) 20 meter\n",
    "#     \"B06\", # B06(Veg Red Edge 2) 20 meter\n",
    "#     \"B07\", # B07(Veg Red Edge 3) 20 meter\n",
    "#     \"B08\", # B08 (NIR) 10 meter\n",
    "#     \"B11\", # B11 (SWIR (1.6)) 20 meter\n",
    "#     \"B12\", # B12 (SWIR (2.2)) 20 meter\n",
    "# ]"
   ]
  },
  {
   "cell_type": "code",
   "execution_count": 8,
   "id": "6bb7126f-4aaf-4615-82da-efc06a2140bd",
   "metadata": {},
   "outputs": [],
   "source": [
    "if satellite == \"landsat-c2-l2\":\n",
    "    resolution = 30\n",
    "    min_image_edge = 6\n",
    "else:\n",
    "    resolution = 10\n",
    "    min_image_edge = 20"
   ]
  },
  {
   "cell_type": "code",
   "execution_count": 9,
   "id": "860d78aa-ae1d-4650-8ac6-46c345208714",
   "metadata": {
    "collapsed": false,
    "gather": {
     "logged": 1651174535542
    },
    "jupyter": {
     "outputs_hidden": false,
     "source_hidden": false
    },
    "nteract": {
     "transient": {
      "deleting": false
     }
    }
   },
   "outputs": [],
   "source": [
    "# dat_re = re.compile(r'\\d+') \n",
    "# l = [str(int(dat_re.search(x).group())) for x in bands if dat_re.search(x)]\n",
    "# bands_short = '-'.join(l)"
   ]
  },
  {
   "cell_type": "code",
   "execution_count": 10,
   "id": "55dc0554-2cbf-4e76-80d3-a7d7a9604f76",
   "metadata": {
    "collapsed": false,
    "gather": {
     "logged": 1651174535542
    },
    "jupyter": {
     "outputs_hidden": false,
     "source_hidden": false
    },
    "nteract": {
     "transient": {
      "deleting": false
     }
    }
   },
   "outputs": [],
   "source": [
    "channels = len(bands)\n",
    "bands_short = \"r-g-b-nir-swir16-swir22\""
   ]
  },
  {
   "cell_type": "markdown",
   "id": "1ae9b0ec-c334-4751-91c4-91dabff6a44a",
   "metadata": {},
   "source": [
    "## Create grid and sample points to featurize"
   ]
  },
  {
   "cell_type": "code",
   "execution_count": 11,
   "id": "b09c0e05-9ba6-407e-9260-5f9f00decc18",
   "metadata": {
    "gather": {
     "logged": 1651174535812
    }
   },
   "outputs": [
    {
     "data": {
      "text/plain": [
       "(19598, 4)"
      ]
     },
     "execution_count": 11,
     "metadata": {},
     "output_type": "execute_result"
    }
   ],
   "source": [
    "if use_file:\n",
    "    gdf = pd.read_feather(here('data', 'grid', 'ZMB_crop_weights_20k-points.feather'))\n",
    "    gdf = (\n",
    "        geopandas\n",
    "        .GeoDataFrame(\n",
    "            gdf, \n",
    "            geometry = geopandas.points_from_xy(x = gdf.lon, y = gdf.lat), \n",
    "            crs='EPSG:4326')\n",
    "    )\n",
    "else:\n",
    "    cell_size = 0.01  # Roughly 1 km\n",
    "    ### get country shape\n",
    "    country_file_name = f\"data/geo_boundaries/africa_adm0.geojson\"\n",
    "    africa = geopandas.read_file(country_file_name)\n",
    "    country = africa[africa.adm0_a3 == country_code]\n",
    "    #### This would be simpler, but throws an error down the line if used \n",
    "    # world = geopandas.read_file(geopandas.datasets.get_path('naturalearth_lowres'))\n",
    "    # country = world.query(f'iso_a3 == \"{country_code}\"')\n",
    "    ### Create grid of points\n",
    "    cell_size = .01  # Very roughly 1 km\n",
    "    xmin, ymin, xmax, ymax = country.total_bounds\n",
    "    xs = list(np.arange(xmin, xmax + cell_size, cell_size))\n",
    "    ys = list(np.arange(ymin, ymax + cell_size, cell_size))\n",
    "    def make_cell(x, y, cell_size):\n",
    "        ring = [\n",
    "            (x, y),\n",
    "            (x + cell_size, y),\n",
    "            (x + cell_size, y + cell_size),\n",
    "            (x, y + cell_size)\n",
    "        ]\n",
    "        cell = shapely.geometry.Polygon(ring).centroid\n",
    "        return cell\n",
    "    center_points = []\n",
    "    for x in xs:\n",
    "        for y in ys:\n",
    "            cell = make_cell(x, y, cell_size)\n",
    "            center_points.append(cell)\n",
    "    ### Put grid into a GeDataFrame for cropping to country shape\n",
    "    gdf = geopandas.GeoDataFrame({'geometry': center_points}, crs = 'EPSG:4326')\n",
    "    gdf['lon'], gdf['lat'] = gdf.geometry.x, gdf.geometry.y\n",
    "    ### Subset to country \n",
    "    ### This buffer ensures that no points are take at the border \n",
    "    ### which would lead to duplication with neighboring countries\n",
    "    gdf = gdf[gdf.within(country.unary_union.buffer(-0.005))]\n",
    "    gdf = gdf[['lon', 'lat', 'geometry']].reset_index(drop = True)\n",
    "    gdf = gdf.sample(frac = 0.1, random_state=42, ignore_index=False)\n",
    "    points = gdf[[\"lon\", \"lat\"]].to_numpy()\n",
    "pt_len = gdf.shape[0]\n",
    "gdf.shape"
   ]
  },
  {
   "cell_type": "markdown",
   "id": "10dc75c7-a83e-49eb-ae1b-eb30c40f23d7",
   "metadata": {},
   "source": [
    "First we define the pytorch model that we will use to extract the features and a helper method. The **MOSAIKS** methodology describes several ways to do this and we use the simplest."
   ]
  },
  {
   "cell_type": "code",
   "execution_count": 12,
   "id": "600886c1-24cd-4197-aa61-172b1606d33d",
   "metadata": {
    "gather": {
     "logged": 1651174535955
    }
   },
   "outputs": [],
   "source": [
    "class RCF(nn.Module):\n",
    "    \"\"\"A model for extracting Random Convolution Features (RCF) from input imagery.\"\"\"\n",
    "    def __init__(self, num_features=16, kernel_size=3, num_input_channels=channels):\n",
    "        super(RCF, self).__init__()\n",
    "        # We create `num_features / 2` filters so require `num_features` to be divisible by 2\n",
    "        assert num_features % 2 == 0, \"Please enter an even number of features.\"\n",
    "        # Applies a 2D convolution over an input image composed of several input planes.\n",
    "        self.conv1 = nn.Conv2d(\n",
    "            num_input_channels,\n",
    "            num_features // 2,\n",
    "            kernel_size=kernel_size,\n",
    "            stride=1,\n",
    "            padding=0,\n",
    "            dilation=1,\n",
    "            bias=True,\n",
    "        )\n",
    "        # Fills the input Tensor 'conv1.weight' with values drawn from the normal distribution\n",
    "        nn.init.normal_(self.conv1.weight, mean=0.0, std=1.0)\n",
    "        # Fills the input Tensor 'conv1.bias' with the value 'val = -1'.\n",
    "        nn.init.constant_(self.conv1.bias, -1.0)\n",
    "    def forward(self, x):\n",
    "        # The rectified linear activation function or ReLU for short is a piecewise linear function \n",
    "        # that will output the input directly if it is positive, otherwise, it will output zero.\n",
    "        x1a = F.relu(self.conv1(x), inplace=True)\n",
    "        # The below step is where we take the inverse which is appended later\n",
    "        x1b = F.relu(-self.conv1(x), inplace=True)\n",
    "        # Applies a 2D adaptive average pooling over an input signal composed of several input planes.\n",
    "        x1a = F.adaptive_avg_pool2d(x1a, (1, 1)).squeeze()\n",
    "        x1b = F.adaptive_avg_pool2d(x1b, (1, 1)).squeeze()\n",
    "        if len(x1a.shape) == 1:  # case where we passed a single input\n",
    "            return torch.cat((x1a, x1b), dim=0)\n",
    "        elif len(x1a.shape) == 2:  # case where we passed a batch of > 1 inputs\n",
    "            return torch.cat((x1a, x1b), dim=1)"
   ]
  },
  {
   "cell_type": "markdown",
   "id": "c06fbe67-d966-43dd-a2ef-af157487192f",
   "metadata": {},
   "source": [
    "Next, we initialize the model and pytorch components"
   ]
  },
  {
   "cell_type": "code",
   "execution_count": 13,
   "id": "b244448f-9b79-4c58-b779-5e8a4957c84e",
   "metadata": {
    "gather": {
     "logged": 1651174537496
    }
   },
   "outputs": [],
   "source": [
    "device = torch.device(\"cuda\")\n",
    "model = RCF(num_features).eval().to(device)"
   ]
  },
  {
   "cell_type": "markdown",
   "id": "4ef68b83-ce2e-4e70-908f-3e909337af04",
   "metadata": {},
   "source": [
    "### Extract features from the imagery around each point\n",
    "\n",
    "We need to find a suitable Sentinel 2 scene for each point. As usual, we'll use `pystac-client` to search for items matching some conditions, but we don't just want do make a `.search()` call for each of the 67,968 remaining points. Each HTTP request is relatively slow. Instead, we will *batch* or points and search *in parallel*.\n",
    "\n",
    "We need to be a bit careful with how we batch up our points though. Since a single Sentinel 2 scene will cover many points, we want to make sure that points which are spatially close together end up in the same batch. In short, we need to spatially partition the dataset. This is implemented in `dask-geopandas`.\n",
    "\n",
    "So the overall workflow will be\n",
    "\n",
    "1. Find an appropriate STAC item for each point (in parallel, using the spatially partitioned dataset)\n",
    "2. Feed the points and STAC items to a custom Dataset that can read imagery given a point and the URL of a overlapping S2 scene\n",
    "3. Use a custom Dataloader, which uses our Dataset, to feed our model imagery and save the corresponding features"
   ]
  },
  {
   "cell_type": "code",
   "execution_count": 14,
   "id": "ebfd0c2e-78fe-45a9-99a4-13112f0da841",
   "metadata": {
    "gather": {
     "logged": 1651174537641
    }
   },
   "outputs": [
    {
     "data": {
      "text/plain": [
       "0"
      ]
     },
     "execution_count": 14,
     "metadata": {},
     "output_type": "execute_result"
    }
   ],
   "source": [
    "NPARTITIONS = 250\n",
    "\n",
    "ddf = dask_geopandas.from_geopandas(gdf, npartitions=1)\n",
    "hd = ddf.hilbert_distance().compute()\n",
    "gdf[\"hd\"] = hd\n",
    "gdf = gdf.sort_values(\"hd\")\n",
    "\n",
    "dgdf = dask_geopandas.from_geopandas(gdf, npartitions=NPARTITIONS, sort=False)\n",
    "\n",
    "del ddf\n",
    "del hd\n",
    "del gdf\n",
    "gc.collect()"
   ]
  },
  {
   "cell_type": "code",
   "execution_count": 15,
   "id": "6b6842a4-e83e-4ec8-bc20-274918c9ad22",
   "metadata": {
    "collapsed": false,
    "jupyter": {
     "outputs_hidden": false
    }
   },
   "outputs": [],
   "source": [
    "year_start = 2012\n",
    "year_end = 2012\n",
    "\n",
    "buffer_size = 0.005\n",
    "cloud_limit = 20\n",
    "\n",
    "batch_size = 30\n",
    "workers = os.cpu_count()"
   ]
  },
  {
   "cell_type": "code",
   "execution_count": 16,
   "id": "13a724d4-c18b-433b-ae89-e6ad2160e78d",
   "metadata": {
    "collapsed": false,
    "jupyter": {
     "outputs_hidden": false
    }
   },
   "outputs": [],
   "source": [
    "def query(points):\n",
    "    \"\"\"\n",
    "    Find a STAC item for points in the `points` DataFrame\n",
    "\n",
    "    Parameters\n",
    "    ----------\n",
    "    points : geopandas.GeoDataFrame\n",
    "        A GeoDataFrame\n",
    "\n",
    "    Returns\n",
    "    -------\n",
    "    geopandas.GeoDataFrame\n",
    "        A new geopandas.GeoDataFrame with a `stac_item` column containing the STAC\n",
    "        item that covers each point.\n",
    "    \"\"\"\n",
    "    intersects = shapely.geometry.mapping(points.unary_union.convex_hull)\n",
    "\n",
    "    catalog = pystac_client.Client.open(\n",
    "        \"https://planetarycomputer.microsoft.com/api/stac/v1\"\n",
    "    )\n",
    "    search_start = f\"2012-02-1\" \n",
    "    search_end = f\"2012-02-28\" \n",
    "\n",
    "    # The time frame in which we search for non-cloudy imagery\n",
    "    search = catalog.search(\n",
    "        collections=[satellite],  \n",
    "        intersects=intersects,\n",
    "        datetime=[search_start, search_end],\n",
    "        query={\"eo:cloud_cover\": {\"lt\": cloud_limit}},\n",
    "        limit=500,\n",
    "    )\n",
    "    ic = search.get_all_items_as_dict()\n",
    "    features = ic[\"features\"]\n",
    "    features_d = {item[\"id\"]: item for item in features}\n",
    "    data = {\n",
    "        \"eo:cloud_cover\": [],\n",
    "        \"geometry\": [],\n",
    "    }\n",
    "    index = []\n",
    "    for item in features:\n",
    "        data[\"eo:cloud_cover\"].append(item[\"properties\"][\"eo:cloud_cover\"])\n",
    "        data[\"geometry\"].append(shapely.geometry.shape(item[\"geometry\"]))\n",
    "        index.append(item[\"id\"])\n",
    "    items = geopandas.GeoDataFrame(data, index=index, geometry=\"geometry\").sort_values(\n",
    "        \"eo:cloud_cover\"\n",
    "    )\n",
    "    point_list = points.geometry.tolist()\n",
    "    point_items = []\n",
    "    point_items2 = []\n",
    "    for point in point_list:\n",
    "        covered_by = items[items.covers(point)]\n",
    "        if len(covered_by) == 1:\n",
    "            point_items.append(features_d[covered_by.index[0]])\n",
    "            point_items2.append(None)\n",
    "        elif len(covered_by) > 1:\n",
    "            point_items.append(features_d[covered_by.index[0]])\n",
    "            point_items2.append(features_d[covered_by.index[1]])\n",
    "        else:\n",
    "            # There weren't any scenes matching our conditions for this point (too cloudy)\n",
    "            point_items.append(None)\n",
    "            point_items2.append(None)\n",
    "    return points.assign(stac_item=point_items, \n",
    "                         stac_item2=point_items2\n",
    "                        )"
   ]
  },
  {
   "cell_type": "code",
   "execution_count": 17,
   "id": "96823a3a-c437-453b-8ae7-a9e4f369a098",
   "metadata": {
    "collapsed": false,
    "jupyter": {
     "outputs_hidden": false
    }
   },
   "outputs": [
    {
     "data": {
      "text/plain": [
       "25"
      ]
     },
     "execution_count": 17,
     "metadata": {},
     "output_type": "execute_result"
    }
   ],
   "source": [
    "with Client(n_workers=16) as client:\n",
    "    meta = dgdf._meta.assign(stac_item=[], \n",
    "                             stac_item2 =[]\n",
    "                            )\n",
    "    df2 = dgdf.map_partitions(query, meta=meta).compute()\n",
    "# df3 = df2.dropna(subset=[\"stac_item\"]).reset_index(drop = True)\n",
    "df3 = df2.dropna(subset=[\"stac_item2\"]).reset_index(drop = True)\n",
    "\n",
    "matching_items = []\n",
    "for item in df3.stac_item.tolist():\n",
    "    signed_item = pc.sign(Item.from_dict(item))\n",
    "    matching_items.append(signed_item)\n",
    "    \n",
    "matching_items2 = []\n",
    "for item in df3.stac_item2.tolist():\n",
    "    signed_item = pc.sign(Item.from_dict(item))\n",
    "    matching_items2.append(signed_item)\n",
    "\n",
    "points = df3[[\"lon\", \"lat\"]].to_numpy()\n",
    "len(points)"
   ]
  },
  {
   "cell_type": "code",
   "execution_count": 120,
   "id": "99100f18-c749-432e-807a-d0cf0d864116",
   "metadata": {},
   "outputs": [],
   "source": [
    "# df2[df2.stac_item2.notnull()]"
   ]
  },
  {
   "cell_type": "code",
   "execution_count": null,
   "id": "65990f51-5cc8-4c44-90c0-f9c62a2ea116",
   "metadata": {},
   "outputs": [],
   "source": []
  },
  {
   "cell_type": "code",
   "execution_count": null,
   "id": "84a054fa-9a71-450f-b35a-5d6b5d28ae4e",
   "metadata": {},
   "outputs": [],
   "source": []
  },
  {
   "cell_type": "code",
   "execution_count": null,
   "id": "97cec0ba-bb9b-43de-9bee-1b2f52fc4bed",
   "metadata": {},
   "outputs": [],
   "source": []
  },
  {
   "cell_type": "code",
   "execution_count": 18,
   "id": "4da03cc9-a131-4008-ae8b-c86cdb18c25c",
   "metadata": {},
   "outputs": [],
   "source": [
    "from scipy import ndimage as nd\n",
    "\n",
    "def fill(data, invalid=None):\n",
    "    \"\"\"\n",
    "    Replace the value of invalid 'data' cells (indicated by 'invalid') \n",
    "    by the value of the nearest valid data cell\n",
    "\n",
    "    Input:\n",
    "        data:    numpy array of any dimension\n",
    "        invalid: a binary array of same shape as 'data'. \n",
    "                 data value are replaced where invalid is True\n",
    "                 If None (default), use: invalid = np.isnan(data)\n",
    "\n",
    "    Output: \n",
    "        Return a filled array. \n",
    "    \"\"\"    \n",
    "    if invalid is None: invalid = np.isnan(data)\n",
    "\n",
    "    ind = nd.distance_transform_edt(\n",
    "        invalid, \n",
    "        return_distances=False, \n",
    "        return_indices=True\n",
    "    )\n",
    "    return data[tuple(ind)]"
   ]
  },
  {
   "cell_type": "code",
   "execution_count": 20,
   "id": "3edc3bd2-d1f3-4296-909e-f4c510ef80b6",
   "metadata": {},
   "outputs": [],
   "source": [
    "# class CustomDataset(Dataset):\n",
    "#     def __init__(self, points, items, items2, buffer=buffer_size):\n",
    "#         self.points = points\n",
    "#         self.items = items\n",
    "#         self.items2 = items2\n",
    "#         self.buffer = buffer\n",
    "\n",
    "#     def __len__(self):\n",
    "#         return self.points.shape[0]\n",
    "\n",
    "#     def __getitem__(self, idx):\n",
    "\n",
    "#         lon, lat = self.points[idx]\n",
    "#         fn = (self.items[idx], self.items2[idx])\n",
    "        \n",
    "\n",
    "#         if fn is None:\n",
    "#             return None\n",
    "#         else:\n",
    "#             try:\n",
    "#                 stack = stackstac.stack(\n",
    "#                     items = fn,\n",
    "#                     assets=bands,\n",
    "#                     resolution=resolution,\n",
    "#                 )\n",
    "#                 # stack2 = stackstac.stack(\n",
    "#                 #     items = fn2,\n",
    "#                 #     assets=bands,\n",
    "#                 #     resolution=resolution,\n",
    "#                 # )\n",
    "#                 # stack = stack1.combine_first(stack2).median(\"time\", keep_attrs=True)\n",
    "#                 # stack = xr.combine_by_coords([stack1, stack2])\n",
    "#                 # stack = xr.merge([stack1, stack2], compat=\"no_conflicts\")\n",
    "#                 # stack = xr.combine_first([stack1, stack2])\n",
    "                \n",
    "#                 x_min, y_min = pyproj.Proj(stack.crs)(lon-self.buffer, lat-self.buffer)\n",
    "#                 x_max, y_max = pyproj.Proj(stack.crs)(lon+self.buffer, lat+self.buffer)\n",
    "#                 aoi = stack.loc[..., y_max:y_min, x_min:x_max]\n",
    "               \n",
    "#                 out_image = aoi.data \n",
    "#                 # out_image = fill(data.data)\n",
    "#                 out_image = ((out_image - np.nanmin(out_image) ) / (np.nanmax(out_image) - np.nanmin(out_image)))\n",
    "                \n",
    "#                 out_image = out_image.compute(\n",
    "#                     scheduler=\"single-threaded\"\n",
    "#                     )\n",
    "#             except ValueError:\n",
    "#                 pass\n",
    "#             out_image = torch.from_numpy(out_image).float()\n",
    "#             return stack"
   ]
  },
  {
   "cell_type": "code",
   "execution_count": 77,
   "id": "37d2dde0-a20d-4cf1-b404-37f17f0dccb3",
   "metadata": {
    "collapsed": false,
    "jupyter": {
     "outputs_hidden": false
    }
   },
   "outputs": [],
   "source": [
    "class CustomDataset(Dataset):\n",
    "    def __init__(self, points, items, buffer=buffer_size):\n",
    "        self.points = points\n",
    "        self.items = items\n",
    "        self.buffer = buffer\n",
    "\n",
    "    def __len__(self):\n",
    "        return self.points.shape[0]\n",
    "\n",
    "    def __getitem__(self, idx):\n",
    "\n",
    "        lon, lat = self.points[idx]\n",
    "        fn = self.items[idx]\n",
    "\n",
    "        if fn is None:\n",
    "            return None\n",
    "        else:\n",
    "            try:\n",
    "                stack = stackstac.stack(\n",
    "                    items = fn, \n",
    "                    assets=bands,\n",
    "                    resolution=resolution,\n",
    "                )\n",
    "                x_min, y_min = pyproj.Proj(stack.crs)(lon-self.buffer, lat-self.buffer)\n",
    "                x_max, y_max = pyproj.Proj(stack.crs)(lon+self.buffer, lat+self.buffer)\n",
    "                aoi = stack.loc[..., y_max:y_min, x_min:x_max]\n",
    "               \n",
    "                data = aoi.compute(\n",
    "                    scheduler=\"single-threaded\"\n",
    "                    )\n",
    "                # out_image = data.data \n",
    "                out_image = fill(data.data)\n",
    "                out_image = ((out_image - np.nanmin(out_image) ) / (np.nanmax(out_image) - np.nanmin(out_image)))\n",
    "            except ValueError:\n",
    "                pass\n",
    "            out_image = torch.from_numpy(out_image).float()\n",
    "            return out_image"
   ]
  },
  {
   "cell_type": "code",
   "execution_count": 78,
   "id": "4a1b98f2-a189-4236-a173-289ec85e8a01",
   "metadata": {
    "collapsed": false,
    "jupyter": {
     "outputs_hidden": false
    }
   },
   "outputs": [],
   "source": [
    "dataset = CustomDataset(points, matching_items, buffer = 0.015)"
   ]
  },
  {
   "cell_type": "code",
   "execution_count": 79,
   "id": "3c9d8bb1-422f-4bcc-8d70-7c10c0856f9c",
   "metadata": {},
   "outputs": [],
   "source": [
    "# dataset[0]"
   ]
  },
  {
   "cell_type": "code",
   "execution_count": 80,
   "id": "d826a62f-389a-40a6-9aca-6eccc968c695",
   "metadata": {},
   "outputs": [
    {
     "data": {
      "image/png": "[encoded data removed]",
      "text/plain": [
       "<Figure size 720x720 with 1 Axes>"
      ]
     },
     "metadata": {
      "needs_background": "light"
     },
     "output_type": "display_data"
    }
   ],
   "source": [
    "img = dataset[0].numpy()\n",
    "img = np.rollaxis(img.squeeze(), 0, 3)\n",
    "plt.figure(figsize = (10, 10))\n",
    "plt.imshow(img)\n",
    "plt.show()\n",
    "plt.close()"
   ]
  },
  {
   "cell_type": "code",
   "execution_count": 109,
   "id": "1c056957-681f-4064-a9d4-180f2e902128",
   "metadata": {
    "collapsed": false,
    "jupyter": {
     "outputs_hidden": false
    }
   },
   "outputs": [],
   "source": [
    "dataloader = DataLoader(\n",
    "    dataset,\n",
    "    batch_size=batch_size,\n",
    "    shuffle=False,\n",
    "    num_workers=workers,\n",
    "    collate_fn=lambda x: x,\n",
    "    pin_memory=False,\n",
    ")"
   ]
  },
  {
   "cell_type": "code",
   "execution_count": 110,
   "id": "34210e10-68e3-4879-b73b-48ed124a037d",
   "metadata": {
    "collapsed": false,
    "jupyter": {
     "outputs_hidden": false
    }
   },
   "outputs": [
    {
     "name": "stdout",
     "output_type": "stream",
     "text": [
      "0/758 -- 0.00% -- 17.07 seconds\n"
     ]
    }
   ],
   "source": [
    "x_all = np.zeros((points.shape[0], num_features), dtype=float)\n",
    "tic = time.time()\n",
    "toc = time.time()\n",
    "i = 0\n",
    "for images in dataloader:\n",
    "    for image in images:\n",
    "\n",
    "        if i % 1000 == 0:\n",
    "            print(\n",
    "                f\"{i}/{points.shape[0]} -- {i / points.shape[0] * 100:0.2f}%\"\n",
    "                + f\" -- {time.time()-tic:0.2f} seconds\"\n",
    "            )\n",
    "            tic = time.time()\n",
    "\n",
    "        if image is not None:\n",
    "            assert len(image.shape) == 4, image.shape[0] == 1\n",
    "            # if type(image) == torch.Tensor: \n",
    "            try:\n",
    "                if image.shape[2] >= min_image_edge and image.shape[3] >= min_image_edge:\n",
    "                    image = image.to(device)\n",
    "                    with torch.no_grad():\n",
    "                        feats = model(image).cpu().numpy()\n",
    "                    x_all[i] = feats\n",
    "                else:\n",
    "                    pass\n",
    "            except ValueError: \n",
    "                pass \n",
    "        else:\n",
    "            pass  # this happens if we do not find a S2 scene for some point\n",
    "        i += 1\n",
    "\n",
    "\n",
    "        torch.cuda.empty_cache()\n",
    "\n",
    "    torch.cuda.empty_cache()"
   ]
  },
  {
   "cell_type": "code",
   "execution_count": 111,
   "id": "5d4e9cc7-eb0a-4a78-9198-74d48d53f186",
   "metadata": {
    "collapsed": false,
    "jupyter": {
     "outputs_hidden": false
    }
   },
   "outputs": [],
   "source": [
    "features_monthly = pd.DataFrame(x_all)\n",
    "features_monthly[[\"lon\", \"lat\"]] = points.tolist()\n",
    "# features_monthly['year'] = yr\n",
    "# features_monthly['month'] = mn"
   ]
  },
  {
   "cell_type": "code",
   "execution_count": 112,
   "id": "eb2f66e0-813f-49f1-bb91-98edafe55a26",
   "metadata": {},
   "outputs": [
    {
     "data": {
      "text/html": [
       "<div>\n",
       "<style scoped>\n",
       "    .dataframe tbody tr th:only-of-type {\n",
       "        vertical-align: middle;\n",
       "    }\n",
       "\n",
       "    .dataframe tbody tr th {\n",
       "        vertical-align: top;\n",
       "    }\n",
       "\n",
       "    .dataframe thead th {\n",
       "        text-align: right;\n",
       "    }\n",
       "</style>\n",
       "<table border=\"1\" class=\"dataframe\">\n",
       "  <thead>\n",
       "    <tr style=\"text-align: right;\">\n",
       "      <th></th>\n",
       "      <th>0</th>\n",
       "      <th>1</th>\n",
       "      <th>2</th>\n",
       "      <th>3</th>\n",
       "      <th>4</th>\n",
       "      <th>5</th>\n",
       "      <th>6</th>\n",
       "      <th>7</th>\n",
       "      <th>8</th>\n",
       "      <th>9</th>\n",
       "      <th>...</th>\n",
       "      <th>1016</th>\n",
       "      <th>1017</th>\n",
       "      <th>1018</th>\n",
       "      <th>1019</th>\n",
       "      <th>1020</th>\n",
       "      <th>1021</th>\n",
       "      <th>1022</th>\n",
       "      <th>1023</th>\n",
       "      <th>lon</th>\n",
       "      <th>lat</th>\n",
       "    </tr>\n",
       "  </thead>\n",
       "  <tbody>\n",
       "    <tr>\n",
       "      <th>0</th>\n",
       "      <td>0.0</td>\n",
       "      <td>0.447948</td>\n",
       "      <td>0.0</td>\n",
       "      <td>1.303768</td>\n",
       "      <td>1.783593</td>\n",
       "      <td>0.001066</td>\n",
       "      <td>0.069645</td>\n",
       "      <td>1.029143</td>\n",
       "      <td>0.360674</td>\n",
       "      <td>1.938398</td>\n",
       "      <td>...</td>\n",
       "      <td>0.617046</td>\n",
       "      <td>0.013426</td>\n",
       "      <td>2.397793</td>\n",
       "      <td>2.337935</td>\n",
       "      <td>1.960293</td>\n",
       "      <td>0.002190</td>\n",
       "      <td>4.655385</td>\n",
       "      <td>0.005369</td>\n",
       "      <td>23.574878</td>\n",
       "      <td>-16.674232</td>\n",
       "    </tr>\n",
       "    <tr>\n",
       "      <th>1</th>\n",
       "      <td>0.0</td>\n",
       "      <td>0.520879</td>\n",
       "      <td>0.0</td>\n",
       "      <td>1.199657</td>\n",
       "      <td>1.345519</td>\n",
       "      <td>0.000258</td>\n",
       "      <td>0.011991</td>\n",
       "      <td>0.730896</td>\n",
       "      <td>0.281851</td>\n",
       "      <td>1.503808</td>\n",
       "      <td>...</td>\n",
       "      <td>0.542221</td>\n",
       "      <td>0.220323</td>\n",
       "      <td>2.360501</td>\n",
       "      <td>2.105009</td>\n",
       "      <td>1.756452</td>\n",
       "      <td>0.002314</td>\n",
       "      <td>3.625113</td>\n",
       "      <td>0.086868</td>\n",
       "      <td>23.584878</td>\n",
       "      <td>-16.674232</td>\n",
       "    </tr>\n",
       "    <tr>\n",
       "      <th>2</th>\n",
       "      <td>0.0</td>\n",
       "      <td>0.269661</td>\n",
       "      <td>0.0</td>\n",
       "      <td>0.611145</td>\n",
       "      <td>0.838936</td>\n",
       "      <td>0.008700</td>\n",
       "      <td>0.019745</td>\n",
       "      <td>0.328593</td>\n",
       "      <td>0.047832</td>\n",
       "      <td>1.014019</td>\n",
       "      <td>...</td>\n",
       "      <td>0.564341</td>\n",
       "      <td>0.316510</td>\n",
       "      <td>1.714391</td>\n",
       "      <td>1.742387</td>\n",
       "      <td>1.567845</td>\n",
       "      <td>0.025872</td>\n",
       "      <td>2.985596</td>\n",
       "      <td>0.159931</td>\n",
       "      <td>23.684878</td>\n",
       "      <td>-16.724232</td>\n",
       "    </tr>\n",
       "    <tr>\n",
       "      <th>3</th>\n",
       "      <td>0.0</td>\n",
       "      <td>0.377385</td>\n",
       "      <td>0.0</td>\n",
       "      <td>1.036430</td>\n",
       "      <td>1.350072</td>\n",
       "      <td>0.000667</td>\n",
       "      <td>0.036379</td>\n",
       "      <td>0.785428</td>\n",
       "      <td>0.221734</td>\n",
       "      <td>1.473903</td>\n",
       "      <td>...</td>\n",
       "      <td>0.609555</td>\n",
       "      <td>0.234743</td>\n",
       "      <td>2.181445</td>\n",
       "      <td>2.088584</td>\n",
       "      <td>1.765673</td>\n",
       "      <td>0.058305</td>\n",
       "      <td>3.758696</td>\n",
       "      <td>0.168027</td>\n",
       "      <td>23.554878</td>\n",
       "      <td>-16.624232</td>\n",
       "    </tr>\n",
       "    <tr>\n",
       "      <th>4</th>\n",
       "      <td>0.0</td>\n",
       "      <td>0.284213</td>\n",
       "      <td>0.0</td>\n",
       "      <td>0.697927</td>\n",
       "      <td>1.357353</td>\n",
       "      <td>0.000000</td>\n",
       "      <td>0.411349</td>\n",
       "      <td>0.640151</td>\n",
       "      <td>0.193188</td>\n",
       "      <td>1.869843</td>\n",
       "      <td>...</td>\n",
       "      <td>0.893661</td>\n",
       "      <td>0.000090</td>\n",
       "      <td>1.644531</td>\n",
       "      <td>1.869496</td>\n",
       "      <td>1.837644</td>\n",
       "      <td>0.000000</td>\n",
       "      <td>4.721381</td>\n",
       "      <td>0.000000</td>\n",
       "      <td>23.594878</td>\n",
       "      <td>-16.664232</td>\n",
       "    </tr>\n",
       "    <tr>\n",
       "      <th>...</th>\n",
       "      <td>...</td>\n",
       "      <td>...</td>\n",
       "      <td>...</td>\n",
       "      <td>...</td>\n",
       "      <td>...</td>\n",
       "      <td>...</td>\n",
       "      <td>...</td>\n",
       "      <td>...</td>\n",
       "      <td>...</td>\n",
       "      <td>...</td>\n",
       "      <td>...</td>\n",
       "      <td>...</td>\n",
       "      <td>...</td>\n",
       "      <td>...</td>\n",
       "      <td>...</td>\n",
       "      <td>...</td>\n",
       "      <td>...</td>\n",
       "      <td>...</td>\n",
       "      <td>...</td>\n",
       "      <td>...</td>\n",
       "      <td>...</td>\n",
       "    </tr>\n",
       "    <tr>\n",
       "      <th>753</th>\n",
       "      <td>0.0</td>\n",
       "      <td>0.630938</td>\n",
       "      <td>0.0</td>\n",
       "      <td>1.110620</td>\n",
       "      <td>1.596393</td>\n",
       "      <td>0.000000</td>\n",
       "      <td>0.358305</td>\n",
       "      <td>0.413183</td>\n",
       "      <td>0.130399</td>\n",
       "      <td>2.396557</td>\n",
       "      <td>...</td>\n",
       "      <td>0.486602</td>\n",
       "      <td>0.000000</td>\n",
       "      <td>1.422560</td>\n",
       "      <td>1.695645</td>\n",
       "      <td>1.803615</td>\n",
       "      <td>0.000000</td>\n",
       "      <td>4.791719</td>\n",
       "      <td>0.000000</td>\n",
       "      <td>28.364878</td>\n",
       "      <td>-16.514232</td>\n",
       "    </tr>\n",
       "    <tr>\n",
       "      <th>754</th>\n",
       "      <td>0.0</td>\n",
       "      <td>0.665666</td>\n",
       "      <td>0.0</td>\n",
       "      <td>1.087320</td>\n",
       "      <td>1.610986</td>\n",
       "      <td>0.000000</td>\n",
       "      <td>0.355626</td>\n",
       "      <td>0.438745</td>\n",
       "      <td>0.135259</td>\n",
       "      <td>2.414023</td>\n",
       "      <td>...</td>\n",
       "      <td>0.548764</td>\n",
       "      <td>0.002064</td>\n",
       "      <td>1.406011</td>\n",
       "      <td>1.738917</td>\n",
       "      <td>1.870140</td>\n",
       "      <td>0.000000</td>\n",
       "      <td>4.755852</td>\n",
       "      <td>0.000000</td>\n",
       "      <td>28.364878</td>\n",
       "      <td>-16.504232</td>\n",
       "    </tr>\n",
       "    <tr>\n",
       "      <th>755</th>\n",
       "      <td>0.0</td>\n",
       "      <td>0.764531</td>\n",
       "      <td>0.0</td>\n",
       "      <td>1.436793</td>\n",
       "      <td>1.907715</td>\n",
       "      <td>0.000000</td>\n",
       "      <td>0.250044</td>\n",
       "      <td>0.717566</td>\n",
       "      <td>0.283883</td>\n",
       "      <td>2.547054</td>\n",
       "      <td>...</td>\n",
       "      <td>0.616957</td>\n",
       "      <td>0.000108</td>\n",
       "      <td>1.904832</td>\n",
       "      <td>2.052500</td>\n",
       "      <td>2.022559</td>\n",
       "      <td>0.000000</td>\n",
       "      <td>5.039641</td>\n",
       "      <td>0.000000</td>\n",
       "      <td>28.414878</td>\n",
       "      <td>-16.474232</td>\n",
       "    </tr>\n",
       "    <tr>\n",
       "      <th>756</th>\n",
       "      <td>0.0</td>\n",
       "      <td>1.308655</td>\n",
       "      <td>0.0</td>\n",
       "      <td>1.566869</td>\n",
       "      <td>1.959789</td>\n",
       "      <td>0.000000</td>\n",
       "      <td>0.234685</td>\n",
       "      <td>0.405963</td>\n",
       "      <td>0.050886</td>\n",
       "      <td>2.725920</td>\n",
       "      <td>...</td>\n",
       "      <td>0.126932</td>\n",
       "      <td>0.000346</td>\n",
       "      <td>0.930988</td>\n",
       "      <td>1.715796</td>\n",
       "      <td>1.856489</td>\n",
       "      <td>0.000000</td>\n",
       "      <td>4.579545</td>\n",
       "      <td>0.000000</td>\n",
       "      <td>28.434878</td>\n",
       "      <td>-16.454232</td>\n",
       "    </tr>\n",
       "    <tr>\n",
       "      <th>757</th>\n",
       "      <td>0.0</td>\n",
       "      <td>0.841439</td>\n",
       "      <td>0.0</td>\n",
       "      <td>1.317885</td>\n",
       "      <td>1.786135</td>\n",
       "      <td>0.000000</td>\n",
       "      <td>0.285779</td>\n",
       "      <td>0.467552</td>\n",
       "      <td>0.054071</td>\n",
       "      <td>2.560565</td>\n",
       "      <td>...</td>\n",
       "      <td>0.309506</td>\n",
       "      <td>0.000778</td>\n",
       "      <td>1.372500</td>\n",
       "      <td>1.764772</td>\n",
       "      <td>1.831581</td>\n",
       "      <td>0.000000</td>\n",
       "      <td>4.864138</td>\n",
       "      <td>0.000000</td>\n",
       "      <td>28.574878</td>\n",
       "      <td>-16.484232</td>\n",
       "    </tr>\n",
       "  </tbody>\n",
       "</table>\n",
       "<p>758 rows × 1026 columns</p>\n",
       "</div>"
      ],
      "text/plain": [
       "       0         1    2         3         4         5         6         7  \\\n",
       "0    0.0  0.447948  0.0  1.303768  1.783593  0.001066  0.069645  1.029143   \n",
       "1    0.0  0.520879  0.0  1.199657  1.345519  0.000258  0.011991  0.730896   \n",
       "2    0.0  0.269661  0.0  0.611145  0.838936  0.008700  0.019745  0.328593   \n",
       "3    0.0  0.377385  0.0  1.036430  1.350072  0.000667  0.036379  0.785428   \n",
       "4    0.0  0.284213  0.0  0.697927  1.357353  0.000000  0.411349  0.640151   \n",
       "..   ...       ...  ...       ...       ...       ...       ...       ...   \n",
       "753  0.0  0.630938  0.0  1.110620  1.596393  0.000000  0.358305  0.413183   \n",
       "754  0.0  0.665666  0.0  1.087320  1.610986  0.000000  0.355626  0.438745   \n",
       "755  0.0  0.764531  0.0  1.436793  1.907715  0.000000  0.250044  0.717566   \n",
       "756  0.0  1.308655  0.0  1.566869  1.959789  0.000000  0.234685  0.405963   \n",
       "757  0.0  0.841439  0.0  1.317885  1.786135  0.000000  0.285779  0.467552   \n",
       "\n",
       "            8         9  ...      1016      1017      1018      1019  \\\n",
       "0    0.360674  1.938398  ...  0.617046  0.013426  2.397793  2.337935   \n",
       "1    0.281851  1.503808  ...  0.542221  0.220323  2.360501  2.105009   \n",
       "2    0.047832  1.014019  ...  0.564341  0.316510  1.714391  1.742387   \n",
       "3    0.221734  1.473903  ...  0.609555  0.234743  2.181445  2.088584   \n",
       "4    0.193188  1.869843  ...  0.893661  0.000090  1.644531  1.869496   \n",
       "..        ...       ...  ...       ...       ...       ...       ...   \n",
       "753  0.130399  2.396557  ...  0.486602  0.000000  1.422560  1.695645   \n",
       "754  0.135259  2.414023  ...  0.548764  0.002064  1.406011  1.738917   \n",
       "755  0.283883  2.547054  ...  0.616957  0.000108  1.904832  2.052500   \n",
       "756  0.050886  2.725920  ...  0.126932  0.000346  0.930988  1.715796   \n",
       "757  0.054071  2.560565  ...  0.309506  0.000778  1.372500  1.764772   \n",
       "\n",
       "         1020      1021      1022      1023        lon        lat  \n",
       "0    1.960293  0.002190  4.655385  0.005369  23.574878 -16.674232  \n",
       "1    1.756452  0.002314  3.625113  0.086868  23.584878 -16.674232  \n",
       "2    1.567845  0.025872  2.985596  0.159931  23.684878 -16.724232  \n",
       "3    1.765673  0.058305  3.758696  0.168027  23.554878 -16.624232  \n",
       "4    1.837644  0.000000  4.721381  0.000000  23.594878 -16.664232  \n",
       "..        ...       ...       ...       ...        ...        ...  \n",
       "753  1.803615  0.000000  4.791719  0.000000  28.364878 -16.514232  \n",
       "754  1.870140  0.000000  4.755852  0.000000  28.364878 -16.504232  \n",
       "755  2.022559  0.000000  5.039641  0.000000  28.414878 -16.474232  \n",
       "756  1.856489  0.000000  4.579545  0.000000  28.434878 -16.454232  \n",
       "757  1.831581  0.000000  4.864138  0.000000  28.574878 -16.484232  \n",
       "\n",
       "[758 rows x 1026 columns]"
      ]
     },
     "execution_count": 112,
     "metadata": {},
     "output_type": "execute_result"
    }
   ],
   "source": [
    "features_monthly"
   ]
  },
  {
   "cell_type": "code",
   "execution_count": 39,
   "id": "ff6fa31a-6711-4aaa-a74e-3a37735ca8f6",
   "metadata": {},
   "outputs": [
    {
     "data": {
      "text/plain": [
       "758"
      ]
     },
     "execution_count": 39,
     "metadata": {},
     "output_type": "execute_result"
    }
   ],
   "source": [
    "len(matching_items)"
   ]
  },
  {
   "cell_type": "code",
   "execution_count": 16,
   "id": "209232d8-04e2-4f1b-abf4-8a2b968e15f6",
   "metadata": {},
   "outputs": [
    {
     "data": {
      "text/plain": [
       "<Item id=LE07_L2SP_175072_20120106_02_T1>"
      ]
     },
     "execution_count": 16,
     "metadata": {},
     "output_type": "execute_result"
    }
   ],
   "source": [
    "matching_items[1]"
   ]
  },
  {
   "cell_type": "code",
   "execution_count": 17,
   "id": "d1bf349c-e6b6-4fc8-8b6f-4808288a3667",
   "metadata": {},
   "outputs": [],
   "source": [
    "matching_items = []\n",
    "for item in df3.stac_item.tolist():\n",
    "    signed_item = pc.sign(Item.from_dict(item))\n",
    "    matching_items.append(signed_item)"
   ]
  },
  {
   "cell_type": "code",
   "execution_count": 18,
   "id": "63aec6b6-771d-4fa3-9d22-8b186d489051",
   "metadata": {},
   "outputs": [
    {
     "data": {
      "text/plain": [
       "0      {'id': 'LE07_L2SP_175072_20120106_02_T1', 'bbo...\n",
       "1      {'id': 'LE07_L2SP_175072_20120106_02_T1', 'bbo...\n",
       "2      {'id': 'LE07_L2SP_175072_20120106_02_T1', 'bbo...\n",
       "3      {'id': 'LE07_L2SP_175072_20120106_02_T1', 'bbo...\n",
       "4      {'id': 'LE07_L2SP_175072_20120106_02_T1', 'bbo...\n",
       "                             ...                        \n",
       "753    {'id': 'LE07_L2SP_171072_20120110_02_T1', 'bbo...\n",
       "754    {'id': 'LE07_L2SP_171072_20120110_02_T1', 'bbo...\n",
       "755    {'id': 'LE07_L2SP_171072_20120110_02_T1', 'bbo...\n",
       "756    {'id': 'LE07_L2SP_171072_20120110_02_T1', 'bbo...\n",
       "757    {'id': 'LE07_L2SP_171072_20120110_02_T1', 'bbo...\n",
       "Name: stac_item, Length: 758, dtype: object"
      ]
     },
     "execution_count": 18,
     "metadata": {},
     "output_type": "execute_result"
    }
   ],
   "source": [
    "df3.stac_item"
   ]
  },
  {
   "cell_type": "code",
   "execution_count": 22,
   "id": "83e56946-9ef1-44af-ae6a-0ee00a95b019",
   "metadata": {},
   "outputs": [],
   "source": [
    "# next(iter(df3.stac_item))"
   ]
  },
  {
   "cell_type": "code",
   "execution_count": 36,
   "id": "77cd93b4-96c6-4884-812d-a0ac13dce79f",
   "metadata": {},
   "outputs": [],
   "source": [
    "# for i in df3.index:\n",
    "#     print(len(df3.stac_item.tolist()[i]))"
   ]
  },
  {
   "cell_type": "code",
   "execution_count": null,
   "id": "7207493d-1641-4695-8b94-9e6ea1d3f51e",
   "metadata": {},
   "outputs": [],
   "source": []
  }
 ],
 "metadata": {
  "kernel_info": {
   "name": "python3"
  },
  "kernelspec": {
   "display_name": "Python 3 (ipykernel)",
   "language": "python",
   "name": "python3"
  },
  "language_info": {
   "codemirror_mode": {
    "name": "ipython",
    "version": 3
   },
   "file_extension": ".py",
   "mimetype": "text/x-python",
   "name": "python",
   "nbconvert_exporter": "python",
   "pygments_lexer": "ipython3",
   "version": "3.8.13"
  },
  "microsoft": {
   "host": {
    "AzureML": {
     "notebookHasBeenCompleted": true
    }
   }
  },
  "nteract": {
   "version": "nteract-front-end@1.0.0"
  }
 },
 "nbformat": 4,
 "nbformat_minor": 5
}
