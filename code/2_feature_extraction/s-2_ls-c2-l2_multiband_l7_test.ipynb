{
 "cells": [
  {
   "cell_type": "markdown",
   "id": "e8d820de",
   "metadata": {},
   "source": [
    "## MOSAIKS feature extraction\n",
    "\n",
    "This tutorial demonstrates the **MOSAIKS** method for extracting _feature vectors_ from satellite imagery patches for use in downstream modeling tasks. It will show:\n",
    "- How to extract 1km$^2$ patches of Sentinel 2 or Landsat multispectral imagery for a list of latitude, longitude points\n",
    "- How to extract summary features from each of these imagery patches\n",
    "- How to use the summary features in a linear model of the population density at each point\n",
    "\n",
    "### Background\n",
    "\n",
    "Consider the case where you have a dataset of latitude and longitude points assosciated with some dependent variable (for example: population density, weather, housing prices, biodiversity) and, potentially, other independent variables. You would like to model the dependent variable as a function of the independent variables, but instead of including latitude and longitude directly in this model, you would like to include some high dimensional representation of what the Earth looks like at that point (that hopefully explains some of the variance in the dependent variable!). From the computer vision literature, there are various [representation learning techniques](https://en.wikipedia.org/wiki/Feature_learning) that can be used to do this, i.e. extract _features vectors_ from imagery. This notebook gives an implementation of the technique described in [Rolf et al. 2021](https://www.nature.com/articles/s41467-021-24638-z), \"A generalizable and accessible approach to machine learning with global satellite imagery\" called Multi-task Observation using Satellite Imagery & Kitchen Sinks (**MOSAIKS**). For more information about **MOSAIKS** see the [project's webpage](http://www.globalpolicy.science/mosaiks).\n",
    "\n",
    "### Environment setup\n",
    "This notebook works with or without an API key, but you will be given more permissive access to the data with an API key.\n",
    "- If you're running this on the [Planetary Computer Hub](http://planetarycomputer.microsoft.com/compute), make sure to choose the **GPU - PyTorch** profile when presented with the form to choose your environment.\n",
    "- The Planetary Computer Hub is pre-configured to use your API key.\n",
    "- To use your API key locally, set the environment variable `PC_SDK_SUBSCRIPTION_KEY` or use `pc.settings.set_subscription_key(<YOUR API Key>)`.\n",
    "    \n",
    "**Notes**:\n",
    "- This example uses either\n",
    "    - [sentinel-2-l2a data](https://planetarycomputer.microsoft.com/dataset/sentinel-2-l2a)\n",
    "    - [landsat-c2-l2 data](https://planetarycomputer.microsoft.com/dataset/landsat-c2-l2)\n",
    "- The techniques used here apply equally well to other remote-sensing datasets."
   ]
  },
  {
   "cell_type": "code",
   "execution_count": 1,
   "id": "db2d1faa",
   "metadata": {
    "gather": {
     "logged": 1650114371790
    }
   },
   "outputs": [],
   "source": [
    "# !pip install -q git+https://github.com/geopandas/dask-geopandas\n",
    "!pip install -q pyhere"
   ]
  },
  {
   "cell_type": "code",
   "execution_count": 2,
   "id": "345a575f",
   "metadata": {
    "gather": {
     "logged": 1651174535306
    }
   },
   "outputs": [],
   "source": [
    "import warnings\n",
    "import time\n",
    "import os\n",
    "import gc\n",
    "import calendar\n",
    "import re\n",
    "\n",
    "RASTERIO_BEST_PRACTICES = dict(  # See https://github.com/pangeo-data/cog-best-practices\n",
    "    CURL_CA_BUNDLE=\"/etc/ssl/certs/ca-certificates.crt\",\n",
    "    GDAL_DISABLE_READDIR_ON_OPEN=\"EMPTY_DIR\",\n",
    "    AWS_NO_SIGN_REQUEST=\"YES\",\n",
    "    GDAL_MAX_RAW_BLOCK_CACHE_SIZE=\"200000000\",\n",
    "    GDAL_SWATH_SIZE=\"200000000\",\n",
    "    VSI_CURL_CACHE_SIZE=\"200000000\",\n",
    ")\n",
    "os.environ.update(RASTERIO_BEST_PRACTICES)\n",
    "\n",
    "import numpy as np\n",
    "import pandas as pd\n",
    "import matplotlib.pyplot as plt\n",
    "from pyhere import here\n",
    "\n",
    "import torch\n",
    "import torch.nn as nn\n",
    "import torch.nn.functional as F\n",
    "from torch.utils.data import Dataset, DataLoader\n",
    "\n",
    "import xarray as xr\n",
    "import rasterio\n",
    "import rasterio.warp\n",
    "import rasterio.mask\n",
    "import shapely.geometry\n",
    "import geopandas\n",
    "import dask_geopandas\n",
    "from dask.distributed import Client\n",
    "\n",
    "from pystac import Item\n",
    "import stackstac\n",
    "import pyproj\n",
    "\n",
    "warnings.filterwarnings(action=\"ignore\", category=UserWarning, module=\"torch\")\n",
    "warnings.filterwarnings(action=\"ignore\", category=FutureWarning)\n",
    "warnings.filterwarnings(action=\"ignore\", category=RuntimeWarning)\n",
    "warnings.filterwarnings(action=\"ignore\", category=UserWarning)\n",
    "\n",
    "import pystac_client\n",
    "import planetary_computer as pc\n",
    "\n",
    "\n",
    "# Disabling the benchmarking feature with torch.backends.cudnn.benchmark = False \n",
    "# causes cuDNN to deterministically select an algorithm, possibly at the cost of reduced performance.\n",
    "# https://pytorch.org/docs/stable/notes/randomness.html\n",
    "torch.backends.cudnn.benchmark = False\n",
    "\n",
    "np.random.seed(42)\n",
    "torch.manual_seed(42)\n",
    "\n",
    "import random\n",
    "random.seed(42)"
   ]
  },
  {
   "cell_type": "markdown",
   "id": "83b44f66",
   "metadata": {},
   "source": [
    "## Set Parameters"
   ]
  },
  {
   "cell_type": "code",
   "execution_count": 3,
   "id": "7ea60a5c",
   "metadata": {
    "collapsed": false,
    "gather": {
     "logged": 1651174535433
    },
    "jupyter": {
     "outputs_hidden": false,
     "source_hidden": false
    },
    "nteract": {
     "transient": {
      "deleting": false
     }
    }
   },
   "outputs": [],
   "source": [
    "num_features = 1024\n",
    "country_code = 'ZMB'\n",
    "use_file = True\n",
    "# use_file = False"
   ]
  },
  {
   "cell_type": "code",
   "execution_count": 4,
   "id": "03e83c27",
   "metadata": {
    "collapsed": false,
    "gather": {
     "logged": 1651174535433
    },
    "jupyter": {
     "outputs_hidden": false,
     "source_hidden": false
    },
    "nteract": {
     "transient": {
      "deleting": false
     }
    }
   },
   "outputs": [],
   "source": [
    "satellite = \"landsat-c2-l2\"\n",
    "bands = [\n",
    "    \"red\",\n",
    "    \"green\", \n",
    "    \"blue\",\n",
    "    # \"nir08\",\n",
    "    # \"swir16\",\n",
    "    # \"swir22\"\n",
    "]"
   ]
  },
  {
   "cell_type": "code",
   "execution_count": 5,
   "id": "2dd8c75f",
   "metadata": {
    "collapsed": false,
    "gather": {
     "logged": 1651174535433
    },
    "jupyter": {
     "outputs_hidden": false,
     "source_hidden": false
    },
    "nteract": {
     "transient": {
      "deleting": false
     }
    }
   },
   "outputs": [],
   "source": [
    "# satellite = \"sentinel-2-l2a\"\n",
    "# bands = [  # Sentinel-2 Bands\n",
    "#     \"B02\", # B02 (blue) 10 meter\n",
    "#     \"B03\", # B03 (green) 10 meter\n",
    "#     \"B04\", # B04 (red) 10 meter\n",
    "#     \"B05\", # B05(Veg Red Edge 1) 20 meter\n",
    "#     \"B06\", # B06(Veg Red Edge 2) 20 meter\n",
    "#     \"B07\", # B07(Veg Red Edge 3) 20 meter\n",
    "#     \"B08\", # B08 (NIR) 10 meter\n",
    "#     \"B11\", # B11 (SWIR (1.6)) 20 meter\n",
    "#     \"B12\", # B12 (SWIR (2.2)) 20 meter\n",
    "# ]"
   ]
  },
  {
   "cell_type": "code",
   "execution_count": 6,
   "id": "f7becbe0",
   "metadata": {},
   "outputs": [],
   "source": [
    "if satellite == \"landsat-c2-l2\":\n",
    "    resolution = 30\n",
    "    min_image_edge = 6\n",
    "else:\n",
    "    resolution = 10\n",
    "    min_image_edge = 20"
   ]
  },
  {
   "cell_type": "code",
   "execution_count": 7,
   "id": "17e8e5fd",
   "metadata": {
    "collapsed": false,
    "gather": {
     "logged": 1651174535542
    },
    "jupyter": {
     "outputs_hidden": false,
     "source_hidden": false
    },
    "nteract": {
     "transient": {
      "deleting": false
     }
    }
   },
   "outputs": [],
   "source": [
    "# dat_re = re.compile(r'\\d+') \n",
    "# l = [str(int(dat_re.search(x).group())) for x in bands if dat_re.search(x)]\n",
    "# bands_short = '-'.join(l)"
   ]
  },
  {
   "cell_type": "code",
   "execution_count": 8,
   "id": "fddf7d62",
   "metadata": {
    "collapsed": false,
    "gather": {
     "logged": 1651174535542
    },
    "jupyter": {
     "outputs_hidden": false,
     "source_hidden": false
    },
    "nteract": {
     "transient": {
      "deleting": false
     }
    }
   },
   "outputs": [],
   "source": [
    "channels = len(bands)\n",
    "bands_short = \"r-g-b-nir-swir16-swir22\""
   ]
  },
  {
   "cell_type": "markdown",
   "id": "a6a0161a",
   "metadata": {},
   "source": [
    "## Create grid and sample points to featurize"
   ]
  },
  {
   "cell_type": "code",
   "execution_count": 9,
   "id": "bd39dfca",
   "metadata": {
    "gather": {
     "logged": 1651174535812
    }
   },
   "outputs": [
    {
     "data": {
      "text/plain": [
       "(19598, 4)"
      ]
     },
     "execution_count": 9,
     "metadata": {},
     "output_type": "execute_result"
    }
   ],
   "source": [
    "if use_file:\n",
    "    gdf = pd.read_feather(here('data', 'grid', 'ZMB_crop_weights_20k-points.feather'))\n",
    "    gdf = (\n",
    "        geopandas\n",
    "        .GeoDataFrame(\n",
    "            gdf, \n",
    "            geometry = geopandas.points_from_xy(x = gdf.lon, y = gdf.lat), \n",
    "            crs='EPSG:4326')\n",
    "    )\n",
    "else:\n",
    "    cell_size = 0.01  # Roughly 1 km\n",
    "    ### get country shape\n",
    "    country_file_name = f\"data/geo_boundaries/africa_adm0.geojson\"\n",
    "    africa = geopandas.read_file(country_file_name)\n",
    "    country = africa[africa.adm0_a3 == country_code]\n",
    "    #### This would be simpler, but throws an error down the line if used \n",
    "    # world = geopandas.read_file(geopandas.datasets.get_path('naturalearth_lowres'))\n",
    "    # country = world.query(f'iso_a3 == \"{country_code}\"')\n",
    "    ### Create grid of points\n",
    "    cell_size = .01  # Very roughly 1 km\n",
    "    xmin, ymin, xmax, ymax = country.total_bounds\n",
    "    xs = list(np.arange(xmin, xmax + cell_size, cell_size))\n",
    "    ys = list(np.arange(ymin, ymax + cell_size, cell_size))\n",
    "    def make_cell(x, y, cell_size):\n",
    "        ring = [\n",
    "            (x, y),\n",
    "            (x + cell_size, y),\n",
    "            (x + cell_size, y + cell_size),\n",
    "            (x, y + cell_size)\n",
    "        ]\n",
    "        cell = shapely.geometry.Polygon(ring).centroid\n",
    "        return cell\n",
    "    center_points = []\n",
    "    for x in xs:\n",
    "        for y in ys:\n",
    "            cell = make_cell(x, y, cell_size)\n",
    "            center_points.append(cell)\n",
    "    ### Put grid into a GeDataFrame for cropping to country shape\n",
    "    gdf = geopandas.GeoDataFrame({'geometry': center_points}, crs = 'EPSG:4326')\n",
    "    gdf['lon'], gdf['lat'] = gdf.geometry.x, gdf.geometry.y\n",
    "    ### Subset to country \n",
    "    ### This buffer ensures that no points are take at the border \n",
    "    ### which would lead to duplication with neighboring countries\n",
    "    gdf = gdf[gdf.within(country.unary_union.buffer(-0.005))]\n",
    "    gdf = gdf[['lon', 'lat', 'geometry']].reset_index(drop = True)\n",
    "    gdf = gdf.sample(frac = 0.1, random_state=42, ignore_index=False)\n",
    "    points = gdf[[\"lon\", \"lat\"]].to_numpy()\n",
    "pt_len = gdf.shape[0]\n",
    "gdf.shape"
   ]
  },
  {
   "cell_type": "markdown",
   "id": "588d58c1",
   "metadata": {},
   "source": [
    "First we define the pytorch model that we will use to extract the features and a helper method. The **MOSAIKS** methodology describes several ways to do this and we use the simplest."
   ]
  },
  {
   "cell_type": "code",
   "execution_count": 10,
   "id": "e4a18982",
   "metadata": {
    "gather": {
     "logged": 1651174535955
    }
   },
   "outputs": [],
   "source": [
    "class RCF(nn.Module):\n",
    "    \"\"\"A model for extracting Random Convolution Features (RCF) from input imagery.\"\"\"\n",
    "    def __init__(self, num_features=16, kernel_size=3, num_input_channels=channels):\n",
    "        super(RCF, self).__init__()\n",
    "        # We create `num_features / 2` filters so require `num_features` to be divisible by 2\n",
    "        assert num_features % 2 == 0, \"Please enter an even number of features.\"\n",
    "        # Applies a 2D convolution over an input image composed of several input planes.\n",
    "        self.conv1 = nn.Conv2d(\n",
    "            num_input_channels,\n",
    "            num_features // 2,\n",
    "            kernel_size=kernel_size,\n",
    "            stride=1,\n",
    "            padding=0,\n",
    "            dilation=1,\n",
    "            bias=True,\n",
    "        )\n",
    "        # Fills the input Tensor 'conv1.weight' with values drawn from the normal distribution\n",
    "        nn.init.normal_(self.conv1.weight, mean=0.0, std=1.0)\n",
    "        # Fills the input Tensor 'conv1.bias' with the value 'val = -1'.\n",
    "        nn.init.constant_(self.conv1.bias, -1.0)\n",
    "    def forward(self, x):\n",
    "        # The rectified linear activation function or ReLU for short is a piecewise linear function \n",
    "        # that will output the input directly if it is positive, otherwise, it will output zero.\n",
    "        x1a = F.relu(self.conv1(x), inplace=True)\n",
    "        # The below step is where we take the inverse which is appended later\n",
    "        x1b = F.relu(-self.conv1(x), inplace=True)\n",
    "        # Applies a 2D adaptive average pooling over an input signal composed of several input planes.\n",
    "        x1a = F.adaptive_avg_pool2d(x1a, (1, 1)).squeeze()\n",
    "        x1b = F.adaptive_avg_pool2d(x1b, (1, 1)).squeeze()\n",
    "        if len(x1a.shape) == 1:  # case where we passed a single input\n",
    "            return torch.cat((x1a, x1b), dim=0)\n",
    "        elif len(x1a.shape) == 2:  # case where we passed a batch of > 1 inputs\n",
    "            return torch.cat((x1a, x1b), dim=1)"
   ]
  },
  {
   "cell_type": "markdown",
   "id": "1351c016",
   "metadata": {},
   "source": [
    "Next, we initialize the model and pytorch components"
   ]
  },
  {
   "cell_type": "code",
   "execution_count": 11,
   "id": "e7a35410",
   "metadata": {
    "gather": {
     "logged": 1651174537496
    }
   },
   "outputs": [],
   "source": [
    "device = torch.device(\"cuda\")\n",
    "model = RCF(num_features).eval().to(device)"
   ]
  },
  {
   "cell_type": "markdown",
   "id": "5d8dcf09",
   "metadata": {},
   "source": [
    "### Extract features from the imagery around each point\n",
    "\n",
    "We need to find a suitable Sentinel 2 scene for each point. As usual, we'll use `pystac-client` to search for items matching some conditions, but we don't just want do make a `.search()` call for each of the 67,968 remaining points. Each HTTP request is relatively slow. Instead, we will *batch* or points and search *in parallel*.\n",
    "\n",
    "We need to be a bit careful with how we batch up our points though. Since a single Sentinel 2 scene will cover many points, we want to make sure that points which are spatially close together end up in the same batch. In short, we need to spatially partition the dataset. This is implemented in `dask-geopandas`.\n",
    "\n",
    "So the overall workflow will be\n",
    "\n",
    "1. Find an appropriate STAC item for each point (in parallel, using the spatially partitioned dataset)\n",
    "2. Feed the points and STAC items to a custom Dataset that can read imagery given a point and the URL of a overlapping S2 scene\n",
    "3. Use a custom Dataloader, which uses our Dataset, to feed our model imagery and save the corresponding features"
   ]
  },
  {
   "cell_type": "code",
   "execution_count": 12,
   "id": "60ee5781",
   "metadata": {
    "gather": {
     "logged": 1651174537641
    }
   },
   "outputs": [
    {
     "data": {
      "text/plain": [
       "0"
      ]
     },
     "execution_count": 12,
     "metadata": {},
     "output_type": "execute_result"
    }
   ],
   "source": [
    "NPARTITIONS = 250\n",
    "\n",
    "ddf = dask_geopandas.from_geopandas(gdf, npartitions=1)\n",
    "hd = ddf.hilbert_distance().compute()\n",
    "gdf[\"hd\"] = hd\n",
    "gdf = gdf.sort_values(\"hd\")\n",
    "\n",
    "dgdf = dask_geopandas.from_geopandas(gdf, npartitions=NPARTITIONS, sort=False)\n",
    "\n",
    "del ddf\n",
    "del hd\n",
    "del gdf\n",
    "gc.collect()"
   ]
  },
  {
   "cell_type": "code",
   "execution_count": 13,
   "id": "8e86ee00",
   "metadata": {
    "collapsed": false,
    "jupyter": {
     "outputs_hidden": false
    }
   },
   "outputs": [],
   "source": [
    "year_start = 2012\n",
    "year_end = 2012\n",
    "\n",
    "buffer_size = 0.005\n",
    "cloud_limit = 20\n",
    "\n",
    "batch_size = 30\n",
    "workers = os.cpu_count()"
   ]
  },
  {
   "cell_type": "code",
   "execution_count": 14,
   "id": "48a187d7",
   "metadata": {
    "collapsed": false,
    "jupyter": {
     "outputs_hidden": false
    }
   },
   "outputs": [],
   "source": [
    "def query(points):\n",
    "    \"\"\"\n",
    "    Find a STAC item for points in the `points` DataFrame\n",
    "\n",
    "    Parameters\n",
    "    ----------\n",
    "    points : geopandas.GeoDataFrame\n",
    "        A GeoDataFrame\n",
    "\n",
    "    Returns\n",
    "    -------\n",
    "    geopandas.GeoDataFrame\n",
    "        A new geopandas.GeoDataFrame with a `stac_item` column containing the STAC\n",
    "        item that covers each point.\n",
    "    \"\"\"\n",
    "    intersects = shapely.geometry.mapping(points.unary_union.convex_hull)\n",
    "\n",
    "    catalog = pystac_client.Client.open(\n",
    "        \"https://planetarycomputer.microsoft.com/api/stac/v1\"\n",
    "    )\n",
    "    search_start = f\"2012-02-1\" \n",
    "    search_end = f\"2012-02-28\" \n",
    "\n",
    "    # The time frame in which we search for non-cloudy imagery\n",
    "    search = catalog.search(\n",
    "        collections=[satellite],  \n",
    "        intersects=intersects,\n",
    "        datetime=[search_start, search_end],\n",
    "        query={\"eo:cloud_cover\": {\"lt\": cloud_limit}},\n",
    "        limit=500,\n",
    "    )\n",
    "    ic = search.get_all_items_as_dict()\n",
    "    features = ic[\"features\"]\n",
    "    features_d = {item[\"id\"]: item for item in features}\n",
    "    data = {\n",
    "        \"eo:cloud_cover\": [],\n",
    "        \"geometry\": [],\n",
    "    }\n",
    "    index = []\n",
    "    for item in features:\n",
    "        data[\"eo:cloud_cover\"].append(item[\"properties\"][\"eo:cloud_cover\"])\n",
    "        data[\"geometry\"].append(shapely.geometry.shape(item[\"geometry\"]))\n",
    "        index.append(item[\"id\"])\n",
    "    items = geopandas.GeoDataFrame(data, index=index, geometry=\"geometry\").sort_values(\n",
    "        \"eo:cloud_cover\"\n",
    "    )\n",
    "    point_list = points.geometry.tolist()\n",
    "    point_items = []\n",
    "    point_items2 = []\n",
    "    for point in point_list:\n",
    "        covered_by = items[items.covers(point)]\n",
    "        if len(covered_by) == 1:\n",
    "            point_items.append(features_d[covered_by.index[0]])\n",
    "            point_items2.append(None)\n",
    "        elif len(covered_by) > 1:\n",
    "            point_items.append(features_d[covered_by.index[0]])\n",
    "            point_items2.append(features_d[covered_by.index[1]])\n",
    "        else:\n",
    "            # There weren't any scenes matching our conditions for this point (too cloudy)\n",
    "            point_items.append(None)\n",
    "            point_items2.append(None)\n",
    "    return points.assign(stac_item=point_items, \n",
    "                         stac_item2=point_items2\n",
    "                        )"
   ]
  },
  {
   "cell_type": "code",
   "execution_count": 15,
   "id": "bfc7ac10",
   "metadata": {
    "collapsed": false,
    "jupyter": {
     "outputs_hidden": false
    }
   },
   "outputs": [
    {
     "data": {
      "text/plain": [
       "25"
      ]
     },
     "execution_count": 15,
     "metadata": {},
     "output_type": "execute_result"
    }
   ],
   "source": [
    "with Client(n_workers=16) as client:\n",
    "    meta = dgdf._meta.assign(stac_item=[], \n",
    "                             stac_item2 =[]\n",
    "                            )\n",
    "    df2 = dgdf.map_partitions(query, meta=meta).compute()\n",
    "# df3 = df2.dropna(subset=[\"stac_item\"]).reset_index(drop = True)\n",
    "df3 = df2.dropna(subset=[\"stac_item2\"]).reset_index(drop = True)\n",
    "\n",
    "matching_items = []\n",
    "for item in df3.stac_item.tolist():\n",
    "    signed_item = pc.sign(Item.from_dict(item))\n",
    "    matching_items.append(signed_item)\n",
    "    \n",
    "matching_items2 = []\n",
    "for item in df3.stac_item2.tolist():\n",
    "    signed_item = pc.sign(Item.from_dict(item))\n",
    "    matching_items2.append(signed_item)\n",
    "\n",
    "points = df3[[\"lon\", \"lat\"]].to_numpy()\n",
    "len(points)"
   ]
  },
  {
   "cell_type": "code",
   "execution_count": 120,
   "id": "417688d4",
   "metadata": {},
   "outputs": [],
   "source": [
    "# df2[df2.stac_item2.notnull()]"
   ]
  },
  {
   "cell_type": "code",
   "execution_count": null,
   "id": "89a1b25d",
   "metadata": {},
   "outputs": [],
   "source": []
  },
  {
   "cell_type": "code",
   "execution_count": null,
   "id": "44ae2437",
   "metadata": {},
   "outputs": [],
   "source": []
  },
  {
   "cell_type": "code",
   "execution_count": null,
   "id": "1a15dba3",
   "metadata": {},
   "outputs": [],
   "source": []
  },
  {
   "cell_type": "code",
   "execution_count": 16,
   "id": "3a68a4bc",
   "metadata": {},
   "outputs": [],
   "source": [
    "from scipy import ndimage as nd\n",
    "\n",
    "def fill(data, invalid=None):\n",
    "    \"\"\"\n",
    "    Replace the value of invalid 'data' cells (indicated by 'invalid') \n",
    "    by the value of the nearest valid data cell\n",
    "\n",
    "    Input:\n",
    "        data:    numpy array of any dimension\n",
    "        invalid: a binary array of same shape as 'data'. \n",
    "                 data value are replaced where invalid is True\n",
    "                 If None (default), use: invalid = np.isnan(data)\n",
    "\n",
    "    Output: \n",
    "        Return a filled array. \n",
    "    \"\"\"    \n",
    "    if invalid is None: invalid = np.isnan(data)\n",
    "\n",
    "    ind = nd.distance_transform_edt(\n",
    "        invalid, \n",
    "        return_distances=False, \n",
    "        return_indices=True\n",
    "    )\n",
    "    return data[tuple(ind)]"
   ]
  },
  {
   "cell_type": "code",
   "execution_count": 20,
   "id": "d09945d5",
   "metadata": {},
   "outputs": [],
   "source": [
    "# class CustomDataset(Dataset):\n",
    "#     def __init__(self, points, items, items2, buffer=buffer_size):\n",
    "#         self.points = points\n",
    "#         self.items = items\n",
    "#         self.items2 = items2\n",
    "#         self.buffer = buffer\n",
    "\n",
    "#     def __len__(self):\n",
    "#         return self.points.shape[0]\n",
    "\n",
    "#     def __getitem__(self, idx):\n",
    "\n",
    "#         lon, lat = self.points[idx]\n",
    "#         fn = (self.items[idx], self.items2[idx])\n",
    "        \n",
    "\n",
    "#         if fn is None:\n",
    "#             return None\n",
    "#         else:\n",
    "#             try:\n",
    "#                 stack = stackstac.stack(\n",
    "#                     items = fn,\n",
    "#                     assets=bands,\n",
    "#                     resolution=resolution,\n",
    "#                 )\n",
    "#                 # stack2 = stackstac.stack(\n",
    "#                 #     items = fn2,\n",
    "#                 #     assets=bands,\n",
    "#                 #     resolution=resolution,\n",
    "#                 # )\n",
    "#                 # stack = stack1.combine_first(stack2).median(\"time\", keep_attrs=True)\n",
    "#                 # stack = xr.combine_by_coords([stack1, stack2])\n",
    "#                 # stack = xr.merge([stack1, stack2], compat=\"no_conflicts\")\n",
    "#                 # stack = xr.combine_first([stack1, stack2])\n",
    "                \n",
    "#                 x_min, y_min = pyproj.Proj(stack.crs)(lon-self.buffer, lat-self.buffer)\n",
    "#                 x_max, y_max = pyproj.Proj(stack.crs)(lon+self.buffer, lat+self.buffer)\n",
    "#                 aoi = stack.loc[..., y_max:y_min, x_min:x_max]\n",
    "               \n",
    "#                 out_image = aoi.data \n",
    "#                 # out_image = fill(data.data)\n",
    "#                 out_image = ((out_image - np.nanmin(out_image) ) / (np.nanmax(out_image) - np.nanmin(out_image)))\n",
    "                \n",
    "#                 out_image = out_image.compute(\n",
    "#                     scheduler=\"single-threaded\"\n",
    "#                     )\n",
    "#             except ValueError:\n",
    "#                 pass\n",
    "#             out_image = torch.from_numpy(out_image).float()\n",
    "#             return stack"
   ]
  },
  {
   "cell_type": "code",
   "execution_count": 77,
   "id": "e32d1963",
   "metadata": {
    "collapsed": false,
    "jupyter": {
     "outputs_hidden": false
    }
   },
   "outputs": [],
   "source": [
    "class CustomDataset(Dataset):\n",
    "    def __init__(self, points, items, buffer=buffer_size):\n",
    "        self.points = points\n",
    "        self.items = items\n",
    "        self.buffer = buffer\n",
    "\n",
    "    def __len__(self):\n",
    "        return self.points.shape[0]\n",
    "\n",
    "    def __getitem__(self, idx):\n",
    "\n",
    "        lon, lat = self.points[idx]\n",
    "        fn = self.items[idx]\n",
    "\n",
    "        if fn is None:\n",
    "            return None\n",
    "        else:\n",
    "            try:\n",
    "                stack = stackstac.stack(\n",
    "                    items = fn, \n",
    "                    assets=bands,\n",
    "                    resolution=resolution,\n",
    "                )\n",
    "                x_min, y_min = pyproj.Proj(stack.crs)(lon-self.buffer, lat-self.buffer)\n",
    "                x_max, y_max = pyproj.Proj(stack.crs)(lon+self.buffer, lat+self.buffer)\n",
    "                aoi = stack.loc[..., y_max:y_min, x_min:x_max]\n",
    "               \n",
    "                data = aoi.compute(\n",
    "                    scheduler=\"single-threaded\"\n",
    "                    )\n",
    "                # out_image = data.data \n",
    "                out_image = fill(data.data)\n",
    "                out_image = ((out_image - np.nanmin(out_image) ) / (np.nanmax(out_image) - np.nanmin(out_image)))\n",
    "            except ValueError:\n",
    "                pass\n",
    "            out_image = torch.from_numpy(out_image).float()\n",
    "            return out_image"
   ]
  },
  {
   "cell_type": "code",
   "execution_count": 78,
   "id": "d1beeff1",
   "metadata": {
    "collapsed": false,
    "jupyter": {
     "outputs_hidden": false
    }
   },
   "outputs": [],
   "source": [
    "dataset = CustomDataset(points, matching_items, buffer = 0.015)"
   ]
  },
  {
   "cell_type": "code",
   "execution_count": 79,
   "id": "4776051b",
   "metadata": {},
   "outputs": [],
   "source": [
    "# dataset[0]"
   ]
  },
  {
   "cell_type": "code",
   "execution_count": 80,
   "id": "f15151c0",
   "metadata": {},
   "outputs": [],
   "source": [
    "img = dataset[0].numpy()\n",
    "img = np.rollaxis(img.squeeze(), 0, 3)\n",
    "plt.figure(figsize = (10, 10))\n",
    "plt.imshow(img)\n",
    "plt.show()\n",
    "plt.close()"
   ]
  },
  {
   "cell_type": "code",
   "execution_count": 109,
   "id": "49a8d59b",
   "metadata": {
    "collapsed": false,
    "jupyter": {
     "outputs_hidden": false
    }
   },
   "outputs": [],
   "source": [
    "dataloader = DataLoader(\n",
    "    dataset,\n",
    "    batch_size=batch_size,\n",
    "    shuffle=False,\n",
    "    num_workers=workers,\n",
    "    collate_fn=lambda x: x,\n",
    "    pin_memory=False,\n",
    ")"
   ]
  },
  {
   "cell_type": "code",
   "execution_count": 110,
   "id": "8457c72b",
   "metadata": {
    "collapsed": false,
    "jupyter": {
     "outputs_hidden": false
    }
   },
   "outputs": [],
   "source": [
    "x_all = np.zeros((points.shape[0], num_features), dtype=float)\n",
    "tic = time.time()\n",
    "toc = time.time()\n",
    "i = 0\n",
    "for images in dataloader:\n",
    "    for image in images:\n",
    "\n",
    "        if i % 1000 == 0:\n",
    "            print(\n",
    "                f\"{i}/{points.shape[0]} -- {i / points.shape[0] * 100:0.2f}%\"\n",
    "                + f\" -- {time.time()-tic:0.2f} seconds\"\n",
    "            )\n",
    "            tic = time.time()\n",
    "\n",
    "        if image is not None:\n",
    "            assert len(image.shape) == 4, image.shape[0] == 1\n",
    "            # if type(image) == torch.Tensor: \n",
    "            try:\n",
    "                if image.shape[2] >= min_image_edge and image.shape[3] >= min_image_edge:\n",
    "                    image = image.to(device)\n",
    "                    with torch.no_grad():\n",
    "                        feats = model(image).cpu().numpy()\n",
    "                    x_all[i] = feats\n",
    "                else:\n",
    "                    pass\n",
    "            except ValueError: \n",
    "                pass \n",
    "        else:\n",
    "            pass  # this happens if we do not find a S2 scene for some point\n",
    "        i += 1\n",
    "\n",
    "\n",
    "        torch.cuda.empty_cache()\n",
    "\n",
    "    torch.cuda.empty_cache()"
   ]
  },
  {
   "cell_type": "code",
   "execution_count": 111,
   "id": "f9f8bee0",
   "metadata": {
    "collapsed": false,
    "jupyter": {
     "outputs_hidden": false
    }
   },
   "outputs": [],
   "source": [
    "features_monthly = pd.DataFrame(x_all)\n",
    "features_monthly[[\"lon\", \"lat\"]] = points.tolist()\n",
    "# features_monthly['year'] = yr\n",
    "# features_monthly['month'] = mn"
   ]
  },
  {
   "cell_type": "code",
   "execution_count": 112,
   "id": "6c953644",
   "metadata": {},
   "outputs": [],
   "source": [
    "features_monthly"
   ]
  },
  {
   "cell_type": "code",
   "execution_count": 39,
   "id": "70ae4b4a",
   "metadata": {},
   "outputs": [],
   "source": [
    "len(matching_items)"
   ]
  },
  {
   "cell_type": "code",
   "execution_count": 16,
   "id": "772e01b8",
   "metadata": {},
   "outputs": [],
   "source": [
    "matching_items[1]"
   ]
  },
  {
   "cell_type": "code",
   "execution_count": 17,
   "id": "2ac615d2",
   "metadata": {},
   "outputs": [],
   "source": [
    "matching_items = []\n",
    "for item in df3.stac_item.tolist():\n",
    "    signed_item = pc.sign(Item.from_dict(item))\n",
    "    matching_items.append(signed_item)"
   ]
  },
  {
   "cell_type": "code",
   "execution_count": 18,
   "id": "6718d0f8",
   "metadata": {},
   "outputs": [],
   "source": [
    "df3.stac_item"
   ]
  },
  {
   "cell_type": "code",
   "execution_count": 22,
   "id": "9e24496a",
   "metadata": {},
   "outputs": [],
   "source": [
    "# next(iter(df3.stac_item))"
   ]
  },
  {
   "cell_type": "code",
   "execution_count": 36,
   "id": "f6289002",
   "metadata": {},
   "outputs": [],
   "source": [
    "# for i in df3.index:\n",
    "#     print(len(df3.stac_item.tolist()[i]))"
   ]
  },
  {
   "cell_type": "code",
   "execution_count": null,
   "id": "1e5497c5",
   "metadata": {},
   "outputs": [],
   "source": []
  }
 ],
 "metadata": {
  "kernel_info": {
   "name": "python3"
  },
  "kernelspec": {
   "display_name": "Python 3 (ipykernel)",
   "language": "python",
   "name": "python3"
  },
  "language_info": {
   "codemirror_mode": {
    "name": "ipython",
    "version": 3
   },
   "file_extension": ".py",
   "mimetype": "text/x-python",
   "name": "python",
   "nbconvert_exporter": "python",
   "pygments_lexer": "ipython3",
   "version": "3.8.13"
  },
  "microsoft": {
   "host": {
    "AzureML": {
     "notebookHasBeenCompleted": true
    }
   }
  },
  "nteract": {
   "version": "nteract-front-end@1.0.0"
  }
 },
 "nbformat": 4,
 "nbformat_minor": 5
}
