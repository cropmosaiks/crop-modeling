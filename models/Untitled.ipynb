{
 "cells": [
  {
   "cell_type": "code",
   "execution_count": 1,
   "id": "f0e4fe1a-4bc4-4524-a013-e3d4b34dd09b",
   "metadata": {},
   "outputs": [],
   "source": [
    "## import warnings\n",
    "import time\n",
    "import math\n",
    "import os\n",
    "import glob\n",
    "from pyhere import here\n",
    "from datetime import date\n",
    "\n",
    "import numpy as np\n",
    "import pandas as pd\n",
    "import geopandas\n",
    "import pickle\n",
    "\n",
    "import pyarrow\n",
    "import itertools\n",
    "import multiprocessing\n",
    "import p_tqdm\n",
    "\n",
    "from sklearn.linear_model import Ridge, RidgeCV\n",
    "from sklearn.model_selection import train_test_split, KFold, LeaveOneGroupOut, cross_val_score, GridSearchCV, cross_val_predict\n",
    "from sklearn.metrics import r2_score\n",
    "from scipy.stats import spearmanr,  pearsonr"
   ]
  },
  {
   "cell_type": "code",
   "execution_count": 2,
   "id": "aa046ce9-10aa-4e05-8b53-a939a7d67ced",
   "metadata": {},
   "outputs": [],
   "source": [
    "X = np.array([[1, 2], [3, 4], [5, 6], [7, 8]])\n",
    "y = np.array([1, 2, 1, 2])\n",
    "g = np.array([1, 1, 2, 2])\n",
    "\n",
    "logo = LeaveOneGroupOut()\n",
    "ridge = Ridge()\n",
    "\n",
    "parameters = {'alpha': np.logspace(-5, 5, base = 10, num = 11)}"
   ]
  },
  {
   "cell_type": "code",
   "execution_count": 3,
   "id": "eb15ca12-db21-444e-a102-e8230f7d3844",
   "metadata": {},
   "outputs": [],
   "source": [
    "ridge_logo_reg = GridSearchCV(ridge, parameters, scoring = 'r2', cv = logo)\n",
    "ridge_logo_reg.fit(X, y, groups = g)\n",
    "best_logo_model = ridge_logo_reg.best_estimator_"
   ]
  },
  {
   "cell_type": "code",
   "execution_count": 4,
   "id": "e8d4fd73-f9ff-4026-8f50-9eca5f363c7b",
   "metadata": {},
   "outputs": [
    {
     "data": {
      "text/plain": [
       "0.09795918367346945"
      ]
     },
     "execution_count": 4,
     "metadata": {},
     "output_type": "execute_result"
    }
   ],
   "source": [
    "ridge_logo_reg.best_estimator_.score(X, y)"
   ]
  },
  {
   "cell_type": "code",
   "execution_count": 5,
   "id": "d1c450c0-c6ba-415a-85da-41acadbdc957",
   "metadata": {},
   "outputs": [
    {
     "data": {
      "text/plain": [
       "array([1.40384615, 1.44230769, 1.55769231, 1.59615385])"
      ]
     },
     "execution_count": 5,
     "metadata": {},
     "output_type": "execute_result"
    }
   ],
   "source": [
    "logo_val_predictions = cross_val_predict(\n",
    "    best_logo_model, X = X, y = y, groups = g,  cv = logo)   "
   ]
  },
  {
   "cell_type": "code",
   "execution_count": 6,
   "id": "b831c47f-682e-41f5-a746-cfa0ab65ad01",
   "metadata": {},
   "outputs": [
    {
     "data": {
      "text/plain": [
       "0.05177514792899407"
      ]
     },
     "execution_count": 6,
     "metadata": {},
     "output_type": "execute_result"
    }
   ],
   "source": [
    "r2_score(y, logo_val_predictions)"
   ]
  },
  {
   "cell_type": "code",
   "execution_count": 7,
   "id": "709276a7-41b4-42d3-b23a-67557bfed792",
   "metadata": {},
   "outputs": [
    {
     "data": {
      "text/html": [
       "<style>#sk-container-id-1 {color: black;background-color: white;}#sk-container-id-1 pre{padding: 0;}#sk-container-id-1 div.sk-toggleable {background-color: white;}#sk-container-id-1 label.sk-toggleable__label {cursor: pointer;display: block;width: 100%;margin-bottom: 0;padding: 0.3em;box-sizing: border-box;text-align: center;}#sk-container-id-1 label.sk-toggleable__label-arrow:before {content: \"▸\";float: left;margin-right: 0.25em;color: #696969;}#sk-container-id-1 label.sk-toggleable__label-arrow:hover:before {color: black;}#sk-container-id-1 div.sk-estimator:hover label.sk-toggleable__label-arrow:before {color: black;}#sk-container-id-1 div.sk-toggleable__content {max-height: 0;max-width: 0;overflow: hidden;text-align: left;background-color: #f0f8ff;}#sk-container-id-1 div.sk-toggleable__content pre {margin: 0.2em;color: black;border-radius: 0.25em;background-color: #f0f8ff;}#sk-container-id-1 input.sk-toggleable__control:checked~div.sk-toggleable__content {max-height: 200px;max-width: 100%;overflow: auto;}#sk-container-id-1 input.sk-toggleable__control:checked~label.sk-toggleable__label-arrow:before {content: \"▾\";}#sk-container-id-1 div.sk-estimator input.sk-toggleable__control:checked~label.sk-toggleable__label {background-color: #d4ebff;}#sk-container-id-1 div.sk-label input.sk-toggleable__control:checked~label.sk-toggleable__label {background-color: #d4ebff;}#sk-container-id-1 input.sk-hidden--visually {border: 0;clip: rect(1px 1px 1px 1px);clip: rect(1px, 1px, 1px, 1px);height: 1px;margin: -1px;overflow: hidden;padding: 0;position: absolute;width: 1px;}#sk-container-id-1 div.sk-estimator {font-family: monospace;background-color: #f0f8ff;border: 1px dotted black;border-radius: 0.25em;box-sizing: border-box;margin-bottom: 0.5em;}#sk-container-id-1 div.sk-estimator:hover {background-color: #d4ebff;}#sk-container-id-1 div.sk-parallel-item::after {content: \"\";width: 100%;border-bottom: 1px solid gray;flex-grow: 1;}#sk-container-id-1 div.sk-label:hover label.sk-toggleable__label {background-color: #d4ebff;}#sk-container-id-1 div.sk-serial::before {content: \"\";position: absolute;border-left: 1px solid gray;box-sizing: border-box;top: 0;bottom: 0;left: 50%;z-index: 0;}#sk-container-id-1 div.sk-serial {display: flex;flex-direction: column;align-items: center;background-color: white;padding-right: 0.2em;padding-left: 0.2em;position: relative;}#sk-container-id-1 div.sk-item {position: relative;z-index: 1;}#sk-container-id-1 div.sk-parallel {display: flex;align-items: stretch;justify-content: center;background-color: white;position: relative;}#sk-container-id-1 div.sk-item::before, #sk-container-id-1 div.sk-parallel-item::before {content: \"\";position: absolute;border-left: 1px solid gray;box-sizing: border-box;top: 0;bottom: 0;left: 50%;z-index: -1;}#sk-container-id-1 div.sk-parallel-item {display: flex;flex-direction: column;z-index: 1;position: relative;background-color: white;}#sk-container-id-1 div.sk-parallel-item:first-child::after {align-self: flex-end;width: 50%;}#sk-container-id-1 div.sk-parallel-item:last-child::after {align-self: flex-start;width: 50%;}#sk-container-id-1 div.sk-parallel-item:only-child::after {width: 0;}#sk-container-id-1 div.sk-dashed-wrapped {border: 1px dashed gray;margin: 0 0.4em 0.5em 0.4em;box-sizing: border-box;padding-bottom: 0.4em;background-color: white;}#sk-container-id-1 div.sk-label label {font-family: monospace;font-weight: bold;display: inline-block;line-height: 1.2em;}#sk-container-id-1 div.sk-label-container {text-align: center;}#sk-container-id-1 div.sk-container {/* jupyter's `normalize.less` sets `[hidden] { display: none; }` but bootstrap.min.css set `[hidden] { display: none !important; }` so we also need the `!important` here to be able to override the default hidden behavior on the sphinx rendered scikit-learn.org. See: https://github.com/scikit-learn/scikit-learn/issues/21755 */display: inline-block !important;position: relative;}#sk-container-id-1 div.sk-text-repr-fallback {display: none;}</style><div id=\"sk-container-id-1\" class=\"sk-top-container\"><div class=\"sk-text-repr-fallback\"><pre>Ridge(alpha=100.0)</pre><b>In a Jupyter environment, please rerun this cell to show the HTML representation or trust the notebook. <br />On GitHub, the HTML representation is unable to render, please try loading this page with nbviewer.org.</b></div><div class=\"sk-container\" hidden><div class=\"sk-item\"><div class=\"sk-estimator sk-toggleable\"><input class=\"sk-toggleable__control sk-hidden--visually\" id=\"sk-estimator-id-1\" type=\"checkbox\" checked><label for=\"sk-estimator-id-1\" class=\"sk-toggleable__label sk-toggleable__label-arrow\">Ridge</label><div class=\"sk-toggleable__content\"><pre>Ridge(alpha=100.0)</pre></div></div></div></div></div>"
      ],
      "text/plain": [
       "Ridge(alpha=100.0)"
      ]
     },
     "execution_count": 7,
     "metadata": {},
     "output_type": "execute_result"
    }
   ],
   "source": [
    "best_logo_model.fit(X, y, g)"
   ]
  },
  {
   "cell_type": "code",
   "execution_count": 8,
   "id": "6aa08f55-94d8-4f81-a065-d157e8dcfef4",
   "metadata": {},
   "outputs": [
    {
     "data": {
      "text/plain": [
       "0.12774970273483977"
      ]
     },
     "execution_count": 8,
     "metadata": {},
     "output_type": "execute_result"
    }
   ],
   "source": [
    "best_logo_model.score(X, y, g)"
   ]
  },
  {
   "cell_type": "code",
   "execution_count": 9,
   "id": "6a4e5c79-06fb-4f87-876f-cf20cb6eae1b",
   "metadata": {},
   "outputs": [
    {
     "data": {
      "text/html": [
       "<div>\n",
       "<style scoped>\n",
       "    .dataframe tbody tr th:only-of-type {\n",
       "        vertical-align: middle;\n",
       "    }\n",
       "\n",
       "    .dataframe tbody tr th {\n",
       "        vertical-align: top;\n",
       "    }\n",
       "\n",
       "    .dataframe thead th {\n",
       "        text-align: right;\n",
       "    }\n",
       "</style>\n",
       "<table border=\"1\" class=\"dataframe\">\n",
       "  <thead>\n",
       "    <tr style=\"text-align: right;\">\n",
       "      <th></th>\n",
       "      <th>mean_fit_time</th>\n",
       "      <th>std_fit_time</th>\n",
       "      <th>mean_score_time</th>\n",
       "      <th>std_score_time</th>\n",
       "      <th>param_alpha</th>\n",
       "      <th>params</th>\n",
       "      <th>split0_test_score</th>\n",
       "      <th>split1_test_score</th>\n",
       "      <th>mean_test_score</th>\n",
       "      <th>std_test_score</th>\n",
       "      <th>rank_test_score</th>\n",
       "    </tr>\n",
       "  </thead>\n",
       "  <tbody>\n",
       "    <tr>\n",
       "      <th>0</th>\n",
       "      <td>0.001032</td>\n",
       "      <td>3.201962e-04</td>\n",
       "      <td>0.000388</td>\n",
       "      <td>8.451939e-05</td>\n",
       "      <td>0.00001</td>\n",
       "      <td>{'alpha': 1e-05}</td>\n",
       "      <td>-14.999920</td>\n",
       "      <td>-14.999920</td>\n",
       "      <td>-14.999920</td>\n",
       "      <td>2.808667e-15</td>\n",
       "      <td>11</td>\n",
       "    </tr>\n",
       "    <tr>\n",
       "      <th>1</th>\n",
       "      <td>0.000665</td>\n",
       "      <td>2.737045e-04</td>\n",
       "      <td>0.000269</td>\n",
       "      <td>1.513958e-05</td>\n",
       "      <td>0.0001</td>\n",
       "      <td>{'alpha': 0.0001}</td>\n",
       "      <td>-14.999200</td>\n",
       "      <td>-14.999200</td>\n",
       "      <td>-14.999200</td>\n",
       "      <td>2.808667e-15</td>\n",
       "      <td>10</td>\n",
       "    </tr>\n",
       "    <tr>\n",
       "      <th>2</th>\n",
       "      <td>0.000393</td>\n",
       "      <td>6.914139e-06</td>\n",
       "      <td>0.000252</td>\n",
       "      <td>1.072884e-06</td>\n",
       "      <td>0.001</td>\n",
       "      <td>{'alpha': 0.001}</td>\n",
       "      <td>-14.992003</td>\n",
       "      <td>-14.992003</td>\n",
       "      <td>-14.992003</td>\n",
       "      <td>1.256074e-15</td>\n",
       "      <td>9</td>\n",
       "    </tr>\n",
       "    <tr>\n",
       "      <th>3</th>\n",
       "      <td>0.000416</td>\n",
       "      <td>9.584427e-05</td>\n",
       "      <td>0.000220</td>\n",
       "      <td>1.180172e-05</td>\n",
       "      <td>0.01</td>\n",
       "      <td>{'alpha': 0.01}</td>\n",
       "      <td>-14.920305</td>\n",
       "      <td>-14.920305</td>\n",
       "      <td>-14.920305</td>\n",
       "      <td>0.000000e+00</td>\n",
       "      <td>8</td>\n",
       "    </tr>\n",
       "    <tr>\n",
       "      <th>4</th>\n",
       "      <td>0.000327</td>\n",
       "      <td>1.072884e-05</td>\n",
       "      <td>0.000206</td>\n",
       "      <td>2.741814e-06</td>\n",
       "      <td>0.1</td>\n",
       "      <td>{'alpha': 0.1}</td>\n",
       "      <td>-14.229625</td>\n",
       "      <td>-14.229625</td>\n",
       "      <td>-14.229625</td>\n",
       "      <td>4.528839e-15</td>\n",
       "      <td>7</td>\n",
       "    </tr>\n",
       "    <tr>\n",
       "      <th>5</th>\n",
       "      <td>0.000315</td>\n",
       "      <td>2.384186e-07</td>\n",
       "      <td>0.000205</td>\n",
       "      <td>9.536743e-07</td>\n",
       "      <td>1.0</td>\n",
       "      <td>{'alpha': 1.0}</td>\n",
       "      <td>-9.280000</td>\n",
       "      <td>-9.280000</td>\n",
       "      <td>-9.280000</td>\n",
       "      <td>2.808667e-15</td>\n",
       "      <td>6</td>\n",
       "    </tr>\n",
       "    <tr>\n",
       "      <th>6</th>\n",
       "      <td>0.000321</td>\n",
       "      <td>5.483627e-06</td>\n",
       "      <td>0.000214</td>\n",
       "      <td>1.060963e-05</td>\n",
       "      <td>10.0</td>\n",
       "      <td>{'alpha': 10.0}</td>\n",
       "      <td>-0.816327</td>\n",
       "      <td>-0.816327</td>\n",
       "      <td>-0.816327</td>\n",
       "      <td>5.551115e-16</td>\n",
       "      <td>5</td>\n",
       "    </tr>\n",
       "    <tr>\n",
       "      <th>7</th>\n",
       "      <td>0.000359</td>\n",
       "      <td>4.887581e-06</td>\n",
       "      <td>0.000224</td>\n",
       "      <td>1.525879e-05</td>\n",
       "      <td>100.0</td>\n",
       "      <td>{'alpha': 100.0}</td>\n",
       "      <td>0.051775</td>\n",
       "      <td>0.051775</td>\n",
       "      <td>0.051775</td>\n",
       "      <td>2.220446e-16</td>\n",
       "      <td>1</td>\n",
       "    </tr>\n",
       "    <tr>\n",
       "      <th>8</th>\n",
       "      <td>0.000316</td>\n",
       "      <td>1.311302e-06</td>\n",
       "      <td>0.000206</td>\n",
       "      <td>8.344650e-07</td>\n",
       "      <td>1000.0</td>\n",
       "      <td>{'alpha': 1000.0}</td>\n",
       "      <td>0.007698</td>\n",
       "      <td>0.007698</td>\n",
       "      <td>0.007698</td>\n",
       "      <td>0.000000e+00</td>\n",
       "      <td>2</td>\n",
       "    </tr>\n",
       "    <tr>\n",
       "      <th>9</th>\n",
       "      <td>0.000319</td>\n",
       "      <td>1.430511e-06</td>\n",
       "      <td>0.000223</td>\n",
       "      <td>1.728535e-05</td>\n",
       "      <td>10000.0</td>\n",
       "      <td>{'alpha': 10000.0}</td>\n",
       "      <td>0.000797</td>\n",
       "      <td>0.000797</td>\n",
       "      <td>0.000797</td>\n",
       "      <td>0.000000e+00</td>\n",
       "      <td>3</td>\n",
       "    </tr>\n",
       "    <tr>\n",
       "      <th>10</th>\n",
       "      <td>0.000316</td>\n",
       "      <td>8.821487e-06</td>\n",
       "      <td>0.000198</td>\n",
       "      <td>1.072884e-06</td>\n",
       "      <td>100000.0</td>\n",
       "      <td>{'alpha': 100000.0}</td>\n",
       "      <td>0.000080</td>\n",
       "      <td>0.000080</td>\n",
       "      <td>0.000080</td>\n",
       "      <td>2.220446e-16</td>\n",
       "      <td>4</td>\n",
       "    </tr>\n",
       "  </tbody>\n",
       "</table>\n",
       "</div>"
      ],
      "text/plain": [
       "    mean_fit_time  std_fit_time  mean_score_time  std_score_time param_alpha  \\\n",
       "0        0.001032  3.201962e-04         0.000388    8.451939e-05     0.00001   \n",
       "1        0.000665  2.737045e-04         0.000269    1.513958e-05      0.0001   \n",
       "2        0.000393  6.914139e-06         0.000252    1.072884e-06       0.001   \n",
       "3        0.000416  9.584427e-05         0.000220    1.180172e-05        0.01   \n",
       "4        0.000327  1.072884e-05         0.000206    2.741814e-06         0.1   \n",
       "5        0.000315  2.384186e-07         0.000205    9.536743e-07         1.0   \n",
       "6        0.000321  5.483627e-06         0.000214    1.060963e-05        10.0   \n",
       "7        0.000359  4.887581e-06         0.000224    1.525879e-05       100.0   \n",
       "8        0.000316  1.311302e-06         0.000206    8.344650e-07      1000.0   \n",
       "9        0.000319  1.430511e-06         0.000223    1.728535e-05     10000.0   \n",
       "10       0.000316  8.821487e-06         0.000198    1.072884e-06    100000.0   \n",
       "\n",
       "                 params  split0_test_score  split1_test_score  \\\n",
       "0      {'alpha': 1e-05}         -14.999920         -14.999920   \n",
       "1     {'alpha': 0.0001}         -14.999200         -14.999200   \n",
       "2      {'alpha': 0.001}         -14.992003         -14.992003   \n",
       "3       {'alpha': 0.01}         -14.920305         -14.920305   \n",
       "4        {'alpha': 0.1}         -14.229625         -14.229625   \n",
       "5        {'alpha': 1.0}          -9.280000          -9.280000   \n",
       "6       {'alpha': 10.0}          -0.816327          -0.816327   \n",
       "7      {'alpha': 100.0}           0.051775           0.051775   \n",
       "8     {'alpha': 1000.0}           0.007698           0.007698   \n",
       "9    {'alpha': 10000.0}           0.000797           0.000797   \n",
       "10  {'alpha': 100000.0}           0.000080           0.000080   \n",
       "\n",
       "    mean_test_score  std_test_score  rank_test_score  \n",
       "0        -14.999920    2.808667e-15               11  \n",
       "1        -14.999200    2.808667e-15               10  \n",
       "2        -14.992003    1.256074e-15                9  \n",
       "3        -14.920305    0.000000e+00                8  \n",
       "4        -14.229625    4.528839e-15                7  \n",
       "5         -9.280000    2.808667e-15                6  \n",
       "6         -0.816327    5.551115e-16                5  \n",
       "7          0.051775    2.220446e-16                1  \n",
       "8          0.007698    0.000000e+00                2  \n",
       "9          0.000797    0.000000e+00                3  \n",
       "10         0.000080    2.220446e-16                4  "
      ]
     },
     "execution_count": 9,
     "metadata": {},
     "output_type": "execute_result"
    }
   ],
   "source": [
    "pd.DataFrame(ridge_logo_reg.cv_results_)"
   ]
  },
  {
   "cell_type": "code",
   "execution_count": null,
   "id": "36825de6-d1ee-44a3-8fc3-58e06971625f",
   "metadata": {},
   "outputs": [],
   "source": []
  }
 ],
 "metadata": {
  "kernelspec": {
   "display_name": "Python [conda env:mosaiks-env] *",
   "language": "python",
   "name": "conda-env-mosaiks-env-py"
  },
  "language_info": {
   "codemirror_mode": {
    "name": "ipython",
    "version": 3
   },
   "file_extension": ".py",
   "mimetype": "text/x-python",
   "name": "python",
   "nbconvert_exporter": "python",
   "pygments_lexer": "ipython3",
   "version": "3.8.13"
  }
 },
 "nbformat": 4,
 "nbformat_minor": 5
}
